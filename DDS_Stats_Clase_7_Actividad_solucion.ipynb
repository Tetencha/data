{
  "cells": [
    {
      "cell_type": "markdown",
      "metadata": {
        "id": "view-in-github",
        "colab_type": "text"
      },
      "source": [
        "<a href=\"https://colab.research.google.com/github/Tetencha/data/blob/main/DDS_Stats_Clase_7_Actividad_solucion.ipynb\" target=\"_parent\"><img src=\"https://colab.research.google.com/assets/colab-badge.svg\" alt=\"Open In Colab\"/></a>"
      ]
    },
    {
      "cell_type": "markdown",
      "id": "f3d4ebbb",
      "metadata": {
        "id": "f3d4ebbb"
      },
      "source": [
        "## ¿El color vuelve más atractivas las trampas para insectos?\n",
        "\n",
        "El archivo _insectos.txt_ contiene los resultados de un experimento de trampas a insectos. Se diseñaron trampas de las mismas características salvo que diferían en el color, pudiendo ser de color amarillo, azul, blanco y verde. Estas trampas se dejaron expuestas por el mismo período de tiempo y luego se contó  el número de insectos que quedaron atrapados.\n",
        "\n",
        "\n",
        "#### a) Obtenga estadísticas descriptivas del número de insectos atrapados por color de la trampa. Muestre en un gráfico los diagramas de caja para cada color de trampa. ¿Observa diferencias? ¿Qué podría concluir sobre el color de las trampas y la relación con insectos atrapados?"
      ]
    },
    {
      "cell_type": "code",
      "source": [
        "!wget https://raw.githubusercontent.com/joshelml/Datos/main/insectos.txt"
      ],
      "metadata": {
        "id": "QyLWRYyXbPzW",
        "outputId": "d51edac9-c136-47d8-b53e-b03adf2b5d20",
        "colab": {
          "base_uri": "https://localhost:8080/"
        }
      },
      "id": "QyLWRYyXbPzW",
      "execution_count": null,
      "outputs": [
        {
          "output_type": "stream",
          "name": "stdout",
          "text": [
            "--2023-06-20 20:09:20--  https://raw.githubusercontent.com/joshelml/Datos/main/insectos.txt\n",
            "Resolving raw.githubusercontent.com (raw.githubusercontent.com)... 185.199.109.133, 185.199.111.133, 185.199.110.133, ...\n",
            "Connecting to raw.githubusercontent.com (raw.githubusercontent.com)|185.199.109.133|:443... connected.\n",
            "HTTP request sent, awaiting response... 200 OK\n",
            "Length: 276 [text/plain]\n",
            "Saving to: ‘insectos.txt’\n",
            "\n",
            "\rinsectos.txt          0%[                    ]       0  --.-KB/s               \rinsectos.txt        100%[===================>]     276  --.-KB/s    in 0s      \n",
            "\n",
            "2023-06-20 20:09:21 (13.0 MB/s) - ‘insectos.txt’ saved [276/276]\n",
            "\n"
          ]
        }
      ]
    },
    {
      "cell_type": "code",
      "execution_count": null,
      "id": "461fa36a",
      "metadata": {
        "id": "461fa36a",
        "outputId": "4acc64f0-0134-4e78-f6c0-6442aa3184c0",
        "colab": {
          "base_uri": "https://localhost:8080/",
          "height": 802
        }
      },
      "outputs": [
        {
          "output_type": "execute_result",
          "data": {
            "text/plain": [
              "    insectos   colores\n",
              "0         16      azul\n",
              "1         11      azul\n",
              "2         20      azul\n",
              "3         21      azul\n",
              "4         14      azul\n",
              "5          7      azul\n",
              "6         37     verde\n",
              "7         32     verde\n",
              "8         15     verde\n",
              "9         25     verde\n",
              "10        39     verde\n",
              "11        95     verde\n",
              "12        21    blanco\n",
              "13        12    blanco\n",
              "14        14    blanco\n",
              "15        17    blanco\n",
              "16        13    blanco\n",
              "17        17    blanco\n",
              "18        45  amarillo\n",
              "19        59  amarillo\n",
              "20        48  amarillo\n",
              "21        46  amarillo\n",
              "22        38  amarillo\n",
              "23       100  amarillo"
            ],
            "text/html": [
              "\n",
              "  <div id=\"df-a61eeb8f-f131-407d-9982-94d725e759fe\">\n",
              "    <div class=\"colab-df-container\">\n",
              "      <div>\n",
              "<style scoped>\n",
              "    .dataframe tbody tr th:only-of-type {\n",
              "        vertical-align: middle;\n",
              "    }\n",
              "\n",
              "    .dataframe tbody tr th {\n",
              "        vertical-align: top;\n",
              "    }\n",
              "\n",
              "    .dataframe thead th {\n",
              "        text-align: right;\n",
              "    }\n",
              "</style>\n",
              "<table border=\"1\" class=\"dataframe\">\n",
              "  <thead>\n",
              "    <tr style=\"text-align: right;\">\n",
              "      <th></th>\n",
              "      <th>insectos</th>\n",
              "      <th>colores</th>\n",
              "    </tr>\n",
              "  </thead>\n",
              "  <tbody>\n",
              "    <tr>\n",
              "      <th>0</th>\n",
              "      <td>16</td>\n",
              "      <td>azul</td>\n",
              "    </tr>\n",
              "    <tr>\n",
              "      <th>1</th>\n",
              "      <td>11</td>\n",
              "      <td>azul</td>\n",
              "    </tr>\n",
              "    <tr>\n",
              "      <th>2</th>\n",
              "      <td>20</td>\n",
              "      <td>azul</td>\n",
              "    </tr>\n",
              "    <tr>\n",
              "      <th>3</th>\n",
              "      <td>21</td>\n",
              "      <td>azul</td>\n",
              "    </tr>\n",
              "    <tr>\n",
              "      <th>4</th>\n",
              "      <td>14</td>\n",
              "      <td>azul</td>\n",
              "    </tr>\n",
              "    <tr>\n",
              "      <th>5</th>\n",
              "      <td>7</td>\n",
              "      <td>azul</td>\n",
              "    </tr>\n",
              "    <tr>\n",
              "      <th>6</th>\n",
              "      <td>37</td>\n",
              "      <td>verde</td>\n",
              "    </tr>\n",
              "    <tr>\n",
              "      <th>7</th>\n",
              "      <td>32</td>\n",
              "      <td>verde</td>\n",
              "    </tr>\n",
              "    <tr>\n",
              "      <th>8</th>\n",
              "      <td>15</td>\n",
              "      <td>verde</td>\n",
              "    </tr>\n",
              "    <tr>\n",
              "      <th>9</th>\n",
              "      <td>25</td>\n",
              "      <td>verde</td>\n",
              "    </tr>\n",
              "    <tr>\n",
              "      <th>10</th>\n",
              "      <td>39</td>\n",
              "      <td>verde</td>\n",
              "    </tr>\n",
              "    <tr>\n",
              "      <th>11</th>\n",
              "      <td>95</td>\n",
              "      <td>verde</td>\n",
              "    </tr>\n",
              "    <tr>\n",
              "      <th>12</th>\n",
              "      <td>21</td>\n",
              "      <td>blanco</td>\n",
              "    </tr>\n",
              "    <tr>\n",
              "      <th>13</th>\n",
              "      <td>12</td>\n",
              "      <td>blanco</td>\n",
              "    </tr>\n",
              "    <tr>\n",
              "      <th>14</th>\n",
              "      <td>14</td>\n",
              "      <td>blanco</td>\n",
              "    </tr>\n",
              "    <tr>\n",
              "      <th>15</th>\n",
              "      <td>17</td>\n",
              "      <td>blanco</td>\n",
              "    </tr>\n",
              "    <tr>\n",
              "      <th>16</th>\n",
              "      <td>13</td>\n",
              "      <td>blanco</td>\n",
              "    </tr>\n",
              "    <tr>\n",
              "      <th>17</th>\n",
              "      <td>17</td>\n",
              "      <td>blanco</td>\n",
              "    </tr>\n",
              "    <tr>\n",
              "      <th>18</th>\n",
              "      <td>45</td>\n",
              "      <td>amarillo</td>\n",
              "    </tr>\n",
              "    <tr>\n",
              "      <th>19</th>\n",
              "      <td>59</td>\n",
              "      <td>amarillo</td>\n",
              "    </tr>\n",
              "    <tr>\n",
              "      <th>20</th>\n",
              "      <td>48</td>\n",
              "      <td>amarillo</td>\n",
              "    </tr>\n",
              "    <tr>\n",
              "      <th>21</th>\n",
              "      <td>46</td>\n",
              "      <td>amarillo</td>\n",
              "    </tr>\n",
              "    <tr>\n",
              "      <th>22</th>\n",
              "      <td>38</td>\n",
              "      <td>amarillo</td>\n",
              "    </tr>\n",
              "    <tr>\n",
              "      <th>23</th>\n",
              "      <td>100</td>\n",
              "      <td>amarillo</td>\n",
              "    </tr>\n",
              "  </tbody>\n",
              "</table>\n",
              "</div>\n",
              "      <button class=\"colab-df-convert\" onclick=\"convertToInteractive('df-a61eeb8f-f131-407d-9982-94d725e759fe')\"\n",
              "              title=\"Convert this dataframe to an interactive table.\"\n",
              "              style=\"display:none;\">\n",
              "        \n",
              "  <svg xmlns=\"http://www.w3.org/2000/svg\" height=\"24px\"viewBox=\"0 0 24 24\"\n",
              "       width=\"24px\">\n",
              "    <path d=\"M0 0h24v24H0V0z\" fill=\"none\"/>\n",
              "    <path d=\"M18.56 5.44l.94 2.06.94-2.06 2.06-.94-2.06-.94-.94-2.06-.94 2.06-2.06.94zm-11 1L8.5 8.5l.94-2.06 2.06-.94-2.06-.94L8.5 2.5l-.94 2.06-2.06.94zm10 10l.94 2.06.94-2.06 2.06-.94-2.06-.94-.94-2.06-.94 2.06-2.06.94z\"/><path d=\"M17.41 7.96l-1.37-1.37c-.4-.4-.92-.59-1.43-.59-.52 0-1.04.2-1.43.59L10.3 9.45l-7.72 7.72c-.78.78-.78 2.05 0 2.83L4 21.41c.39.39.9.59 1.41.59.51 0 1.02-.2 1.41-.59l7.78-7.78 2.81-2.81c.8-.78.8-2.07 0-2.86zM5.41 20L4 18.59l7.72-7.72 1.47 1.35L5.41 20z\"/>\n",
              "  </svg>\n",
              "      </button>\n",
              "      \n",
              "  <style>\n",
              "    .colab-df-container {\n",
              "      display:flex;\n",
              "      flex-wrap:wrap;\n",
              "      gap: 12px;\n",
              "    }\n",
              "\n",
              "    .colab-df-convert {\n",
              "      background-color: #E8F0FE;\n",
              "      border: none;\n",
              "      border-radius: 50%;\n",
              "      cursor: pointer;\n",
              "      display: none;\n",
              "      fill: #1967D2;\n",
              "      height: 32px;\n",
              "      padding: 0 0 0 0;\n",
              "      width: 32px;\n",
              "    }\n",
              "\n",
              "    .colab-df-convert:hover {\n",
              "      background-color: #E2EBFA;\n",
              "      box-shadow: 0px 1px 2px rgba(60, 64, 67, 0.3), 0px 1px 3px 1px rgba(60, 64, 67, 0.15);\n",
              "      fill: #174EA6;\n",
              "    }\n",
              "\n",
              "    [theme=dark] .colab-df-convert {\n",
              "      background-color: #3B4455;\n",
              "      fill: #D2E3FC;\n",
              "    }\n",
              "\n",
              "    [theme=dark] .colab-df-convert:hover {\n",
              "      background-color: #434B5C;\n",
              "      box-shadow: 0px 1px 3px 1px rgba(0, 0, 0, 0.15);\n",
              "      filter: drop-shadow(0px 1px 2px rgba(0, 0, 0, 0.3));\n",
              "      fill: #FFFFFF;\n",
              "    }\n",
              "  </style>\n",
              "\n",
              "      <script>\n",
              "        const buttonEl =\n",
              "          document.querySelector('#df-a61eeb8f-f131-407d-9982-94d725e759fe button.colab-df-convert');\n",
              "        buttonEl.style.display =\n",
              "          google.colab.kernel.accessAllowed ? 'block' : 'none';\n",
              "\n",
              "        async function convertToInteractive(key) {\n",
              "          const element = document.querySelector('#df-a61eeb8f-f131-407d-9982-94d725e759fe');\n",
              "          const dataTable =\n",
              "            await google.colab.kernel.invokeFunction('convertToInteractive',\n",
              "                                                     [key], {});\n",
              "          if (!dataTable) return;\n",
              "\n",
              "          const docLinkHtml = 'Like what you see? Visit the ' +\n",
              "            '<a target=\"_blank\" href=https://colab.research.google.com/notebooks/data_table.ipynb>data table notebook</a>'\n",
              "            + ' to learn more about interactive tables.';\n",
              "          element.innerHTML = '';\n",
              "          dataTable['output_type'] = 'display_data';\n",
              "          await google.colab.output.renderOutput(dataTable, element);\n",
              "          const docLink = document.createElement('div');\n",
              "          docLink.innerHTML = docLinkHtml;\n",
              "          element.appendChild(docLink);\n",
              "        }\n",
              "      </script>\n",
              "    </div>\n",
              "  </div>\n",
              "  "
            ]
          },
          "metadata": {},
          "execution_count": 2
        }
      ],
      "source": [
        "import pandas as pd\n",
        "data = pd.read_csv(\"insectos.txt\", sep=\" \")\n",
        "data"
      ]
    },
    {
      "cell_type": "code",
      "execution_count": null,
      "id": "a818936b",
      "metadata": {
        "id": "a818936b"
      },
      "outputs": [],
      "source": [
        "### Promedios por color\n",
        "promedios_colores = data.groupby('colores').agg(['count','mean'])"
      ]
    },
    {
      "cell_type": "code",
      "execution_count": null,
      "id": "f1cb7dc9",
      "metadata": {
        "id": "f1cb7dc9",
        "outputId": "d0522152-539f-4a5e-f3d7-2bb9cd66b811",
        "colab": {
          "base_uri": "https://localhost:8080/",
          "height": 449
        }
      },
      "outputs": [
        {
          "output_type": "display_data",
          "data": {
            "text/plain": [
              "<Figure size 640x480 with 1 Axes>"
            ],
            "image/png": "[encoded data removed]"
          },
          "metadata": {}
        }
      ],
      "source": [
        "import seaborn as sns\n",
        "import matplotlib.pyplot as plt\n",
        "### Gráfico\n",
        "### Sería genial, si cada color tuviera su color respectivo!\n",
        "my_pal = {\"azul\": \"blue\", \"verde\": \"green\", \"blanco\":\"white\", \"amarillo\":\"yellow\"}\n",
        "\n",
        "sns.boxplot(x = data[\"colores\"],\n",
        "            y = data[\"insectos\"],\n",
        "            palette=my_pal)\n",
        "plt.show()"
      ]
    },
    {
      "cell_type": "markdown",
      "id": "3e98837e",
      "metadata": {
        "id": "3e98837e"
      },
      "source": [
        "#### b) En el gráfico realizado en el apartado anterior, existen dos puntos alejados de los diagramas de caja en las trampas verde y amarillo. ¿Cómo pudieran afectar estas observaciones al momento de calcular los promedios por grupo para el modelo anova? Comente.\n",
        "\n",
        "Estas observaciones al estar muy alejadas del resto de los datos (también conocidas como observaciones atípicas o en algunos casos, extremas), inflarán el promedio del número de insectos atrapados, generando promedios muy altos para los grupos verde y amarillo, lo cual puede generar residuos muy grandes del modelo en estas categorías.\n"
      ]
    },
    {
      "cell_type": "markdown",
      "id": "06b4448b",
      "metadata": {
        "id": "06b4448b"
      },
      "source": [
        "#### c) Identifique la variable respuesta, el factor y sus niveles. Plantee el modelo a utilizar y ajústelo en Python, obtenga la tabla ANOVA realice el test F de significancia con un 90% de confianza (explicite las hipótesis del test).\n",
        "\n",
        "La variable respuesta es el promedio del número de insectos atrapados. La variable factor corresponden a las trampas y toma 4 niveles (amarillo, azul, blanco y verde).\n",
        "El modelo es:\n",
        "\n",
        "$$Y_{ij}= \\mu_{i} + \\epsilon_{ij}$$\n",
        "\n",
        "Donde $\\mu_{i}=\\mu+\\alpha_{i}$, $\\epsilon_{ij} \\sim^{ind} N(0, \\sigma^2)$ e $i = 1,..., r$ , $j = 1,..., n_i$\n",
        "\n",
        "Para ajustar el modelo en Python, debemos definir la variable color de trampa como factor:"
      ]
    },
    {
      "cell_type": "code",
      "execution_count": null,
      "id": "241c8c69",
      "metadata": {
        "id": "241c8c69",
        "outputId": "967f07d2-65f1-4f19-dce4-1c7120ed38be",
        "colab": {
          "base_uri": "https://localhost:8080/",
          "height": 112
        }
      },
      "outputs": [
        {
          "output_type": "execute_result",
          "data": {
            "text/plain": [
              "               sum_sq    df         F    PR(>F)\n",
              "colores   7256.833333   3.0  7.221089  0.001804\n",
              "Residual  6699.666667  20.0       NaN       NaN"
            ],
            "text/html": [
              "\n",
              "  <div id=\"df-8b826d59-061b-4f25-b22d-d1f351d2f77f\">\n",
              "    <div class=\"colab-df-container\">\n",
              "      <div>\n",
              "<style scoped>\n",
              "    .dataframe tbody tr th:only-of-type {\n",
              "        vertical-align: middle;\n",
              "    }\n",
              "\n",
              "    .dataframe tbody tr th {\n",
              "        vertical-align: top;\n",
              "    }\n",
              "\n",
              "    .dataframe thead th {\n",
              "        text-align: right;\n",
              "    }\n",
              "</style>\n",
              "<table border=\"1\" class=\"dataframe\">\n",
              "  <thead>\n",
              "    <tr style=\"text-align: right;\">\n",
              "      <th></th>\n",
              "      <th>sum_sq</th>\n",
              "      <th>df</th>\n",
              "      <th>F</th>\n",
              "      <th>PR(&gt;F)</th>\n",
              "    </tr>\n",
              "  </thead>\n",
              "  <tbody>\n",
              "    <tr>\n",
              "      <th>colores</th>\n",
              "      <td>7256.833333</td>\n",
              "      <td>3.0</td>\n",
              "      <td>7.221089</td>\n",
              "      <td>0.001804</td>\n",
              "    </tr>\n",
              "    <tr>\n",
              "      <th>Residual</th>\n",
              "      <td>6699.666667</td>\n",
              "      <td>20.0</td>\n",
              "      <td>NaN</td>\n",
              "      <td>NaN</td>\n",
              "    </tr>\n",
              "  </tbody>\n",
              "</table>\n",
              "</div>\n",
              "      <button class=\"colab-df-convert\" onclick=\"convertToInteractive('df-8b826d59-061b-4f25-b22d-d1f351d2f77f')\"\n",
              "              title=\"Convert this dataframe to an interactive table.\"\n",
              "              style=\"display:none;\">\n",
              "        \n",
              "  <svg xmlns=\"http://www.w3.org/2000/svg\" height=\"24px\"viewBox=\"0 0 24 24\"\n",
              "       width=\"24px\">\n",
              "    <path d=\"M0 0h24v24H0V0z\" fill=\"none\"/>\n",
              "    <path d=\"M18.56 5.44l.94 2.06.94-2.06 2.06-.94-2.06-.94-.94-2.06-.94 2.06-2.06.94zm-11 1L8.5 8.5l.94-2.06 2.06-.94-2.06-.94L8.5 2.5l-.94 2.06-2.06.94zm10 10l.94 2.06.94-2.06 2.06-.94-2.06-.94-.94-2.06-.94 2.06-2.06.94z\"/><path d=\"M17.41 7.96l-1.37-1.37c-.4-.4-.92-.59-1.43-.59-.52 0-1.04.2-1.43.59L10.3 9.45l-7.72 7.72c-.78.78-.78 2.05 0 2.83L4 21.41c.39.39.9.59 1.41.59.51 0 1.02-.2 1.41-.59l7.78-7.78 2.81-2.81c.8-.78.8-2.07 0-2.86zM5.41 20L4 18.59l7.72-7.72 1.47 1.35L5.41 20z\"/>\n",
              "  </svg>\n",
              "      </button>\n",
              "      \n",
              "  <style>\n",
              "    .colab-df-container {\n",
              "      display:flex;\n",
              "      flex-wrap:wrap;\n",
              "      gap: 12px;\n",
              "    }\n",
              "\n",
              "    .colab-df-convert {\n",
              "      background-color: #E8F0FE;\n",
              "      border: none;\n",
              "      border-radius: 50%;\n",
              "      cursor: pointer;\n",
              "      display: none;\n",
              "      fill: #1967D2;\n",
              "      height: 32px;\n",
              "      padding: 0 0 0 0;\n",
              "      width: 32px;\n",
              "    }\n",
              "\n",
              "    .colab-df-convert:hover {\n",
              "      background-color: #E2EBFA;\n",
              "      box-shadow: 0px 1px 2px rgba(60, 64, 67, 0.3), 0px 1px 3px 1px rgba(60, 64, 67, 0.15);\n",
              "      fill: #174EA6;\n",
              "    }\n",
              "\n",
              "    [theme=dark] .colab-df-convert {\n",
              "      background-color: #3B4455;\n",
              "      fill: #D2E3FC;\n",
              "    }\n",
              "\n",
              "    [theme=dark] .colab-df-convert:hover {\n",
              "      background-color: #434B5C;\n",
              "      box-shadow: 0px 1px 3px 1px rgba(0, 0, 0, 0.15);\n",
              "      filter: drop-shadow(0px 1px 2px rgba(0, 0, 0, 0.3));\n",
              "      fill: #FFFFFF;\n",
              "    }\n",
              "  </style>\n",
              "\n",
              "      <script>\n",
              "        const buttonEl =\n",
              "          document.querySelector('#df-8b826d59-061b-4f25-b22d-d1f351d2f77f button.colab-df-convert');\n",
              "        buttonEl.style.display =\n",
              "          google.colab.kernel.accessAllowed ? 'block' : 'none';\n",
              "\n",
              "        async function convertToInteractive(key) {\n",
              "          const element = document.querySelector('#df-8b826d59-061b-4f25-b22d-d1f351d2f77f');\n",
              "          const dataTable =\n",
              "            await google.colab.kernel.invokeFunction('convertToInteractive',\n",
              "                                                     [key], {});\n",
              "          if (!dataTable) return;\n",
              "\n",
              "          const docLinkHtml = 'Like what you see? Visit the ' +\n",
              "            '<a target=\"_blank\" href=https://colab.research.google.com/notebooks/data_table.ipynb>data table notebook</a>'\n",
              "            + ' to learn more about interactive tables.';\n",
              "          element.innerHTML = '';\n",
              "          dataTable['output_type'] = 'display_data';\n",
              "          await google.colab.output.renderOutput(dataTable, element);\n",
              "          const docLink = document.createElement('div');\n",
              "          docLink.innerHTML = docLinkHtml;\n",
              "          element.appendChild(docLink);\n",
              "        }\n",
              "      </script>\n",
              "    </div>\n",
              "  </div>\n",
              "  "
            ]
          },
          "metadata": {},
          "execution_count": 5
        }
      ],
      "source": [
        "import statsmodels.formula.api as smf\n",
        "import statsmodels.api as sa\n",
        "modelo = smf.ols('insectos ~ colores', data = data).fit()\n",
        "anova_resultados = sa.stats.anova_lm(modelo,  typ=2)\n",
        "anova_resultados"
      ]
    },
    {
      "cell_type": "markdown",
      "id": "96729107",
      "metadata": {
        "id": "96729107"
      },
      "source": [
        "Las hipótesis a testear son:\n",
        "\n",
        "- $H_0: \\mu_{amarillo}=\\mu_{azul}=\\mu_{blanco}=\\mu_{verde}$\n",
        "- $H_A$: Existe al menos un par de medias que difiere\n",
        "\n",
        "El valor - p  es menor que $\\alpha=10\\%$ por lo tanto se rechaza que las medias de la cantidad de insectos atrapados sea igual para todos los colores de trampas.\n"
      ]
    },
    {
      "cell_type": "markdown",
      "id": "cd3df8bf",
      "metadata": {
        "id": "cd3df8bf"
      },
      "source": [
        "#### d) Para realizar una revisión del supuesto de normalidad de los residuos del modelo siga los siguientes pasos:\n",
        "\n",
        "#### d.1) Obtenga los residuos del modelo usando la función _resid()_ evaluada en el modelo creado.\n"
      ]
    },
    {
      "cell_type": "code",
      "execution_count": null,
      "id": "6d1c0a6f",
      "metadata": {
        "id": "6d1c0a6f",
        "outputId": "949dcdf9-d1d1-49ed-9991-5c94e1a88a5e",
        "colab": {
          "base_uri": "https://localhost:8080/"
        }
      },
      "outputs": [
        {
          "output_type": "execute_result",
          "data": {
            "text/plain": [
              "0      1.166667\n",
              "1     -3.833333\n",
              "2      5.166667\n",
              "3      6.166667\n",
              "4     -0.833333\n",
              "5     -7.833333\n",
              "6     -3.500000\n",
              "7     -8.500000\n",
              "8    -25.500000\n",
              "9    -15.500000\n",
              "10    -1.500000\n",
              "11    54.500000\n",
              "12     5.333333\n",
              "13    -3.666667\n",
              "14    -1.666667\n",
              "15     1.333333\n",
              "16    -2.666667\n",
              "17     1.333333\n",
              "18   -11.000000\n",
              "19     3.000000\n",
              "20    -8.000000\n",
              "21   -10.000000\n",
              "22   -18.000000\n",
              "23    44.000000\n",
              "dtype: float64"
            ]
          },
          "metadata": {},
          "execution_count": 6
        }
      ],
      "source": [
        "modelo.resid"
      ]
    },
    {
      "cell_type": "markdown",
      "id": "bde610f7",
      "metadata": {
        "id": "bde610f7"
      },
      "source": [
        "#### d.2) Obtenga los residuos estandarizados del modelo utilizando la función _.get_influence()_ y luego _.resid_studentized_internal_ evaluada en el modelo creado.\n"
      ]
    },
    {
      "cell_type": "code",
      "execution_count": null,
      "id": "e9fa98b4",
      "metadata": {
        "id": "e9fa98b4",
        "outputId": "5cce1de1-1014-431f-f104-66ad6f2ab8e9",
        "colab": {
          "base_uri": "https://localhost:8080/"
        }
      },
      "outputs": [
        {
          "output_type": "stream",
          "name": "stdout",
          "text": [
            "[ 0.06982739 -0.22943285  0.30923559  0.36908764 -0.04987671 -0.46884105\n",
            " -0.20948217 -0.50874242 -1.52622725 -0.92770676 -0.08977807  3.26193667\n",
            "  0.31921093 -0.21945751 -0.09975342  0.07980273 -0.15960546  0.07980273\n",
            " -0.65837254  0.17955615 -0.47881639 -0.59852049 -1.07733688  2.63349016]\n"
          ]
        }
      ],
      "source": [
        "influence = modelo.get_influence()\n",
        "standardized_residuals = influence.resid_studentized_internal\n",
        "print(standardized_residuals)"
      ]
    },
    {
      "cell_type": "markdown",
      "id": "67d288dc",
      "metadata": {
        "id": "67d288dc"
      },
      "source": [
        "#### d.3) Estudie gráficamente el supuesto de Normalidad cree una dataframe con los residuos luego obtenga el gráfico cuantil-cuantil. Comente."
      ]
    },
    {
      "cell_type": "code",
      "execution_count": null,
      "id": "e40929d3",
      "metadata": {
        "id": "e40929d3",
        "outputId": "6678ec4a-5c1c-4734-864f-3cc43d9a54c8",
        "colab": {
          "base_uri": "https://localhost:8080/",
          "height": 472
        }
      },
      "outputs": [
        {
          "output_type": "display_data",
          "data": {
            "text/plain": [
              "<Figure size 640x480 with 1 Axes>"
            ],
            "image/png": "[encoded data removed]"
          },
          "metadata": {}
        }
      ],
      "source": [
        "import statsmodels.api as sm\n",
        "fig = sm.qqplot(standardized_residuals, line = 'q', fit = True)\n",
        "plt.title('Gráfico de residuos estandarizados')\n",
        "plt.show()"
      ]
    },
    {
      "cell_type": "markdown",
      "id": "3f50e50c",
      "metadata": {
        "id": "3f50e50c"
      },
      "source": [
        "Las hipótesis son:\n",
        "- H_0: Errores distribuyen normal versus H_1: Errores no distribuyen normal"
      ]
    },
    {
      "cell_type": "code",
      "execution_count": null,
      "id": "48d6f36f",
      "metadata": {
        "id": "48d6f36f",
        "outputId": "d4518b31-b9dd-44c0-8563-97945ac46954",
        "colab": {
          "base_uri": "https://localhost:8080/"
        }
      },
      "outputs": [
        {
          "output_type": "stream",
          "name": "stdout",
          "text": [
            "Estadístico de prueba: 0.761\n",
            "P-valor: 0.0\n"
          ]
        }
      ],
      "source": [
        "from scipy.stats import shapiro\n",
        "stat, p_valor = shapiro(modelo.resid)\n",
        "stat = round(stat, 3)\n",
        "p_valor = round(p_valor, 3)\n",
        "print(f\"Estadístico de prueba: {stat}\")\n",
        "print(f\"P-valor: {p_valor}\")"
      ]
    },
    {
      "cell_type": "markdown",
      "id": "3d2e204d",
      "metadata": {
        "id": "3d2e204d"
      },
      "source": [
        "El supuesto de normalidad se rechaza, dado que su valor - p es aproximadamente cero, por lo tanto no se estaría cumpliendo el supuesto de normalidad. ¿Posible razón de que no se cumpla el supuesto de normalidad? En el gráfico se observan dos casos muy alejados del resto de los datos.\n",
        "\n",
        "Los outliers que detectamos al principio en el análisis descriptivo. Existen técnicas para casos que no cumplen el supuesto de normalidad, se mencionarán más adelante."
      ]
    },
    {
      "cell_type": "code",
      "execution_count": null,
      "id": "aae76b77",
      "metadata": {
        "id": "aae76b77"
      },
      "outputs": [],
      "source": []
    }
  ],
  "metadata": {
    "kernelspec": {
      "display_name": "Python 3 (ipykernel)",
      "language": "python",
      "name": "python3"
    },
    "language_info": {
      "codemirror_mode": {
        "name": "ipython",
        "version": 3
      },
      "file_extension": ".py",
      "mimetype": "text/x-python",
      "name": "python",
      "nbconvert_exporter": "python",
      "pygments_lexer": "ipython3",
      "version": "3.11.3"
    },
    "colab": {
      "provenance": [],
      "include_colab_link": true
    }
  },
  "nbformat": 4,
  "nbformat_minor": 5
}