{
  "cells": [
    {
      "cell_type": "markdown",
      "metadata": {
        "id": "view-in-github",
        "colab_type": "text"
      },
      "source": [
        "<a href=\"https://colab.research.google.com/github/Tetencha/data/blob/main/DDS_Stats_Clase_2_Resolucion_Actividad.ipynb\" target=\"_parent\"><img src=\"https://colab.research.google.com/assets/colab-badge.svg\" alt=\"Open In Colab\"/></a>"
      ]
    },
    {
      "cell_type": "markdown",
      "metadata": {
        "id": "CaSj8e-vxl4j"
      },
      "source": [
        "## Actividad"
      ]
    },
    {
      "cell_type": "markdown",
      "metadata": {
        "id": "6vnKhftyxl4u"
      },
      "source": [
        "<p> La base de datos <code>salud.xlsx</code> contiene información reúne información de 350 niños  en edad escolar, que provienen de distintos tipos de colegio. Las variables en cuestión son: </p>\n",
        "\n",
        "| Variable | Descripción |\n",
        "| -------- | ----------- |\n",
        "| `id` | Identificación del niño. |\n",
        "| `t_ejercicio` | Horas mensuales dedicadas a ejercicio. |\n",
        "| `calorias`  |Consumo diario de calorías |\n",
        "| `IMC`  | Índice de masa corporal. |        \n",
        "| `sexo` |  Sexo de la persona. |\n",
        "| `colegio` | Tipo de colegio (Municipal, Particular o Subvencionado) |\n",
        "| `rendimiento`  | Rendimiento (Alto, Medio o Bajo) |\n",
        "\n",
        "<p>Las base de datos se encuesta disponible para descargar en la plataforma del curso o de manera directa en el siguiente <a href='https://drive.google.com/file/d/1uDYrPZeebn0i0fEIJFiKnx-BWpK3lcaG/view?usp=sharing'><b>link</b></a>.</p>\n"
      ]
    },
    {
      "cell_type": "markdown",
      "metadata": {
        "id": "a5dI02-Hxl41"
      },
      "source": [
        "1.- Cargue la base de datos en Python y realice un análisis breve de ellas, indicando el tipo de cada variable.\n",
        "\n",
        "2.- Usando el comando <code>crosstab()</code> y calculando las proporciones, responda las siguientes preguntas:\n",
        "\n",
        "<ol type=\"a\">\n",
        "\t<li><p> ¿Cuál es la probabilidad de pertenecer a colegio municipal? </p></li>\n",
        "\t<li><p> ¿Cuál es la probabilidad de ser de sexo femenino dado que se pertenece a colegio municipal? </p></li>\n",
        "\t<li><p> ¿Cuál es la probabilidad de pertenecer a colegio municipal dado que se es de sexo Femenino?</p></li>\n",
        "\t<li><p> ¿Cuál es la probabilidad de tener un IMC entre 22 y 25? </p></li>\n",
        "\t<li><p> ¿Cuál es la probabilidad de ser de tener un IMC entre 22 y 25 dado que se pertenece a colegio municipal? </p></li>\n",
        "\t<li><p> ¿Cuál es la probabilidad de pertenecer a colegio particular dado que el IMC está entre 19 y 22? </p></li>\n",
        "</ol>"
      ]
    },
    {
      "cell_type": "markdown",
      "metadata": {
        "id": "bWVDHpExxl42"
      },
      "source": [
        "## Solución\n",
        "1.- Cargue la base de datos en Python y realice un análisis breve de ellas, indicando el tipo de cada variable."
      ]
    },
    {
      "cell_type": "code",
      "execution_count": null,
      "metadata": {
        "id": "yHeJENYHxl43",
        "outputId": "570beef4-7369-4a75-8209-dff1cc0eae8a"
      },
      "outputs": [
        {
          "name": "stderr",
          "output_type": "stream",
          "text": [
            "/Library/Frameworks/Python.framework/Versions/3.7/lib/python3.7/site-packages/openpyxl/styles/stylesheet.py:226: UserWarning: Workbook contains no default style, apply openpyxl's default\n",
            "  warn(\"Workbook contains no default style, apply openpyxl's default\")\n"
          ]
        }
      ],
      "source": [
        "import pandas as pd\n",
        "# Cargamos la base de datos usando pandas\n",
        "b = pd.read_excel('salud.xlsx')"
      ]
    },
    {
      "cell_type": "markdown",
      "metadata": {
        "id": "sbmdZ0wixl48"
      },
      "source": [
        "2.- Usando el comando <code>crosstab()</code> y calculando las proporciones, responda las siguientes preguntas:\n",
        "\n",
        "1. ¿Cuál es la probabilidad de pertenecer a colegio municipal?"
      ]
    },
    {
      "cell_type": "code",
      "execution_count": null,
      "metadata": {
        "id": "UF9VMyyPxl49",
        "outputId": "4da834ef-2928-4ace-eda6-e713ea595f8d"
      },
      "outputs": [
        {
          "data": {
            "text/html": [
              "<div>\n",
              "<style scoped>\n",
              "    .dataframe tbody tr th:only-of-type {\n",
              "        vertical-align: middle;\n",
              "    }\n",
              "\n",
              "    .dataframe tbody tr th {\n",
              "        vertical-align: top;\n",
              "    }\n",
              "\n",
              "    .dataframe thead th {\n",
              "        text-align: right;\n",
              "    }\n",
              "</style>\n",
              "<table border=\"1\" class=\"dataframe\">\n",
              "  <thead>\n",
              "    <tr style=\"text-align: right;\">\n",
              "      <th>colegio</th>\n",
              "      <th>Municipal</th>\n",
              "      <th>Particular</th>\n",
              "      <th>Subvencionado</th>\n",
              "      <th>All</th>\n",
              "    </tr>\n",
              "    <tr>\n",
              "      <th>sexo</th>\n",
              "      <th></th>\n",
              "      <th></th>\n",
              "      <th></th>\n",
              "      <th></th>\n",
              "    </tr>\n",
              "  </thead>\n",
              "  <tbody>\n",
              "    <tr>\n",
              "      <th>Femenino</th>\n",
              "      <td>4.857143</td>\n",
              "      <td>13.428571</td>\n",
              "      <td>22.285714</td>\n",
              "      <td>40.571429</td>\n",
              "    </tr>\n",
              "    <tr>\n",
              "      <th>Masculino</th>\n",
              "      <td>8.285714</td>\n",
              "      <td>16.571429</td>\n",
              "      <td>34.571429</td>\n",
              "      <td>59.428571</td>\n",
              "    </tr>\n",
              "    <tr>\n",
              "      <th>All</th>\n",
              "      <td>13.142857</td>\n",
              "      <td>30.000000</td>\n",
              "      <td>56.857143</td>\n",
              "      <td>100.000000</td>\n",
              "    </tr>\n",
              "  </tbody>\n",
              "</table>\n",
              "</div>"
            ],
            "text/plain": [
              "colegio    Municipal  Particular  Subvencionado         All\n",
              "sexo                                                       \n",
              "Femenino    4.857143   13.428571      22.285714   40.571429\n",
              "Masculino   8.285714   16.571429      34.571429   59.428571\n",
              "All        13.142857   30.000000      56.857143  100.000000"
            ]
          },
          "execution_count": 4,
          "metadata": {},
          "output_type": "execute_result"
        }
      ],
      "source": [
        "# Con el comando crosstab() realizamos una tabla donde las filas es el sexo y las columnas el colegio\n",
        "pd.crosstab(b['sexo'], b['colegio'])\n",
        "\n",
        "# a)\n",
        "## Guardamos la tabla como t1\n",
        "t1 = pd.crosstab(b['sexo'], b['colegio'], margins=True)\n",
        "\n",
        "(t1/t1.loc[\"All\", \"All\"])*100\n",
        "\n",
        "##  Luego, la probabilidad de pertenecer a un colegio municipal = 13.1%"
      ]
    },
    {
      "cell_type": "markdown",
      "metadata": {
        "id": "8M_V1iQzxl4_"
      },
      "source": [
        "2. ¿Cuál es la probabilidad de ser de sexo femenino dado que se pertenece a colegio municipal?"
      ]
    },
    {
      "cell_type": "code",
      "execution_count": null,
      "metadata": {
        "id": "K2VKc2uuxl5A",
        "outputId": "8de0141e-6ed4-4d0e-d8cc-ea1f4f4225c1"
      },
      "outputs": [
        {
          "data": {
            "text/html": [
              "<div>\n",
              "<style scoped>\n",
              "    .dataframe tbody tr th:only-of-type {\n",
              "        vertical-align: middle;\n",
              "    }\n",
              "\n",
              "    .dataframe tbody tr th {\n",
              "        vertical-align: top;\n",
              "    }\n",
              "\n",
              "    .dataframe thead th {\n",
              "        text-align: right;\n",
              "    }\n",
              "</style>\n",
              "<table border=\"1\" class=\"dataframe\">\n",
              "  <thead>\n",
              "    <tr style=\"text-align: right;\">\n",
              "      <th>colegio</th>\n",
              "      <th>Municipal</th>\n",
              "      <th>Particular</th>\n",
              "      <th>Subvencionado</th>\n",
              "      <th>All</th>\n",
              "    </tr>\n",
              "    <tr>\n",
              "      <th>sexo</th>\n",
              "      <th></th>\n",
              "      <th></th>\n",
              "      <th></th>\n",
              "      <th></th>\n",
              "    </tr>\n",
              "  </thead>\n",
              "  <tbody>\n",
              "    <tr>\n",
              "      <th>Femenino</th>\n",
              "      <td>36.956522</td>\n",
              "      <td>44.761905</td>\n",
              "      <td>39.19598</td>\n",
              "      <td>40.571429</td>\n",
              "    </tr>\n",
              "    <tr>\n",
              "      <th>Masculino</th>\n",
              "      <td>63.043478</td>\n",
              "      <td>55.238095</td>\n",
              "      <td>60.80402</td>\n",
              "      <td>59.428571</td>\n",
              "    </tr>\n",
              "    <tr>\n",
              "      <th>All</th>\n",
              "      <td>100.000000</td>\n",
              "      <td>100.000000</td>\n",
              "      <td>100.00000</td>\n",
              "      <td>100.000000</td>\n",
              "    </tr>\n",
              "  </tbody>\n",
              "</table>\n",
              "</div>"
            ],
            "text/plain": [
              "colegio     Municipal  Particular  Subvencionado         All\n",
              "sexo                                                        \n",
              "Femenino    36.956522   44.761905       39.19598   40.571429\n",
              "Masculino   63.043478   55.238095       60.80402   59.428571\n",
              "All        100.000000  100.000000      100.00000  100.000000"
            ]
          },
          "execution_count": 5,
          "metadata": {},
          "output_type": "execute_result"
        }
      ],
      "source": [
        "# b)\n",
        "\n",
        "(t1/t1.loc[\"All\"])*100\n",
        "\n",
        "## Luego, la probabilidad sexo femenino DADO colegio municipal = 37.0%"
      ]
    },
    {
      "cell_type": "markdown",
      "metadata": {
        "id": "0Bzdesntxl5A"
      },
      "source": [
        "3. ¿Cuál es la probabilidad de pertenecer a colegio municipal dado que se es de sexo Femenino?"
      ]
    },
    {
      "cell_type": "code",
      "execution_count": null,
      "metadata": {
        "id": "DDWICxMaxl5B",
        "outputId": "7f36659e-4fcc-4544-db7c-95ff2376c59c"
      },
      "outputs": [
        {
          "data": {
            "text/html": [
              "<div>\n",
              "<style scoped>\n",
              "    .dataframe tbody tr th:only-of-type {\n",
              "        vertical-align: middle;\n",
              "    }\n",
              "\n",
              "    .dataframe tbody tr th {\n",
              "        vertical-align: top;\n",
              "    }\n",
              "\n",
              "    .dataframe thead th {\n",
              "        text-align: right;\n",
              "    }\n",
              "</style>\n",
              "<table border=\"1\" class=\"dataframe\">\n",
              "  <thead>\n",
              "    <tr style=\"text-align: right;\">\n",
              "      <th>colegio</th>\n",
              "      <th>Municipal</th>\n",
              "      <th>Particular</th>\n",
              "      <th>Subvencionado</th>\n",
              "      <th>All</th>\n",
              "    </tr>\n",
              "    <tr>\n",
              "      <th>sexo</th>\n",
              "      <th></th>\n",
              "      <th></th>\n",
              "      <th></th>\n",
              "      <th></th>\n",
              "    </tr>\n",
              "  </thead>\n",
              "  <tbody>\n",
              "    <tr>\n",
              "      <th>Femenino</th>\n",
              "      <td>11.971831</td>\n",
              "      <td>33.098592</td>\n",
              "      <td>54.929577</td>\n",
              "      <td>100.0</td>\n",
              "    </tr>\n",
              "    <tr>\n",
              "      <th>Masculino</th>\n",
              "      <td>13.942308</td>\n",
              "      <td>27.884615</td>\n",
              "      <td>58.173077</td>\n",
              "      <td>100.0</td>\n",
              "    </tr>\n",
              "    <tr>\n",
              "      <th>All</th>\n",
              "      <td>13.142857</td>\n",
              "      <td>30.000000</td>\n",
              "      <td>56.857143</td>\n",
              "      <td>100.0</td>\n",
              "    </tr>\n",
              "  </tbody>\n",
              "</table>\n",
              "</div>"
            ],
            "text/plain": [
              "colegio    Municipal  Particular  Subvencionado    All\n",
              "sexo                                                  \n",
              "Femenino   11.971831   33.098592      54.929577  100.0\n",
              "Masculino  13.942308   27.884615      58.173077  100.0\n",
              "All        13.142857   30.000000      56.857143  100.0"
            ]
          },
          "execution_count": 6,
          "metadata": {},
          "output_type": "execute_result"
        }
      ],
      "source": [
        "# c)\n",
        "\n",
        "(t1.div(t1[\"All\"], axis=0))*100\n",
        "\n",
        "## Luego, la probabilidad de pertenecer a un colegio municipal DADO sexo femenino = 12.0%"
      ]
    },
    {
      "cell_type": "markdown",
      "metadata": {
        "id": "Dj7Jn7B3xl5B"
      },
      "source": [
        "4. ¿Cuál es la probabilidad de tener un IMC entre 22 y 25?"
      ]
    },
    {
      "cell_type": "code",
      "execution_count": null,
      "metadata": {
        "id": "b-_t68MOxl5B",
        "outputId": "ad32b323-6942-4a26-f7ec-e68eb64a9c29"
      },
      "outputs": [
        {
          "data": {
            "text/html": [
              "<div>\n",
              "<style scoped>\n",
              "    .dataframe tbody tr th:only-of-type {\n",
              "        vertical-align: middle;\n",
              "    }\n",
              "\n",
              "    .dataframe tbody tr th {\n",
              "        vertical-align: top;\n",
              "    }\n",
              "\n",
              "    .dataframe thead th {\n",
              "        text-align: right;\n",
              "    }\n",
              "</style>\n",
              "<table border=\"1\" class=\"dataframe\">\n",
              "  <thead>\n",
              "    <tr style=\"text-align: right;\">\n",
              "      <th>colegio</th>\n",
              "      <th>Municipal</th>\n",
              "      <th>Particular</th>\n",
              "      <th>Subvencionado</th>\n",
              "      <th>All</th>\n",
              "    </tr>\n",
              "    <tr>\n",
              "      <th>IMC</th>\n",
              "      <th></th>\n",
              "      <th></th>\n",
              "      <th></th>\n",
              "      <th></th>\n",
              "    </tr>\n",
              "  </thead>\n",
              "  <tbody>\n",
              "    <tr>\n",
              "      <th>19 - 22</th>\n",
              "      <td>28</td>\n",
              "      <td>67</td>\n",
              "      <td>120</td>\n",
              "      <td>215</td>\n",
              "    </tr>\n",
              "    <tr>\n",
              "      <th>22 - 25</th>\n",
              "      <td>15</td>\n",
              "      <td>30</td>\n",
              "      <td>70</td>\n",
              "      <td>115</td>\n",
              "    </tr>\n",
              "    <tr>\n",
              "      <th>25 - 28</th>\n",
              "      <td>3</td>\n",
              "      <td>7</td>\n",
              "      <td>8</td>\n",
              "      <td>18</td>\n",
              "    </tr>\n",
              "    <tr>\n",
              "      <th>28 -31</th>\n",
              "      <td>0</td>\n",
              "      <td>1</td>\n",
              "      <td>1</td>\n",
              "      <td>2</td>\n",
              "    </tr>\n",
              "    <tr>\n",
              "      <th>All</th>\n",
              "      <td>46</td>\n",
              "      <td>105</td>\n",
              "      <td>199</td>\n",
              "      <td>350</td>\n",
              "    </tr>\n",
              "  </tbody>\n",
              "</table>\n",
              "</div>"
            ],
            "text/plain": [
              "colegio  Municipal  Particular  Subvencionado  All\n",
              "IMC                                               \n",
              "19 - 22         28          67            120  215\n",
              "22 - 25         15          30             70  115\n",
              "25 - 28          3           7              8   18\n",
              "28 -31           0           1              1    2\n",
              "All             46         105            199  350"
            ]
          },
          "execution_count": 8,
          "metadata": {},
          "output_type": "execute_result"
        }
      ],
      "source": [
        "# d)\n",
        "\n",
        "## Realizamos una tabla entre el IMC y el colegio y la guardamos como t2\n",
        "t2 = pd.crosstab(b['IMC'], b['colegio'], margins=True)\n",
        "t2"
      ]
    },
    {
      "cell_type": "markdown",
      "metadata": {
        "id": "dmWvwnxRxl5C"
      },
      "source": [
        "5. ¿Cuál es la probabilidad de ser de tener un IMC entre 22 y 25 dado que se pertenece a colegio municipal?"
      ]
    },
    {
      "cell_type": "code",
      "execution_count": null,
      "metadata": {
        "id": "3c0yuPdDxl5C",
        "outputId": "2c7374cf-484c-4931-e537-bfafa9b16d8f"
      },
      "outputs": [
        {
          "data": {
            "text/html": [
              "<div>\n",
              "<style scoped>\n",
              "    .dataframe tbody tr th:only-of-type {\n",
              "        vertical-align: middle;\n",
              "    }\n",
              "\n",
              "    .dataframe tbody tr th {\n",
              "        vertical-align: top;\n",
              "    }\n",
              "\n",
              "    .dataframe thead th {\n",
              "        text-align: right;\n",
              "    }\n",
              "</style>\n",
              "<table border=\"1\" class=\"dataframe\">\n",
              "  <thead>\n",
              "    <tr style=\"text-align: right;\">\n",
              "      <th>colegio</th>\n",
              "      <th>Municipal</th>\n",
              "      <th>Particular</th>\n",
              "      <th>Subvencionado</th>\n",
              "      <th>All</th>\n",
              "    </tr>\n",
              "    <tr>\n",
              "      <th>IMC</th>\n",
              "      <th></th>\n",
              "      <th></th>\n",
              "      <th></th>\n",
              "      <th></th>\n",
              "    </tr>\n",
              "  </thead>\n",
              "  <tbody>\n",
              "    <tr>\n",
              "      <th>19 - 22</th>\n",
              "      <td>60.869565</td>\n",
              "      <td>63.809524</td>\n",
              "      <td>60.301508</td>\n",
              "      <td>61.428571</td>\n",
              "    </tr>\n",
              "    <tr>\n",
              "      <th>22 - 25</th>\n",
              "      <td>32.608696</td>\n",
              "      <td>28.571429</td>\n",
              "      <td>35.175879</td>\n",
              "      <td>32.857143</td>\n",
              "    </tr>\n",
              "    <tr>\n",
              "      <th>25 - 28</th>\n",
              "      <td>6.521739</td>\n",
              "      <td>6.666667</td>\n",
              "      <td>4.020101</td>\n",
              "      <td>5.142857</td>\n",
              "    </tr>\n",
              "    <tr>\n",
              "      <th>28 -31</th>\n",
              "      <td>0.000000</td>\n",
              "      <td>0.952381</td>\n",
              "      <td>0.502513</td>\n",
              "      <td>0.571429</td>\n",
              "    </tr>\n",
              "    <tr>\n",
              "      <th>All</th>\n",
              "      <td>100.000000</td>\n",
              "      <td>100.000000</td>\n",
              "      <td>100.000000</td>\n",
              "      <td>100.000000</td>\n",
              "    </tr>\n",
              "  </tbody>\n",
              "</table>\n",
              "</div>"
            ],
            "text/plain": [
              "colegio   Municipal  Particular  Subvencionado         All\n",
              "IMC                                                       \n",
              "19 - 22   60.869565   63.809524      60.301508   61.428571\n",
              "22 - 25   32.608696   28.571429      35.175879   32.857143\n",
              "25 - 28    6.521739    6.666667       4.020101    5.142857\n",
              "28 -31     0.000000    0.952381       0.502513    0.571429\n",
              "All      100.000000  100.000000     100.000000  100.000000"
            ]
          },
          "execution_count": 9,
          "metadata": {},
          "output_type": "execute_result"
        }
      ],
      "source": [
        "# e)\n",
        "\n",
        "(t2/t2.loc[\"All\"])*100\n",
        "\n",
        "## La probabilidad de tener el  IMC entre 22 y 25 = 32.9%"
      ]
    },
    {
      "cell_type": "markdown",
      "metadata": {
        "id": "Nu6rlKrMxl5D"
      },
      "source": [
        "6. ¿Cuál es la probabilidad de pertenecer a colegio particular dado que el IMC está entre 19 y 22?"
      ]
    },
    {
      "cell_type": "code",
      "execution_count": null,
      "metadata": {
        "id": "UqhkgHe5xl5D",
        "outputId": "164e307b-74f0-400a-a137-df4dec4cea0e"
      },
      "outputs": [
        {
          "data": {
            "text/html": [
              "<div>\n",
              "<style scoped>\n",
              "    .dataframe tbody tr th:only-of-type {\n",
              "        vertical-align: middle;\n",
              "    }\n",
              "\n",
              "    .dataframe tbody tr th {\n",
              "        vertical-align: top;\n",
              "    }\n",
              "\n",
              "    .dataframe thead th {\n",
              "        text-align: right;\n",
              "    }\n",
              "</style>\n",
              "<table border=\"1\" class=\"dataframe\">\n",
              "  <thead>\n",
              "    <tr style=\"text-align: right;\">\n",
              "      <th>colegio</th>\n",
              "      <th>Municipal</th>\n",
              "      <th>Particular</th>\n",
              "      <th>Subvencionado</th>\n",
              "      <th>All</th>\n",
              "    </tr>\n",
              "    <tr>\n",
              "      <th>IMC</th>\n",
              "      <th></th>\n",
              "      <th></th>\n",
              "      <th></th>\n",
              "      <th></th>\n",
              "    </tr>\n",
              "  </thead>\n",
              "  <tbody>\n",
              "    <tr>\n",
              "      <th>19 - 22</th>\n",
              "      <td>13.023256</td>\n",
              "      <td>31.162791</td>\n",
              "      <td>55.813953</td>\n",
              "      <td>100.0</td>\n",
              "    </tr>\n",
              "    <tr>\n",
              "      <th>22 - 25</th>\n",
              "      <td>13.043478</td>\n",
              "      <td>26.086957</td>\n",
              "      <td>60.869565</td>\n",
              "      <td>100.0</td>\n",
              "    </tr>\n",
              "    <tr>\n",
              "      <th>25 - 28</th>\n",
              "      <td>16.666667</td>\n",
              "      <td>38.888889</td>\n",
              "      <td>44.444444</td>\n",
              "      <td>100.0</td>\n",
              "    </tr>\n",
              "    <tr>\n",
              "      <th>28 -31</th>\n",
              "      <td>0.000000</td>\n",
              "      <td>50.000000</td>\n",
              "      <td>50.000000</td>\n",
              "      <td>100.0</td>\n",
              "    </tr>\n",
              "    <tr>\n",
              "      <th>All</th>\n",
              "      <td>13.142857</td>\n",
              "      <td>30.000000</td>\n",
              "      <td>56.857143</td>\n",
              "      <td>100.0</td>\n",
              "    </tr>\n",
              "  </tbody>\n",
              "</table>\n",
              "</div>"
            ],
            "text/plain": [
              "colegio  Municipal  Particular  Subvencionado    All\n",
              "IMC                                                 \n",
              "19 - 22  13.023256   31.162791      55.813953  100.0\n",
              "22 - 25  13.043478   26.086957      60.869565  100.0\n",
              "25 - 28  16.666667   38.888889      44.444444  100.0\n",
              "28 -31    0.000000   50.000000      50.000000  100.0\n",
              "All      13.142857   30.000000      56.857143  100.0"
            ]
          },
          "execution_count": 10,
          "metadata": {},
          "output_type": "execute_result"
        }
      ],
      "source": [
        "# f)\n",
        "(t2.div(t2[\"All\"], axis=0))*100\n",
        "\n",
        "## La probabilidad de estar en un colegio particular DADO que tengo IMC22-25 = 26.1%"
      ]
    }
  ],
  "metadata": {
    "kernelspec": {
      "display_name": "Python 3 (ipykernel)",
      "language": "python",
      "name": "python3"
    },
    "language_info": {
      "codemirror_mode": {
        "name": "ipython",
        "version": 3
      },
      "file_extension": ".py",
      "mimetype": "text/x-python",
      "name": "python",
      "nbconvert_exporter": "python",
      "pygments_lexer": "ipython3",
      "version": "3.7.9"
    },
    "vscode": {
      "interpreter": {
        "hash": "949777d72b0d2535278d3dc13498b2535136f6dfe0678499012e853ee9abcab1"
      }
    },
    "colab": {
      "provenance": [],
      "include_colab_link": true
    }
  },
  "nbformat": 4,
  "nbformat_minor": 0
}