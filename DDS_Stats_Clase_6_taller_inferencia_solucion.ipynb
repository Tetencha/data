{
  "cells": [
    {
      "cell_type": "markdown",
      "metadata": {
        "id": "view-in-github",
        "colab_type": "text"
      },
      "source": [
        "<a href=\"https://colab.research.google.com/github/Tetencha/data/blob/main/DDS_Clase_6_taller_inferencia_solucion.ipynb\" target=\"_parent\"><img src=\"https://colab.research.google.com/assets/colab-badge.svg\" alt=\"Open In Colab\"/></a>"
      ]
    },
    {
      "cell_type": "markdown",
      "metadata": {
        "id": "r5iBvY2o-_nM"
      },
      "source": [
        "# Taller de Inferencia\n",
        "\n",
        "**Diplomado en Data Science Versión 2023** <br>\n",
        "**Facultad de Matemáticas**<br>\n",
        "**Pontificia Universidad Católica de Chile**\n",
        "\n",
        "---\n",
        "\n",
        "## Problemas con el uso de la Tarjeta Compra Más (TCM)"
      ]
    },
    {
      "cell_type": "markdown",
      "metadata": {
        "id": "LFL4EYDM-_nQ"
      },
      "source": [
        "Usted, como *Data Scientist* se desempeña en una empresa del Retail donde, como experto, tiene como labor determinar las áreas débiles y fuertes a identificar y proponer mejoras.\n",
        "\n",
        "En una reunión (tormenta de ideas) se determina que el uso de nuestra tarjeta presenta áreas de mejora en varios aspectos. Sin embargo, es necesario verificar o refutar las apreciaciones que, durante la reunión, se plantearon sobre la TCM. Estás se pueden indexar como sigue:\n",
        "\n",
        "* **Montos**: El comité de promociones discute que ellos han focalizado apropiadamente las ofertas, de tal\n",
        "forma que han logrado incrementar los montos de compras mensuales, y para comprobar indican que en 2021 fue de \\$1.250.000 en promedio, asegurando que en 2022 debe ser superior.\n",
        "* **Antigüedad**: El área de fidelización de clientes (renegociación) es acusada de impedir que antiguos clientes incrementen sus compras al limitar sus niveles de endeudamiento. En otras palabras, entre los que usan la tarjeta, los clientes antiguos tiene montos medios \\$100.000 menor que los clientes nuevos (las tarjetas de los clientes identificados cón números menores a 250.000 corresponden a clientes antiguos).\n"
      ]
    },
    {
      "cell_type": "markdown",
      "metadata": {
        "id": "uePBZq_F-_nR"
      },
      "source": [
        "Su trabajo será, mediante análisis de datos mediante tablas, gráficos y test de hipótesis, estudiar los puntos anteriores. Para el cumplimiento de lo anterior, el Departamento de Informática les hace llegar una pequeña muestra aleatoria simple de clientes con información histórica y los atributos solicitados (ver `TCM2022.xlsx`). Las variables de la muestra son las siguientes:\n",
        "\n",
        "* `Cliente`: código de identificación del cliente – asociada a la fecha de otorgamiento.\n",
        "* `Edad`: en años actualizada a diciembre 2022.\n",
        "* `Sexo`: F (femenino), M (masculino).\n",
        "* `Region`: Indica si el cliente pertenece a la región metropolitana (RM) o no (No RM).\n",
        "* `Uso2022`: 1 si ha usado la tarjeta durante 2022, 0 si solo la ha usado en 2021.\n",
        "* `Monto2022`: Monto total en compras desde enero a diciembre de 2022 (en miles)."
      ]
    },
    {
      "cell_type": "markdown",
      "metadata": {
        "id": "cXOJtHo2EHQj"
      },
      "source": [
        "> En los ejercicios que se pida realizar test de hipótesis,  **escriba a mano la Hipótesis Nula correspondiente** antes de realizar el test en `python`."
      ]
    },
    {
      "cell_type": "code",
      "execution_count": null,
      "metadata": {
        "colab": {
          "base_uri": "https://localhost:8080/"
        },
        "id": "m4FoRb4N-_nT",
        "outputId": "db503a60-d5c4-4876-ef3b-82a3b7874042"
      },
      "outputs": [
        {
          "output_type": "stream",
          "name": "stderr",
          "text": [
            "<ipython-input-3-3ebdcaf0e33b>:4: MatplotlibDeprecationWarning: The seaborn styles shipped by Matplotlib are deprecated since 3.6, as they no longer correspond to the styles shipped by seaborn. However, they will remain available as 'seaborn-v0_8-<style>'. Alternatively, directly use the seaborn API instead.\n",
            "  plt.style.use(\"seaborn-whitegrid\")\n"
          ]
        }
      ],
      "source": [
        "import pandas as pd\n",
        "import matplotlib.pyplot as plt\n",
        "\n",
        "plt.style.use(\"seaborn-whitegrid\")\n",
        "plt.rcParams[\"figure.figsize\"] = (10, 8)\n",
        "%config InlineBackend.figure_format = 'retina'"
      ]
    },
    {
      "cell_type": "code",
      "execution_count": null,
      "metadata": {
        "colab": {
          "base_uri": "https://localhost:8080/"
        },
        "id": "Afz61jJo2lgT",
        "outputId": "b0fe8e0d-f484-4f49-f658-5a3ccd05bf49"
      },
      "outputs": [
        {
          "output_type": "stream",
          "name": "stdout",
          "text": [
            "--2023-06-13 01:26:20--  https://raw.githubusercontent.com/estebanrucan/bases-de-datos/main/TCM2022.xlsx\n",
            "Resolving raw.githubusercontent.com (raw.githubusercontent.com)... 185.199.109.133, 185.199.110.133, 185.199.111.133, ...\n",
            "Connecting to raw.githubusercontent.com (raw.githubusercontent.com)|185.199.109.133|:443... connected.\n",
            "HTTP request sent, awaiting response... 200 OK\n",
            "Length: 17783 (17K) [application/octet-stream]\n",
            "Saving to: ‘TCM2022.xlsx’\n",
            "\n",
            "\rTCM2022.xlsx          0%[                    ]       0  --.-KB/s               \rTCM2022.xlsx        100%[===================>]  17.37K  --.-KB/s    in 0s      \n",
            "\n",
            "2023-06-13 01:26:20 (90.2 MB/s) - ‘TCM2022.xlsx’ saved [17783/17783]\n",
            "\n"
          ]
        }
      ],
      "source": [
        "!wget https://raw.githubusercontent.com/estebanrucan/bases-de-datos/main/TCM2022.xlsx"
      ]
    },
    {
      "cell_type": "markdown",
      "metadata": {
        "id": "mUodsBWD-_nV"
      },
      "source": [
        "**1.** Cargue la base de datos y realice un análisis inicial. ¿Hay presencia de datos faltantes? Realice un histograma para la variable `Monto2022` y descríbalo."
      ]
    },
    {
      "cell_type": "code",
      "execution_count": null,
      "metadata": {
        "colab": {
          "base_uri": "https://localhost:8080/",
          "height": 206
        },
        "id": "hdsGC1mM-_nW",
        "outputId": "d12269dd-d4d1-4c0a-9da3-f9771bb3f972"
      },
      "outputs": [
        {
          "output_type": "display_data",
          "data": {
            "text/plain": [
              "   Cliente  Edad Sexo Region  Uso2022  Monto2022\n",
              "0     1367    72    M     RM        0          0\n",
              "1     1730    53    M     RM        1       1124\n",
              "2     1824    54    F     RM        0          0\n",
              "3     3058    61    M     RM        0          0\n",
              "4     5321    59    M     RM        0          0"
            ],
            "text/html": [
              "\n",
              "  <div id=\"df-cb66d4f2-7642-4274-b240-27fca9ac05de\">\n",
              "    <div class=\"colab-df-container\">\n",
              "      <div>\n",
              "<style scoped>\n",
              "    .dataframe tbody tr th:only-of-type {\n",
              "        vertical-align: middle;\n",
              "    }\n",
              "\n",
              "    .dataframe tbody tr th {\n",
              "        vertical-align: top;\n",
              "    }\n",
              "\n",
              "    .dataframe thead th {\n",
              "        text-align: right;\n",
              "    }\n",
              "</style>\n",
              "<table border=\"1\" class=\"dataframe\">\n",
              "  <thead>\n",
              "    <tr style=\"text-align: right;\">\n",
              "      <th></th>\n",
              "      <th>Cliente</th>\n",
              "      <th>Edad</th>\n",
              "      <th>Sexo</th>\n",
              "      <th>Region</th>\n",
              "      <th>Uso2022</th>\n",
              "      <th>Monto2022</th>\n",
              "    </tr>\n",
              "  </thead>\n",
              "  <tbody>\n",
              "    <tr>\n",
              "      <th>0</th>\n",
              "      <td>1367</td>\n",
              "      <td>72</td>\n",
              "      <td>M</td>\n",
              "      <td>RM</td>\n",
              "      <td>0</td>\n",
              "      <td>0</td>\n",
              "    </tr>\n",
              "    <tr>\n",
              "      <th>1</th>\n",
              "      <td>1730</td>\n",
              "      <td>53</td>\n",
              "      <td>M</td>\n",
              "      <td>RM</td>\n",
              "      <td>1</td>\n",
              "      <td>1124</td>\n",
              "    </tr>\n",
              "    <tr>\n",
              "      <th>2</th>\n",
              "      <td>1824</td>\n",
              "      <td>54</td>\n",
              "      <td>F</td>\n",
              "      <td>RM</td>\n",
              "      <td>0</td>\n",
              "      <td>0</td>\n",
              "    </tr>\n",
              "    <tr>\n",
              "      <th>3</th>\n",
              "      <td>3058</td>\n",
              "      <td>61</td>\n",
              "      <td>M</td>\n",
              "      <td>RM</td>\n",
              "      <td>0</td>\n",
              "      <td>0</td>\n",
              "    </tr>\n",
              "    <tr>\n",
              "      <th>4</th>\n",
              "      <td>5321</td>\n",
              "      <td>59</td>\n",
              "      <td>M</td>\n",
              "      <td>RM</td>\n",
              "      <td>0</td>\n",
              "      <td>0</td>\n",
              "    </tr>\n",
              "  </tbody>\n",
              "</table>\n",
              "</div>\n",
              "      <button class=\"colab-df-convert\" onclick=\"convertToInteractive('df-cb66d4f2-7642-4274-b240-27fca9ac05de')\"\n",
              "              title=\"Convert this dataframe to an interactive table.\"\n",
              "              style=\"display:none;\">\n",
              "        \n",
              "  <svg xmlns=\"http://www.w3.org/2000/svg\" height=\"24px\"viewBox=\"0 0 24 24\"\n",
              "       width=\"24px\">\n",
              "    <path d=\"M0 0h24v24H0V0z\" fill=\"none\"/>\n",
              "    <path d=\"M18.56 5.44l.94 2.06.94-2.06 2.06-.94-2.06-.94-.94-2.06-.94 2.06-2.06.94zm-11 1L8.5 8.5l.94-2.06 2.06-.94-2.06-.94L8.5 2.5l-.94 2.06-2.06.94zm10 10l.94 2.06.94-2.06 2.06-.94-2.06-.94-.94-2.06-.94 2.06-2.06.94z\"/><path d=\"M17.41 7.96l-1.37-1.37c-.4-.4-.92-.59-1.43-.59-.52 0-1.04.2-1.43.59L10.3 9.45l-7.72 7.72c-.78.78-.78 2.05 0 2.83L4 21.41c.39.39.9.59 1.41.59.51 0 1.02-.2 1.41-.59l7.78-7.78 2.81-2.81c.8-.78.8-2.07 0-2.86zM5.41 20L4 18.59l7.72-7.72 1.47 1.35L5.41 20z\"/>\n",
              "  </svg>\n",
              "      </button>\n",
              "      \n",
              "  <style>\n",
              "    .colab-df-container {\n",
              "      display:flex;\n",
              "      flex-wrap:wrap;\n",
              "      gap: 12px;\n",
              "    }\n",
              "\n",
              "    .colab-df-convert {\n",
              "      background-color: #E8F0FE;\n",
              "      border: none;\n",
              "      border-radius: 50%;\n",
              "      cursor: pointer;\n",
              "      display: none;\n",
              "      fill: #1967D2;\n",
              "      height: 32px;\n",
              "      padding: 0 0 0 0;\n",
              "      width: 32px;\n",
              "    }\n",
              "\n",
              "    .colab-df-convert:hover {\n",
              "      background-color: #E2EBFA;\n",
              "      box-shadow: 0px 1px 2px rgba(60, 64, 67, 0.3), 0px 1px 3px 1px rgba(60, 64, 67, 0.15);\n",
              "      fill: #174EA6;\n",
              "    }\n",
              "\n",
              "    [theme=dark] .colab-df-convert {\n",
              "      background-color: #3B4455;\n",
              "      fill: #D2E3FC;\n",
              "    }\n",
              "\n",
              "    [theme=dark] .colab-df-convert:hover {\n",
              "      background-color: #434B5C;\n",
              "      box-shadow: 0px 1px 3px 1px rgba(0, 0, 0, 0.15);\n",
              "      filter: drop-shadow(0px 1px 2px rgba(0, 0, 0, 0.3));\n",
              "      fill: #FFFFFF;\n",
              "    }\n",
              "  </style>\n",
              "\n",
              "      <script>\n",
              "        const buttonEl =\n",
              "          document.querySelector('#df-cb66d4f2-7642-4274-b240-27fca9ac05de button.colab-df-convert');\n",
              "        buttonEl.style.display =\n",
              "          google.colab.kernel.accessAllowed ? 'block' : 'none';\n",
              "\n",
              "        async function convertToInteractive(key) {\n",
              "          const element = document.querySelector('#df-cb66d4f2-7642-4274-b240-27fca9ac05de');\n",
              "          const dataTable =\n",
              "            await google.colab.kernel.invokeFunction('convertToInteractive',\n",
              "                                                     [key], {});\n",
              "          if (!dataTable) return;\n",
              "\n",
              "          const docLinkHtml = 'Like what you see? Visit the ' +\n",
              "            '<a target=\"_blank\" href=https://colab.research.google.com/notebooks/data_table.ipynb>data table notebook</a>'\n",
              "            + ' to learn more about interactive tables.';\n",
              "          element.innerHTML = '';\n",
              "          dataTable['output_type'] = 'display_data';\n",
              "          await google.colab.output.renderOutput(dataTable, element);\n",
              "          const docLink = document.createElement('div');\n",
              "          docLink.innerHTML = docLinkHtml;\n",
              "          element.appendChild(docLink);\n",
              "        }\n",
              "      </script>\n",
              "    </div>\n",
              "  </div>\n",
              "  "
            ]
          },
          "metadata": {}
        }
      ],
      "source": [
        "data = pd.read_excel(\"TCM2022.xlsx\")\n",
        "display(data.head())"
      ]
    },
    {
      "cell_type": "code",
      "execution_count": null,
      "metadata": {
        "id": "DUOy5ArcWjlS",
        "outputId": "ec776e64-6319-4c00-c506-cf4c2c2602e1"
      },
      "outputs": [
        {
          "data": {
            "text/plain": [
              "(450, 6)"
            ]
          },
          "execution_count": 24,
          "metadata": {},
          "output_type": "execute_result"
        }
      ],
      "source": [
        "data.shape"
      ]
    },
    {
      "cell_type": "code",
      "execution_count": null,
      "metadata": {
        "colab": {
          "base_uri": "https://localhost:8080/"
        },
        "id": "IH96NJk7-_nY",
        "outputId": "a7ed39b3-793e-4993-cd15-eb2619ad1a8b"
      },
      "outputs": [
        {
          "name": "stdout",
          "output_type": "stream",
          "text": [
            "<class 'pandas.core.frame.DataFrame'>\n",
            "RangeIndex: 450 entries, 0 to 449\n",
            "Data columns (total 6 columns):\n",
            " #   Column     Non-Null Count  Dtype \n",
            "---  ------     --------------  ----- \n",
            " 0   Cliente    450 non-null    int64 \n",
            " 1   Edad       450 non-null    int64 \n",
            " 2   Sexo       450 non-null    object\n",
            " 3   Region     450 non-null    object\n",
            " 4   Uso2022    450 non-null    int64 \n",
            " 5   Monto2022  450 non-null    int64 \n",
            "dtypes: int64(4), object(2)\n",
            "memory usage: 21.2+ KB\n"
          ]
        }
      ],
      "source": [
        "data.info() # no hay faltantes"
      ]
    },
    {
      "cell_type": "code",
      "execution_count": null,
      "metadata": {
        "colab": {
          "base_uri": "https://localhost:8080/",
          "height": 219
        },
        "id": "XQ3t4oXl-_nY",
        "outputId": "c4af037b-e136-4c62-c5a8-b27ead110696"
      },
      "outputs": [
        {
          "output_type": "execute_result",
          "data": {
            "text/plain": [
              "           count           mean            std     min        25%       50%  \\\n",
              "Cliente    450.0  255996.060000  143676.428194  1367.0  128283.75  262712.0   \n",
              "Edad       450.0      47.064444      11.794183    18.0      38.00      47.0   \n",
              "Uso2022    450.0       0.582222       0.493742     0.0       0.00       1.0   \n",
              "Monto2022  450.0     704.113333     729.740777     0.0       0.00     581.0   \n",
              "\n",
              "                 75%       max  \n",
              "Cliente    379385.75  499908.0  \n",
              "Edad           55.75      75.0  \n",
              "Uso2022         1.00       1.0  \n",
              "Monto2022    1297.50    2717.0  "
            ],
            "text/html": [
              "\n",
              "  <div id=\"df-68cedd75-5283-436a-bdd1-6273d55a6823\">\n",
              "    <div class=\"colab-df-container\">\n",
              "      <div>\n",
              "<style scoped>\n",
              "    .dataframe tbody tr th:only-of-type {\n",
              "        vertical-align: middle;\n",
              "    }\n",
              "\n",
              "    .dataframe tbody tr th {\n",
              "        vertical-align: top;\n",
              "    }\n",
              "\n",
              "    .dataframe thead th {\n",
              "        text-align: right;\n",
              "    }\n",
              "</style>\n",
              "<table border=\"1\" class=\"dataframe\">\n",
              "  <thead>\n",
              "    <tr style=\"text-align: right;\">\n",
              "      <th></th>\n",
              "      <th>count</th>\n",
              "      <th>mean</th>\n",
              "      <th>std</th>\n",
              "      <th>min</th>\n",
              "      <th>25%</th>\n",
              "      <th>50%</th>\n",
              "      <th>75%</th>\n",
              "      <th>max</th>\n",
              "    </tr>\n",
              "  </thead>\n",
              "  <tbody>\n",
              "    <tr>\n",
              "      <th>Cliente</th>\n",
              "      <td>450.0</td>\n",
              "      <td>255996.060000</td>\n",
              "      <td>143676.428194</td>\n",
              "      <td>1367.0</td>\n",
              "      <td>128283.75</td>\n",
              "      <td>262712.0</td>\n",
              "      <td>379385.75</td>\n",
              "      <td>499908.0</td>\n",
              "    </tr>\n",
              "    <tr>\n",
              "      <th>Edad</th>\n",
              "      <td>450.0</td>\n",
              "      <td>47.064444</td>\n",
              "      <td>11.794183</td>\n",
              "      <td>18.0</td>\n",
              "      <td>38.00</td>\n",
              "      <td>47.0</td>\n",
              "      <td>55.75</td>\n",
              "      <td>75.0</td>\n",
              "    </tr>\n",
              "    <tr>\n",
              "      <th>Uso2022</th>\n",
              "      <td>450.0</td>\n",
              "      <td>0.582222</td>\n",
              "      <td>0.493742</td>\n",
              "      <td>0.0</td>\n",
              "      <td>0.00</td>\n",
              "      <td>1.0</td>\n",
              "      <td>1.00</td>\n",
              "      <td>1.0</td>\n",
              "    </tr>\n",
              "    <tr>\n",
              "      <th>Monto2022</th>\n",
              "      <td>450.0</td>\n",
              "      <td>704.113333</td>\n",
              "      <td>729.740777</td>\n",
              "      <td>0.0</td>\n",
              "      <td>0.00</td>\n",
              "      <td>581.0</td>\n",
              "      <td>1297.50</td>\n",
              "      <td>2717.0</td>\n",
              "    </tr>\n",
              "  </tbody>\n",
              "</table>\n",
              "</div>\n",
              "      <button class=\"colab-df-convert\" onclick=\"convertToInteractive('df-68cedd75-5283-436a-bdd1-6273d55a6823')\"\n",
              "              title=\"Convert this dataframe to an interactive table.\"\n",
              "              style=\"display:none;\">\n",
              "        \n",
              "  <svg xmlns=\"http://www.w3.org/2000/svg\" height=\"24px\"viewBox=\"0 0 24 24\"\n",
              "       width=\"24px\">\n",
              "    <path d=\"M0 0h24v24H0V0z\" fill=\"none\"/>\n",
              "    <path d=\"M18.56 5.44l.94 2.06.94-2.06 2.06-.94-2.06-.94-.94-2.06-.94 2.06-2.06.94zm-11 1L8.5 8.5l.94-2.06 2.06-.94-2.06-.94L8.5 2.5l-.94 2.06-2.06.94zm10 10l.94 2.06.94-2.06 2.06-.94-2.06-.94-.94-2.06-.94 2.06-2.06.94z\"/><path d=\"M17.41 7.96l-1.37-1.37c-.4-.4-.92-.59-1.43-.59-.52 0-1.04.2-1.43.59L10.3 9.45l-7.72 7.72c-.78.78-.78 2.05 0 2.83L4 21.41c.39.39.9.59 1.41.59.51 0 1.02-.2 1.41-.59l7.78-7.78 2.81-2.81c.8-.78.8-2.07 0-2.86zM5.41 20L4 18.59l7.72-7.72 1.47 1.35L5.41 20z\"/>\n",
              "  </svg>\n",
              "      </button>\n",
              "      \n",
              "  <style>\n",
              "    .colab-df-container {\n",
              "      display:flex;\n",
              "      flex-wrap:wrap;\n",
              "      gap: 12px;\n",
              "    }\n",
              "\n",
              "    .colab-df-convert {\n",
              "      background-color: #E8F0FE;\n",
              "      border: none;\n",
              "      border-radius: 50%;\n",
              "      cursor: pointer;\n",
              "      display: none;\n",
              "      fill: #1967D2;\n",
              "      height: 32px;\n",
              "      padding: 0 0 0 0;\n",
              "      width: 32px;\n",
              "    }\n",
              "\n",
              "    .colab-df-convert:hover {\n",
              "      background-color: #E2EBFA;\n",
              "      box-shadow: 0px 1px 2px rgba(60, 64, 67, 0.3), 0px 1px 3px 1px rgba(60, 64, 67, 0.15);\n",
              "      fill: #174EA6;\n",
              "    }\n",
              "\n",
              "    [theme=dark] .colab-df-convert {\n",
              "      background-color: #3B4455;\n",
              "      fill: #D2E3FC;\n",
              "    }\n",
              "\n",
              "    [theme=dark] .colab-df-convert:hover {\n",
              "      background-color: #434B5C;\n",
              "      box-shadow: 0px 1px 3px 1px rgba(0, 0, 0, 0.15);\n",
              "      filter: drop-shadow(0px 1px 2px rgba(0, 0, 0, 0.3));\n",
              "      fill: #FFFFFF;\n",
              "    }\n",
              "  </style>\n",
              "\n",
              "      <script>\n",
              "        const buttonEl =\n",
              "          document.querySelector('#df-68cedd75-5283-436a-bdd1-6273d55a6823 button.colab-df-convert');\n",
              "        buttonEl.style.display =\n",
              "          google.colab.kernel.accessAllowed ? 'block' : 'none';\n",
              "\n",
              "        async function convertToInteractive(key) {\n",
              "          const element = document.querySelector('#df-68cedd75-5283-436a-bdd1-6273d55a6823');\n",
              "          const dataTable =\n",
              "            await google.colab.kernel.invokeFunction('convertToInteractive',\n",
              "                                                     [key], {});\n",
              "          if (!dataTable) return;\n",
              "\n",
              "          const docLinkHtml = 'Like what you see? Visit the ' +\n",
              "            '<a target=\"_blank\" href=https://colab.research.google.com/notebooks/data_table.ipynb>data table notebook</a>'\n",
              "            + ' to learn more about interactive tables.';\n",
              "          element.innerHTML = '';\n",
              "          dataTable['output_type'] = 'display_data';\n",
              "          await google.colab.output.renderOutput(dataTable, element);\n",
              "          const docLink = document.createElement('div');\n",
              "          docLink.innerHTML = docLinkHtml;\n",
              "          element.appendChild(docLink);\n",
              "        }\n",
              "      </script>\n",
              "    </div>\n",
              "  </div>\n",
              "  "
            ]
          },
          "metadata": {},
          "execution_count": 5
        }
      ],
      "source": [
        "data.describe().T"
      ]
    },
    {
      "cell_type": "code",
      "execution_count": null,
      "metadata": {
        "colab": {
          "base_uri": "https://localhost:8080/",
          "height": 670
        },
        "id": "Or_Oy74Q-_nZ",
        "outputId": "8a5faedc-2b94-43ad-d998-3be35cb324aa"
      },
      "outputs": [
        {
          "data": {
            "image/png": "[encoded data removed]",
            "text/plain": [
              "<Figure size 1000x800 with 1 Axes>"
            ]
          },
          "metadata": {
            "image/png": {
              "height": 653,
              "width": 823
            }
          },
          "output_type": "display_data"
        }
      ],
      "source": [
        "plt.hist(data[\"Monto2022\"]); # Muchos valores están al comienzo\n",
        "# Esto se debe a que no todas las personas realizaron compras en 2022\n",
        "# la media sin considerar estas personas es aprox. 1250"
      ]
    },
    {
      "cell_type": "markdown",
      "metadata": {
        "id": "kkDAHxl--_nZ"
      },
      "source": [
        "**2.** Muestre mediante una tabla, la cantidad y distribución de porcentajes de clientes que usaron la tarjeta durante 2021 y 2022. A través de esta tabla construya un gráfico de barras que muestre la cantidad de clientes por año."
      ]
    },
    {
      "cell_type": "code",
      "execution_count": null,
      "metadata": {
        "colab": {
          "base_uri": "https://localhost:8080/",
          "height": 112
        },
        "id": "4SaTHOPY-_nZ",
        "outputId": "47966179-3f9a-45de-9fac-c7bb8dc2b815"
      },
      "outputs": [
        {
          "data": {
            "text/html": [
              "\n",
              "  <div id=\"df-129b0cea-857d-43dd-85d9-3fc0d7241d0b\">\n",
              "    <div class=\"colab-df-container\">\n",
              "      <div>\n",
              "<style scoped>\n",
              "    .dataframe tbody tr th:only-of-type {\n",
              "        vertical-align: middle;\n",
              "    }\n",
              "\n",
              "    .dataframe tbody tr th {\n",
              "        vertical-align: top;\n",
              "    }\n",
              "\n",
              "    .dataframe thead th {\n",
              "        text-align: right;\n",
              "    }\n",
              "</style>\n",
              "<table border=\"1\" class=\"dataframe\">\n",
              "  <thead>\n",
              "    <tr style=\"text-align: right;\">\n",
              "      <th></th>\n",
              "      <th>Uso2022</th>\n",
              "      <th>Uso2022</th>\n",
              "    </tr>\n",
              "  </thead>\n",
              "  <tbody>\n",
              "    <tr>\n",
              "      <th>1</th>\n",
              "      <td>262</td>\n",
              "      <td>0.582222</td>\n",
              "    </tr>\n",
              "    <tr>\n",
              "      <th>0</th>\n",
              "      <td>188</td>\n",
              "      <td>0.417778</td>\n",
              "    </tr>\n",
              "  </tbody>\n",
              "</table>\n",
              "</div>\n",
              "      <button class=\"colab-df-convert\" onclick=\"convertToInteractive('df-129b0cea-857d-43dd-85d9-3fc0d7241d0b')\"\n",
              "              title=\"Convert this dataframe to an interactive table.\"\n",
              "              style=\"display:none;\">\n",
              "        \n",
              "  <svg xmlns=\"http://www.w3.org/2000/svg\" height=\"24px\"viewBox=\"0 0 24 24\"\n",
              "       width=\"24px\">\n",
              "    <path d=\"M0 0h24v24H0V0z\" fill=\"none\"/>\n",
              "    <path d=\"M18.56 5.44l.94 2.06.94-2.06 2.06-.94-2.06-.94-.94-2.06-.94 2.06-2.06.94zm-11 1L8.5 8.5l.94-2.06 2.06-.94-2.06-.94L8.5 2.5l-.94 2.06-2.06.94zm10 10l.94 2.06.94-2.06 2.06-.94-2.06-.94-.94-2.06-.94 2.06-2.06.94z\"/><path d=\"M17.41 7.96l-1.37-1.37c-.4-.4-.92-.59-1.43-.59-.52 0-1.04.2-1.43.59L10.3 9.45l-7.72 7.72c-.78.78-.78 2.05 0 2.83L4 21.41c.39.39.9.59 1.41.59.51 0 1.02-.2 1.41-.59l7.78-7.78 2.81-2.81c.8-.78.8-2.07 0-2.86zM5.41 20L4 18.59l7.72-7.72 1.47 1.35L5.41 20z\"/>\n",
              "  </svg>\n",
              "      </button>\n",
              "      \n",
              "  <style>\n",
              "    .colab-df-container {\n",
              "      display:flex;\n",
              "      flex-wrap:wrap;\n",
              "      gap: 12px;\n",
              "    }\n",
              "\n",
              "    .colab-df-convert {\n",
              "      background-color: #E8F0FE;\n",
              "      border: none;\n",
              "      border-radius: 50%;\n",
              "      cursor: pointer;\n",
              "      display: none;\n",
              "      fill: #1967D2;\n",
              "      height: 32px;\n",
              "      padding: 0 0 0 0;\n",
              "      width: 32px;\n",
              "    }\n",
              "\n",
              "    .colab-df-convert:hover {\n",
              "      background-color: #E2EBFA;\n",
              "      box-shadow: 0px 1px 2px rgba(60, 64, 67, 0.3), 0px 1px 3px 1px rgba(60, 64, 67, 0.15);\n",
              "      fill: #174EA6;\n",
              "    }\n",
              "\n",
              "    [theme=dark] .colab-df-convert {\n",
              "      background-color: #3B4455;\n",
              "      fill: #D2E3FC;\n",
              "    }\n",
              "\n",
              "    [theme=dark] .colab-df-convert:hover {\n",
              "      background-color: #434B5C;\n",
              "      box-shadow: 0px 1px 3px 1px rgba(0, 0, 0, 0.15);\n",
              "      filter: drop-shadow(0px 1px 2px rgba(0, 0, 0, 0.3));\n",
              "      fill: #FFFFFF;\n",
              "    }\n",
              "  </style>\n",
              "\n",
              "      <script>\n",
              "        const buttonEl =\n",
              "          document.querySelector('#df-129b0cea-857d-43dd-85d9-3fc0d7241d0b button.colab-df-convert');\n",
              "        buttonEl.style.display =\n",
              "          google.colab.kernel.accessAllowed ? 'block' : 'none';\n",
              "\n",
              "        async function convertToInteractive(key) {\n",
              "          const element = document.querySelector('#df-129b0cea-857d-43dd-85d9-3fc0d7241d0b');\n",
              "          const dataTable =\n",
              "            await google.colab.kernel.invokeFunction('convertToInteractive',\n",
              "                                                     [key], {});\n",
              "          if (!dataTable) return;\n",
              "\n",
              "          const docLinkHtml = 'Like what you see? Visit the ' +\n",
              "            '<a target=\"_blank\" href=https://colab.research.google.com/notebooks/data_table.ipynb>data table notebook</a>'\n",
              "            + ' to learn more about interactive tables.';\n",
              "          element.innerHTML = '';\n",
              "          dataTable['output_type'] = 'display_data';\n",
              "          await google.colab.output.renderOutput(dataTable, element);\n",
              "          const docLink = document.createElement('div');\n",
              "          docLink.innerHTML = docLinkHtml;\n",
              "          element.appendChild(docLink);\n",
              "        }\n",
              "      </script>\n",
              "    </div>\n",
              "  </div>\n",
              "  "
            ],
            "text/plain": [
              "   Uso2022   Uso2022\n",
              "1      262  0.582222\n",
              "0      188  0.417778"
            ]
          },
          "execution_count": 18,
          "metadata": {},
          "output_type": "execute_result"
        }
      ],
      "source": [
        "tabla1 = data[\"Uso2022\"].value_counts()\n",
        "tabla2 = data[\"Uso2022\"].value_counts(normalize=True)\n",
        "pd.concat([tabla1, tabla2], axis=1)"
      ]
    },
    {
      "cell_type": "code",
      "execution_count": null,
      "metadata": {
        "colab": {
          "base_uri": "https://localhost:8080/",
          "height": 665
        },
        "id": "Mw0sy0vy-_na",
        "outputId": "4a5e5579-08a4-496a-a3d7-60a87986dc59"
      },
      "outputs": [
        {
          "data": {
            "image/png": "[encoded data removed]",
            "text/plain": [
              "<Figure size 1000x800 with 1 Axes>"
            ]
          },
          "metadata": {
            "image/png": {
              "height": 648,
              "width": 823
            }
          },
          "output_type": "display_data"
        }
      ],
      "source": [
        "tabla1.plot(kind=\"bar\");"
      ]
    },
    {
      "cell_type": "markdown",
      "metadata": {
        "id": "A521Y4eR-_na"
      },
      "source": [
        "**3.** Genere una tabla que muestre la media del Monto de 2022 según Región. ¿Nota diferencias? Comente una estrategia robusta para estudiar la validez a nivel poblacional de esta diferencia o igualdad de medias (también recuerde que trabaja con una muestra aleatoria simple sobre la población de clientes)."
      ]
    },
    {
      "cell_type": "code",
      "execution_count": null,
      "metadata": {
        "colab": {
          "base_uri": "https://localhost:8080/",
          "height": 143
        },
        "id": "7tQEBeWW-_na",
        "outputId": "702f9231-f4e2-4eed-bd9c-ca497035fe4a"
      },
      "outputs": [
        {
          "data": {
            "text/html": [
              "\n",
              "  <div id=\"df-0a3cde53-8047-4435-8605-a492afbbd027\">\n",
              "    <div class=\"colab-df-container\">\n",
              "      <div>\n",
              "<style scoped>\n",
              "    .dataframe tbody tr th:only-of-type {\n",
              "        vertical-align: middle;\n",
              "    }\n",
              "\n",
              "    .dataframe tbody tr th {\n",
              "        vertical-align: top;\n",
              "    }\n",
              "\n",
              "    .dataframe thead th {\n",
              "        text-align: right;\n",
              "    }\n",
              "</style>\n",
              "<table border=\"1\" class=\"dataframe\">\n",
              "  <thead>\n",
              "    <tr style=\"text-align: right;\">\n",
              "      <th></th>\n",
              "      <th>Monto2022</th>\n",
              "    </tr>\n",
              "    <tr>\n",
              "      <th>Region</th>\n",
              "      <th></th>\n",
              "    </tr>\n",
              "  </thead>\n",
              "  <tbody>\n",
              "    <tr>\n",
              "      <th>No RM</th>\n",
              "      <td>1207.697183</td>\n",
              "    </tr>\n",
              "    <tr>\n",
              "      <th>RM</th>\n",
              "      <td>1211.316667</td>\n",
              "    </tr>\n",
              "  </tbody>\n",
              "</table>\n",
              "</div>\n",
              "      <button class=\"colab-df-convert\" onclick=\"convertToInteractive('df-0a3cde53-8047-4435-8605-a492afbbd027')\"\n",
              "              title=\"Convert this dataframe to an interactive table.\"\n",
              "              style=\"display:none;\">\n",
              "        \n",
              "  <svg xmlns=\"http://www.w3.org/2000/svg\" height=\"24px\"viewBox=\"0 0 24 24\"\n",
              "       width=\"24px\">\n",
              "    <path d=\"M0 0h24v24H0V0z\" fill=\"none\"/>\n",
              "    <path d=\"M18.56 5.44l.94 2.06.94-2.06 2.06-.94-2.06-.94-.94-2.06-.94 2.06-2.06.94zm-11 1L8.5 8.5l.94-2.06 2.06-.94-2.06-.94L8.5 2.5l-.94 2.06-2.06.94zm10 10l.94 2.06.94-2.06 2.06-.94-2.06-.94-.94-2.06-.94 2.06-2.06.94z\"/><path d=\"M17.41 7.96l-1.37-1.37c-.4-.4-.92-.59-1.43-.59-.52 0-1.04.2-1.43.59L10.3 9.45l-7.72 7.72c-.78.78-.78 2.05 0 2.83L4 21.41c.39.39.9.59 1.41.59.51 0 1.02-.2 1.41-.59l7.78-7.78 2.81-2.81c.8-.78.8-2.07 0-2.86zM5.41 20L4 18.59l7.72-7.72 1.47 1.35L5.41 20z\"/>\n",
              "  </svg>\n",
              "      </button>\n",
              "      \n",
              "  <style>\n",
              "    .colab-df-container {\n",
              "      display:flex;\n",
              "      flex-wrap:wrap;\n",
              "      gap: 12px;\n",
              "    }\n",
              "\n",
              "    .colab-df-convert {\n",
              "      background-color: #E8F0FE;\n",
              "      border: none;\n",
              "      border-radius: 50%;\n",
              "      cursor: pointer;\n",
              "      display: none;\n",
              "      fill: #1967D2;\n",
              "      height: 32px;\n",
              "      padding: 0 0 0 0;\n",
              "      width: 32px;\n",
              "    }\n",
              "\n",
              "    .colab-df-convert:hover {\n",
              "      background-color: #E2EBFA;\n",
              "      box-shadow: 0px 1px 2px rgba(60, 64, 67, 0.3), 0px 1px 3px 1px rgba(60, 64, 67, 0.15);\n",
              "      fill: #174EA6;\n",
              "    }\n",
              "\n",
              "    [theme=dark] .colab-df-convert {\n",
              "      background-color: #3B4455;\n",
              "      fill: #D2E3FC;\n",
              "    }\n",
              "\n",
              "    [theme=dark] .colab-df-convert:hover {\n",
              "      background-color: #434B5C;\n",
              "      box-shadow: 0px 1px 3px 1px rgba(0, 0, 0, 0.15);\n",
              "      filter: drop-shadow(0px 1px 2px rgba(0, 0, 0, 0.3));\n",
              "      fill: #FFFFFF;\n",
              "    }\n",
              "  </style>\n",
              "\n",
              "      <script>\n",
              "        const buttonEl =\n",
              "          document.querySelector('#df-0a3cde53-8047-4435-8605-a492afbbd027 button.colab-df-convert');\n",
              "        buttonEl.style.display =\n",
              "          google.colab.kernel.accessAllowed ? 'block' : 'none';\n",
              "\n",
              "        async function convertToInteractive(key) {\n",
              "          const element = document.querySelector('#df-0a3cde53-8047-4435-8605-a492afbbd027');\n",
              "          const dataTable =\n",
              "            await google.colab.kernel.invokeFunction('convertToInteractive',\n",
              "                                                     [key], {});\n",
              "          if (!dataTable) return;\n",
              "\n",
              "          const docLinkHtml = 'Like what you see? Visit the ' +\n",
              "            '<a target=\"_blank\" href=https://colab.research.google.com/notebooks/data_table.ipynb>data table notebook</a>'\n",
              "            + ' to learn more about interactive tables.';\n",
              "          element.innerHTML = '';\n",
              "          dataTable['output_type'] = 'display_data';\n",
              "          await google.colab.output.renderOutput(dataTable, element);\n",
              "          const docLink = document.createElement('div');\n",
              "          docLink.innerHTML = docLinkHtml;\n",
              "          element.appendChild(docLink);\n",
              "        }\n",
              "      </script>\n",
              "    </div>\n",
              "  </div>\n",
              "  "
            ],
            "text/plain": [
              "          Monto2022\n",
              "Region             \n",
              "No RM   1207.697183\n",
              "RM      1211.316667"
            ]
          },
          "execution_count": 20,
          "metadata": {},
          "output_type": "execute_result"
        }
      ],
      "source": [
        "data.query(\"Uso2022 == 1\").groupby([\"Region\"]).agg({\"Monto2022\": \"mean\"})\n",
        "# Sería interesante un test-t para comparar estas medias mediante test de hipótesis"
      ]
    },
    {
      "cell_type": "markdown",
      "metadata": {
        "id": "B-bfDcsA-_nb"
      },
      "source": [
        "**4.** Estudie la hipótesis planteada sobre los **Montos**. ¿Se rechaza o no se rechaza $H_0$? ¿Como se interpreta este resultado bajo el contexto de la problemática? Trabaje con un 5% de nivel de significancia."
      ]
    },
    {
      "cell_type": "markdown",
      "metadata": {
        "id": "8qVhKnVWGQxA"
      },
      "source": [
        "$$\n",
        "\\begin{align}\n",
        "H_0&: \\mu_\\text{2022} \\leq 1250 \\\\\n",
        "H_1&: \\mu_\\text{2022} > 1250\n",
        "\\end{align}\n",
        "$$"
      ]
    },
    {
      "cell_type": "code",
      "execution_count": null,
      "metadata": {
        "colab": {
          "base_uri": "https://localhost:8080/"
        },
        "id": "r48FyTlu-_nb",
        "outputId": "185d9a74-296c-48d9-de1d-3f703bdddceb"
      },
      "outputs": [
        {
          "name": "stdout",
          "output_type": "stream",
          "text": [
            "Ttest_1sampResult(statistic=1.7461064951071676, pvalue=0.040984503444368575)\n"
          ]
        }
      ],
      "source": [
        "from scipy.stats import ttest_1samp # porque la varianza es desconocida\n",
        "mu_0 = 1150\n",
        "muestra = data.query(\"Uso2022 == 1\")[\"Monto2022\"]\n",
        "\n",
        "test = ttest_1samp(\n",
        "    a           = muestra,\n",
        "    popmean     = mu_0,\n",
        "    alternative = \"greater\"\n",
        ")\n",
        "print(test)\n",
        "# valor-p indica discordancia entre H_0 y datos, o sea se rechaza H_0\n",
        "# Significa que existe evidencia hacia que media pobl. > 1150 miles"
      ]
    },
    {
      "cell_type": "code",
      "execution_count": null,
      "metadata": {
        "colab": {
          "base_uri": "https://localhost:8080/"
        },
        "id": "_5K-vjja21Vo",
        "outputId": "f0b1ec3b-deea-4265-91d9-cd719553471a"
      },
      "outputs": [
        {
          "data": {
            "text/plain": [
              "ConfidenceInterval(low=1153.2426965411962, high=inf)"
            ]
          },
          "execution_count": 47,
          "metadata": {},
          "output_type": "execute_result"
        }
      ],
      "source": [
        "test.confidence_interval(confidence_level = 0.95)"
      ]
    },
    {
      "cell_type": "markdown",
      "metadata": {
        "id": "uq2LP5A6-_nb"
      },
      "source": [
        "**5.** Realice el paso anterior pero ahora para la hipótesis sobre **Antiguedad**."
      ]
    },
    {
      "cell_type": "markdown",
      "metadata": {
        "id": "Shh8iLkeGgl6"
      },
      "source": [
        "$$\n",
        "\\begin{align}\n",
        "H_0&: \\mu_\\text{nuevos} - \\mu_\\text{antiguos} = 100 \\\\\n",
        "H_1&: \\mu_\\text{nuevos} - \\mu_\\text{antiguos} \\not= 100\n",
        "\\end{align}\n",
        "$$"
      ]
    },
    {
      "cell_type": "code",
      "execution_count": null,
      "metadata": {
        "id": "JQwIGE9H-_nb",
        "colab": {
          "base_uri": "https://localhost:8080/"
        },
        "outputId": "035cca33-503e-4701-dd27-2ff0fb1fc4c3"
      },
      "outputs": [
        {
          "output_type": "stream",
          "name": "stdout",
          "text": [
            "Ttest_indResult(statistic=0.35688209615957206, pvalue=0.7214695457084487)\n"
          ]
        }
      ],
      "source": [
        "muestra_antiguos = data.query(\"Cliente < 250000 & Uso2022 == 1\")[\"Monto2022\"]\n",
        "muestra_nuevos = data.query(\"Cliente >= 250000 & Uso2022 == 1\")[\"Monto2022\"]\n",
        "\n",
        "# H0: nuevos - antiguos = 100\n",
        "# de otra forma: nuevos - (antiguos + 100) = 0\n",
        "\n",
        "\n",
        "from scipy.stats import ttest_ind\n",
        "\n",
        "test = ttest_ind(\n",
        "    a           = muestra_nuevos,\n",
        "    b           = muestra_antiguos + 100,\n",
        "    alternative = \"two-sided\"\n",
        ")\n",
        "print(test)\n",
        "# el valor-p indica que existe concordancia entre H_0 y las muestras, no se rechaza H_0\n",
        "# Existe evidencia hacia que si existe esta diferencia de 100 millones."
      ]
    },
    {
      "cell_type": "markdown",
      "metadata": {
        "id": "gGUzUfbi3AmO"
      },
      "source": [
        "**6.** Ahora, calcule la varianza de las muestras anteriores. Luego, estudie si existe igualdad de varianzas a nivel de población en las muestras del ejercicio anterior utilizando un 95% de confianza. Interprete el resultado de acuerdo al contexto de la problemática ¿Cuál es su impacto?"
      ]
    },
    {
      "cell_type": "markdown",
      "metadata": {
        "id": "3r6KLHa8FfsV"
      },
      "source": [
        "$$\n",
        "\\begin{align}\n",
        "H_0&: {\\sigma^2_\\text{max} \\over \\sigma^2_\\text{min}} = 1 \\\\\n",
        "H_1&: {\\sigma^2_\\text{max} \\over \\sigma^2_\\text{min}} > 1\n",
        "\\end{align}\n",
        "$$"
      ]
    },
    {
      "cell_type": "code",
      "execution_count": null,
      "metadata": {
        "colab": {
          "base_uri": "https://localhost:8080/"
        },
        "id": "JssEudGi4B1H",
        "outputId": "649f203b-2fe9-4107-d468-d1505ea27fa6"
      },
      "outputs": [
        {
          "name": "stdout",
          "output_type": "stream",
          "text": [
            "Varianza mayor: Nuevos\n",
            "Valor-p: 0.013344185441650835\n"
          ]
        }
      ],
      "source": [
        "from scipy.stats import f\n",
        "\n",
        "if muestra_antiguos.var() > muestra_nuevos.var():\n",
        "    mayor = \"Antiguos\"\n",
        "    var_min = muestra_nuevos.var()\n",
        "    var_max = muestra_antiguos.var()\n",
        "    df_min  =  muestra_nuevos.shape[0]\n",
        "    df_max  =  muestra_antiguos.shape[0]\n",
        "else:\n",
        "    mayor = \"Nuevos\"\n",
        "    var_min = muestra_antiguos.var()\n",
        "    var_max = muestra_nuevos.var()\n",
        "    df_min  =  muestra_nuevos.shape[0]\n",
        "    df_max  =  muestra_antiguos.shape[0]\n",
        "\n",
        "F = var_max / var_min\n",
        "valor_p = 1 - f(df_max, df_min).cdf(F)\n",
        "print(\"Varianza mayor:\", mayor)\n",
        "print(\"Valor-p:\", valor_p)\n",
        "\n",
        "# que el valor-p sea menor a 0.05 implica que\n",
        "# hay una discordancia entre los datos y H_0\n",
        "# lo que entrega evidencia hacia que a nivel poblacional\n",
        "# puede ser mayor la varianza del monto de los clientes antiguos.\n",
        "# Esto significaría que la dispersión del monto usado en 2022\n",
        "# respecto a su respectiva media es distinta en ambos tipos de clientes.\n",
        "# En otras palabras, los clientes más nuevos pueden tener un comportamiento\n",
        "# más similar respecto a los antiguos a nivel poblacional (al tener menor varianza muestral)."
      ]
    },
    {
      "cell_type": "markdown",
      "metadata": {
        "id": "hq-mfXfaAdjk"
      },
      "source": [
        "**7.** Para mayor facilidad en la interpretación, se desea estudiar si del total de clientes, el 60% ha usado la tarjeta el año 2022. Realice el test correspondiente usando un 95% de confianza e interprete los resultados en el contexto del problema."
      ]
    },
    {
      "cell_type": "markdown",
      "metadata": {
        "id": "f8GfiKBzEVuV"
      },
      "source": [
        "$$\n",
        "\\begin{align}\n",
        "H_0&: p = 0.6 \\\\\n",
        "H_1&: p \\not = 0.6\n",
        "\\end{align}\n",
        "$$"
      ]
    },
    {
      "cell_type": "code",
      "execution_count": null,
      "metadata": {
        "colab": {
          "base_uri": "https://localhost:8080/"
        },
        "id": "xBl4EM-JAzYG",
        "outputId": "dceddff4-db90-4063-c652-e506680c30dd"
      },
      "outputs": [
        {
          "name": "stdout",
          "output_type": "stream",
          "text": [
            "0.5822222222222222\n",
            "0.4444758124855457\n"
          ]
        }
      ],
      "source": [
        "from statsmodels.stats.proportion import proportions_ztest\n",
        "\n",
        "x = data.query(\"Uso2022 == 1\").shape[0]\n",
        "n = data.shape[0]\n",
        "print(x / n)\n",
        "\n",
        "estadistico, valor_p = proportions_ztest(\n",
        "    count = x,\n",
        "    nobs  = n,\n",
        "    value = 0.6\n",
        ")\n",
        "\n",
        "print(valor_p)\n",
        "\n",
        "# El valor-p indica que hay concordancia entre H_0 y los datos\n",
        "# Lo que significa que hay evidencia hacia que la proporción\n",
        "# de personas a nivel poblacional que ha usado la tarjeta en 2022\n",
        "# sería de un 60%"
      ]
    }
  ],
  "metadata": {
    "colab": {
      "provenance": [],
      "include_colab_link": true
    },
    "kernelspec": {
      "display_name": "default",
      "language": "python",
      "name": "python3"
    },
    "language_info": {
      "codemirror_mode": {
        "name": "ipython",
        "version": 3
      },
      "file_extension": ".py",
      "mimetype": "text/x-python",
      "name": "python",
      "nbconvert_exporter": "python",
      "pygments_lexer": "ipython3",
      "version": "3.9.12"
    },
    "orig_nbformat": 4,
    "vscode": {
      "interpreter": {
        "hash": "3fb0f7d9ac85b35c4db44595658f206fada484d7743b0df944cbbd359afb2df3"
      }
    }
  },
  "nbformat": 4,
  "nbformat_minor": 0
}
