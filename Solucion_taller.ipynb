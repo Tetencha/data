{
 "cells": [
  {
   "cell_type": "markdown",
   "id": "1b114b5c",
   "metadata": {},
   "source": [
    "### Popularidad de canciones en Spotify\n",
    "\n",
    "Se realizó un estudio de canciones de la plataforma Spotify en el año 2019. La idea es comprender qué características de la canción (Niveles de energía, bailabilidad, ruido, en vivo, positividad, acústica y discurso) pueden asociarse con una mayor popularidad de la canción.\n",
    "\n",
    "Las variables de la base de datos _Spotify_ son las siguientes:\n",
    "\n",
    "\n",
    "| Variable              | Descripción                                                                                |\n",
    "|-----------------------|--------------------------------------------------------------------------------------------|\n",
    "| Title                 | Nombre de la canción                                                                       |\n",
    "| Artist                | Nombre del artista                                                                         |\n",
    "| Beats per Minute(BPM) | Tempo de la canción                                                                        |\n",
    "| Energy                | Nivel de energía de una canción, a mayor valor, más enérgica la canción                    |\n",
    "| Danceability          | Nivel de bailabilidad de la canción, a mayor valor, más bailable es la canción             |\n",
    "| Loudness              | Indicador de ruido en decibeles de la canción, a mayor valor, más ruidosa es la canción    |\n",
    "| Positive_mood         | Nivel de positividad de la canción, a mayor valor, más positivo es el estado de ánimo inducido por la canción |\n",
    "| Variable              | Descripción                                                                                |\n",
    "| Length                | Duración de la canción (en segundos)                                                       |\n",
    "| Acoustic              | Nivel de acústica de la canción, a mayor valor, más acústica es la canción                 |\n",
    "| Speechiness           | Nivel de discurso de la canción, a mayor valor, más palabras contiene la canción           |\n",
    "| Liveness              | Nivel de grabación 'en vivo' de la canción, a mayor valor, más grabada en vivo fue la canción |\n",
    "| Popularity            | Índice de popularidad de la canción                                                        |\n"
   ]
  },
  {
   "cell_type": "markdown",
   "id": "0977c776",
   "metadata": {},
   "source": [
    "#### a) Cargue la base de datos y verifique que el formato de las variables sea el correcto. Además, elimine las variables _Title_ y _Artist_ de la base de datos, ya que no son variables informativas para el modelo."
   ]
  },
  {
   "cell_type": "code",
   "execution_count": 1,
   "id": "c92fb3fa",
   "metadata": {},
   "outputs": [],
   "source": [
    "import pandas as pd\n",
    "df = pd.read_excel('Spotify.xlsx')"
   ]
  },
  {
   "cell_type": "code",
   "execution_count": 2,
   "id": "ebb66e8c",
   "metadata": {},
   "outputs": [
    {
     "name": "stdout",
     "output_type": "stream",
     "text": [
      "<class 'pandas.core.frame.DataFrame'>\n",
      "RangeIndex: 1994 entries, 0 to 1993\n",
      "Data columns (total 15 columns):\n",
      " #   Column                  Non-Null Count  Dtype  \n",
      "---  ------                  --------------  -----  \n",
      " 0   Index                   1994 non-null   int64  \n",
      " 1   Title                   1994 non-null   object \n",
      " 2   Artist                  1993 non-null   object \n",
      " 3   Top Genre               1993 non-null   object \n",
      " 4   Year                    1993 non-null   float64\n",
      " 5   Beats Per Minute (BPM)  1993 non-null   float64\n",
      " 6   Energy                  1993 non-null   float64\n",
      " 7   Danceability            1993 non-null   float64\n",
      " 8   Loudness (dB)           1993 non-null   float64\n",
      " 9   Liveness                1993 non-null   float64\n",
      " 10  Positive_mood           1993 non-null   float64\n",
      " 11  Length (Duration)       1993 non-null   float64\n",
      " 12  Acousticness            1993 non-null   float64\n",
      " 13  Speechiness             1993 non-null   float64\n",
      " 14  Popularity              1993 non-null   float64\n",
      "dtypes: float64(11), int64(1), object(3)\n",
      "memory usage: 233.8+ KB\n"
     ]
    }
   ],
   "source": [
    "#formato\n",
    "df.info()"
   ]
  },
  {
   "cell_type": "code",
   "execution_count": 3,
   "id": "49399398",
   "metadata": {},
   "outputs": [],
   "source": [
    "df = df.drop(['Title', 'Artist', 'Index', 'Year', 'Top Genre'], axis = 1)"
   ]
  },
  {
   "cell_type": "code",
   "execution_count": 4,
   "id": "110f95cb",
   "metadata": {},
   "outputs": [],
   "source": [
    "df = df.dropna(ignore_index = True)"
   ]
  },
  {
   "cell_type": "markdown",
   "id": "7286b29c",
   "metadata": {},
   "source": [
    "#### b) Realice una separación de la base de datos en un set de entrenamiento y set de validación, utilice una proporción de 75:25 respectivamente. Para replicar sus resultados fije una semilla. "
   ]
  },
  {
   "cell_type": "code",
   "execution_count": 5,
   "id": "805cafe0",
   "metadata": {},
   "outputs": [],
   "source": [
    "y = df['Popularity']\n",
    "X = df.drop(['Popularity'], axis = 1)"
   ]
  },
  {
   "cell_type": "code",
   "execution_count": 6,
   "id": "7b94787b",
   "metadata": {},
   "outputs": [],
   "source": [
    "from sklearn.model_selection import train_test_split\n",
    "X_train, X_test, y_train, y_test = train_test_split(X, y,\n",
    "                                                   test_size = 0.25,\n",
    "                                                   random_state = 2023)"
   ]
  },
  {
   "cell_type": "markdown",
   "id": "22419895",
   "metadata": {},
   "source": [
    "#### c) Con los datos de entrenamiento realice un modelo de regresión lineal múltiple con todas las variables. Interprete los coeficientes."
   ]
  },
  {
   "cell_type": "code",
   "execution_count": 7,
   "id": "e7cb4274",
   "metadata": {},
   "outputs": [],
   "source": [
    "import statsmodels.api as sm\n",
    "X_train = sm.add_constant(X_train)\n",
    "model = sm.OLS(y_train, X_train)\n",
    "model_1 = model.fit()"
   ]
  },
  {
   "cell_type": "code",
   "execution_count": 8,
   "id": "7dbc35c0",
   "metadata": {},
   "outputs": [
    {
     "data": {
      "text/html": [
       "<table class=\"simpletable\">\n",
       "<caption>OLS Regression Results</caption>\n",
       "<tr>\n",
       "  <th>Dep. Variable:</th>       <td>Popularity</td>    <th>  R-squared:         </th> <td>   0.068</td> \n",
       "</tr>\n",
       "<tr>\n",
       "  <th>Model:</th>                   <td>OLS</td>       <th>  Adj. R-squared:    </th> <td>   0.062</td> \n",
       "</tr>\n",
       "<tr>\n",
       "  <th>Method:</th>             <td>Least Squares</td>  <th>  F-statistic:       </th> <td>   12.03</td> \n",
       "</tr>\n",
       "<tr>\n",
       "  <th>Date:</th>             <td>Wed, 26 Jul 2023</td> <th>  Prob (F-statistic):</th> <td>1.70e-18</td> \n",
       "</tr>\n",
       "<tr>\n",
       "  <th>Time:</th>                 <td>13:13:08</td>     <th>  Log-Likelihood:    </th> <td> -6042.6</td> \n",
       "</tr>\n",
       "<tr>\n",
       "  <th>No. Observations:</th>      <td>  1494</td>      <th>  AIC:               </th> <td>1.211e+04</td>\n",
       "</tr>\n",
       "<tr>\n",
       "  <th>Df Residuals:</th>          <td>  1484</td>      <th>  BIC:               </th> <td>1.216e+04</td>\n",
       "</tr>\n",
       "<tr>\n",
       "  <th>Df Model:</th>              <td>     9</td>      <th>                     </th>     <td> </td>    \n",
       "</tr>\n",
       "<tr>\n",
       "  <th>Covariance Type:</th>      <td>nonrobust</td>    <th>                     </th>     <td> </td>    \n",
       "</tr>\n",
       "</table>\n",
       "<table class=\"simpletable\">\n",
       "<tr>\n",
       "             <td></td>               <th>coef</th>     <th>std err</th>      <th>t</th>      <th>P>|t|</th>  <th>[0.025</th>    <th>0.975]</th>  \n",
       "</tr>\n",
       "<tr>\n",
       "  <th>const</th>                  <td>   69.3172</td> <td>    3.807</td> <td>   18.208</td> <td> 0.000</td> <td>   61.850</td> <td>   76.785</td>\n",
       "</tr>\n",
       "<tr>\n",
       "  <th>Beats Per Minute (BPM)</th> <td>   -0.0032</td> <td>    0.013</td> <td>   -0.239</td> <td> 0.811</td> <td>   -0.029</td> <td>    0.023</td>\n",
       "</tr>\n",
       "<tr>\n",
       "  <th>Energy</th>                 <td>   -0.0890</td> <td>    0.033</td> <td>   -2.729</td> <td> 0.006</td> <td>   -0.153</td> <td>   -0.025</td>\n",
       "</tr>\n",
       "<tr>\n",
       "  <th>Danceability</th>           <td>    0.0837</td> <td>    0.029</td> <td>    2.918</td> <td> 0.004</td> <td>    0.027</td> <td>    0.140</td>\n",
       "</tr>\n",
       "<tr>\n",
       "  <th>Loudness (dB)</th>          <td>    0.9708</td> <td>    0.151</td> <td>    6.441</td> <td> 0.000</td> <td>    0.675</td> <td>    1.266</td>\n",
       "</tr>\n",
       "<tr>\n",
       "  <th>Liveness</th>               <td>   -0.0968</td> <td>    0.022</td> <td>   -4.323</td> <td> 0.000</td> <td>   -0.141</td> <td>   -0.053</td>\n",
       "</tr>\n",
       "<tr>\n",
       "  <th>Positive_mood</th>          <td>    0.0194</td> <td>    0.020</td> <td>    0.990</td> <td> 0.323</td> <td>   -0.019</td> <td>    0.058</td>\n",
       "</tr>\n",
       "<tr>\n",
       "  <th>Length (Duration)</th>      <td>   -0.0018</td> <td>    0.004</td> <td>   -0.402</td> <td> 0.687</td> <td>   -0.011</td> <td>    0.007</td>\n",
       "</tr>\n",
       "<tr>\n",
       "  <th>Acousticness</th>           <td>   -0.0094</td> <td>    0.017</td> <td>   -0.560</td> <td> 0.575</td> <td>   -0.042</td> <td>    0.023</td>\n",
       "</tr>\n",
       "<tr>\n",
       "  <th>Speechiness</th>            <td>    0.2967</td> <td>    0.084</td> <td>    3.534</td> <td> 0.000</td> <td>    0.132</td> <td>    0.461</td>\n",
       "</tr>\n",
       "</table>\n",
       "<table class=\"simpletable\">\n",
       "<tr>\n",
       "  <th>Omnibus:</th>       <td>65.288</td> <th>  Durbin-Watson:     </th> <td>   2.010</td>\n",
       "</tr>\n",
       "<tr>\n",
       "  <th>Prob(Omnibus):</th> <td> 0.000</td> <th>  Jarque-Bera (JB):  </th> <td>  73.328</td>\n",
       "</tr>\n",
       "<tr>\n",
       "  <th>Skew:</th>          <td>-0.541</td> <th>  Prob(JB):          </th> <td>1.19e-16</td>\n",
       "</tr>\n",
       "<tr>\n",
       "  <th>Kurtosis:</th>      <td> 2.916</td> <th>  Cond. No.          </th> <td>3.32e+03</td>\n",
       "</tr>\n",
       "</table><br/><br/>Notes:<br/>[1] Standard Errors assume that the covariance matrix of the errors is correctly specified.<br/>[2] The condition number is large, 3.32e+03. This might indicate that there are<br/>strong multicollinearity or other numerical problems."
      ],
      "text/plain": [
       "<class 'statsmodels.iolib.summary.Summary'>\n",
       "\"\"\"\n",
       "                            OLS Regression Results                            \n",
       "==============================================================================\n",
       "Dep. Variable:             Popularity   R-squared:                       0.068\n",
       "Model:                            OLS   Adj. R-squared:                  0.062\n",
       "Method:                 Least Squares   F-statistic:                     12.03\n",
       "Date:                Wed, 26 Jul 2023   Prob (F-statistic):           1.70e-18\n",
       "Time:                        13:13:08   Log-Likelihood:                -6042.6\n",
       "No. Observations:                1494   AIC:                         1.211e+04\n",
       "Df Residuals:                    1484   BIC:                         1.216e+04\n",
       "Df Model:                           9                                         \n",
       "Covariance Type:            nonrobust                                         \n",
       "==========================================================================================\n",
       "                             coef    std err          t      P>|t|      [0.025      0.975]\n",
       "------------------------------------------------------------------------------------------\n",
       "const                     69.3172      3.807     18.208      0.000      61.850      76.785\n",
       "Beats Per Minute (BPM)    -0.0032      0.013     -0.239      0.811      -0.029       0.023\n",
       "Energy                    -0.0890      0.033     -2.729      0.006      -0.153      -0.025\n",
       "Danceability               0.0837      0.029      2.918      0.004       0.027       0.140\n",
       "Loudness (dB)              0.9708      0.151      6.441      0.000       0.675       1.266\n",
       "Liveness                  -0.0968      0.022     -4.323      0.000      -0.141      -0.053\n",
       "Positive_mood              0.0194      0.020      0.990      0.323      -0.019       0.058\n",
       "Length (Duration)         -0.0018      0.004     -0.402      0.687      -0.011       0.007\n",
       "Acousticness              -0.0094      0.017     -0.560      0.575      -0.042       0.023\n",
       "Speechiness                0.2967      0.084      3.534      0.000       0.132       0.461\n",
       "==============================================================================\n",
       "Omnibus:                       65.288   Durbin-Watson:                   2.010\n",
       "Prob(Omnibus):                  0.000   Jarque-Bera (JB):               73.328\n",
       "Skew:                          -0.541   Prob(JB):                     1.19e-16\n",
       "Kurtosis:                       2.916   Cond. No.                     3.32e+03\n",
       "==============================================================================\n",
       "\n",
       "Notes:\n",
       "[1] Standard Errors assume that the covariance matrix of the errors is correctly specified.\n",
       "[2] The condition number is large, 3.32e+03. This might indicate that there are\n",
       "strong multicollinearity or other numerical problems.\n",
       "\"\"\""
      ]
     },
     "execution_count": 8,
     "metadata": {},
     "output_type": "execute_result"
    }
   ],
   "source": [
    "model_1.summary()"
   ]
  },
  {
   "cell_type": "markdown",
   "id": "b33a417b",
   "metadata": {},
   "source": [
    "#### d) Quite secuencialmente las variables que no aportan al modelo. La variable que aporta menos información al modelo puede identificarse buscando el valor-p más grande en el test de significancia. Ocupe una siginificancia del 0.05. Compare el AIC del modelo obtenido con el modelo anterior, comente. Interprete el coeficiente $R^{2}$.\n"
   ]
  },
  {
   "cell_type": "code",
   "execution_count": 9,
   "id": "f1513281",
   "metadata": {},
   "outputs": [],
   "source": [
    "X_train2 = X_train.drop(['Beats Per Minute (BPM)'], axis = 1)\n",
    "model = sm.OLS(y_train, X_train2)\n",
    "model_2 = model.fit()"
   ]
  },
  {
   "cell_type": "code",
   "execution_count": 10,
   "id": "51d67824",
   "metadata": {},
   "outputs": [
    {
     "data": {
      "text/html": [
       "<table class=\"simpletable\">\n",
       "<caption>OLS Regression Results</caption>\n",
       "<tr>\n",
       "  <th>Dep. Variable:</th>       <td>Popularity</td>    <th>  R-squared:         </th> <td>   0.068</td> \n",
       "</tr>\n",
       "<tr>\n",
       "  <th>Model:</th>                   <td>OLS</td>       <th>  Adj. R-squared:    </th> <td>   0.063</td> \n",
       "</tr>\n",
       "<tr>\n",
       "  <th>Method:</th>             <td>Least Squares</td>  <th>  F-statistic:       </th> <td>   13.54</td> \n",
       "</tr>\n",
       "<tr>\n",
       "  <th>Date:</th>             <td>Wed, 26 Jul 2023</td> <th>  Prob (F-statistic):</th> <td>4.55e-19</td> \n",
       "</tr>\n",
       "<tr>\n",
       "  <th>Time:</th>                 <td>13:13:12</td>     <th>  Log-Likelihood:    </th> <td> -6042.6</td> \n",
       "</tr>\n",
       "<tr>\n",
       "  <th>No. Observations:</th>      <td>  1494</td>      <th>  AIC:               </th> <td>1.210e+04</td>\n",
       "</tr>\n",
       "<tr>\n",
       "  <th>Df Residuals:</th>          <td>  1485</td>      <th>  BIC:               </th> <td>1.215e+04</td>\n",
       "</tr>\n",
       "<tr>\n",
       "  <th>Df Model:</th>              <td>     8</td>      <th>                     </th>     <td> </td>    \n",
       "</tr>\n",
       "<tr>\n",
       "  <th>Covariance Type:</th>      <td>nonrobust</td>    <th>                     </th>     <td> </td>    \n",
       "</tr>\n",
       "</table>\n",
       "<table class=\"simpletable\">\n",
       "<tr>\n",
       "          <td></td>             <th>coef</th>     <th>std err</th>      <th>t</th>      <th>P>|t|</th>  <th>[0.025</th>    <th>0.975]</th>  \n",
       "</tr>\n",
       "<tr>\n",
       "  <th>const</th>             <td>   68.9228</td> <td>    3.431</td> <td>   20.088</td> <td> 0.000</td> <td>   62.193</td> <td>   75.653</td>\n",
       "</tr>\n",
       "<tr>\n",
       "  <th>Energy</th>            <td>   -0.0895</td> <td>    0.033</td> <td>   -2.747</td> <td> 0.006</td> <td>   -0.153</td> <td>   -0.026</td>\n",
       "</tr>\n",
       "<tr>\n",
       "  <th>Danceability</th>      <td>    0.0849</td> <td>    0.028</td> <td>    3.009</td> <td> 0.003</td> <td>    0.030</td> <td>    0.140</td>\n",
       "</tr>\n",
       "<tr>\n",
       "  <th>Loudness (dB)</th>     <td>    0.9712</td> <td>    0.151</td> <td>    6.446</td> <td> 0.000</td> <td>    0.676</td> <td>    1.267</td>\n",
       "</tr>\n",
       "<tr>\n",
       "  <th>Liveness</th>          <td>   -0.0966</td> <td>    0.022</td> <td>   -4.319</td> <td> 0.000</td> <td>   -0.141</td> <td>   -0.053</td>\n",
       "</tr>\n",
       "<tr>\n",
       "  <th>Positive_mood</th>     <td>    0.0190</td> <td>    0.020</td> <td>    0.975</td> <td> 0.330</td> <td>   -0.019</td> <td>    0.057</td>\n",
       "</tr>\n",
       "<tr>\n",
       "  <th>Length (Duration)</th> <td>   -0.0018</td> <td>    0.004</td> <td>   -0.408</td> <td> 0.683</td> <td>   -0.011</td> <td>    0.007</td>\n",
       "</tr>\n",
       "<tr>\n",
       "  <th>Acousticness</th>      <td>   -0.0092</td> <td>    0.017</td> <td>   -0.552</td> <td> 0.581</td> <td>   -0.042</td> <td>    0.024</td>\n",
       "</tr>\n",
       "<tr>\n",
       "  <th>Speechiness</th>       <td>    0.2946</td> <td>    0.083</td> <td>    3.530</td> <td> 0.000</td> <td>    0.131</td> <td>    0.458</td>\n",
       "</tr>\n",
       "</table>\n",
       "<table class=\"simpletable\">\n",
       "<tr>\n",
       "  <th>Omnibus:</th>       <td>65.247</td> <th>  Durbin-Watson:     </th> <td>   2.011</td>\n",
       "</tr>\n",
       "<tr>\n",
       "  <th>Prob(Omnibus):</th> <td> 0.000</td> <th>  Jarque-Bera (JB):  </th> <td>  73.273</td>\n",
       "</tr>\n",
       "<tr>\n",
       "  <th>Skew:</th>          <td>-0.541</td> <th>  Prob(JB):          </th> <td>1.23e-16</td>\n",
       "</tr>\n",
       "<tr>\n",
       "  <th>Kurtosis:</th>      <td> 2.915</td> <th>  Cond. No.          </th> <td>2.77e+03</td>\n",
       "</tr>\n",
       "</table><br/><br/>Notes:<br/>[1] Standard Errors assume that the covariance matrix of the errors is correctly specified.<br/>[2] The condition number is large, 2.77e+03. This might indicate that there are<br/>strong multicollinearity or other numerical problems."
      ],
      "text/plain": [
       "<class 'statsmodels.iolib.summary.Summary'>\n",
       "\"\"\"\n",
       "                            OLS Regression Results                            \n",
       "==============================================================================\n",
       "Dep. Variable:             Popularity   R-squared:                       0.068\n",
       "Model:                            OLS   Adj. R-squared:                  0.063\n",
       "Method:                 Least Squares   F-statistic:                     13.54\n",
       "Date:                Wed, 26 Jul 2023   Prob (F-statistic):           4.55e-19\n",
       "Time:                        13:13:12   Log-Likelihood:                -6042.6\n",
       "No. Observations:                1494   AIC:                         1.210e+04\n",
       "Df Residuals:                    1485   BIC:                         1.215e+04\n",
       "Df Model:                           8                                         \n",
       "Covariance Type:            nonrobust                                         \n",
       "=====================================================================================\n",
       "                        coef    std err          t      P>|t|      [0.025      0.975]\n",
       "-------------------------------------------------------------------------------------\n",
       "const                68.9228      3.431     20.088      0.000      62.193      75.653\n",
       "Energy               -0.0895      0.033     -2.747      0.006      -0.153      -0.026\n",
       "Danceability          0.0849      0.028      3.009      0.003       0.030       0.140\n",
       "Loudness (dB)         0.9712      0.151      6.446      0.000       0.676       1.267\n",
       "Liveness             -0.0966      0.022     -4.319      0.000      -0.141      -0.053\n",
       "Positive_mood         0.0190      0.020      0.975      0.330      -0.019       0.057\n",
       "Length (Duration)    -0.0018      0.004     -0.408      0.683      -0.011       0.007\n",
       "Acousticness         -0.0092      0.017     -0.552      0.581      -0.042       0.024\n",
       "Speechiness           0.2946      0.083      3.530      0.000       0.131       0.458\n",
       "==============================================================================\n",
       "Omnibus:                       65.247   Durbin-Watson:                   2.011\n",
       "Prob(Omnibus):                  0.000   Jarque-Bera (JB):               73.273\n",
       "Skew:                          -0.541   Prob(JB):                     1.23e-16\n",
       "Kurtosis:                       2.915   Cond. No.                     2.77e+03\n",
       "==============================================================================\n",
       "\n",
       "Notes:\n",
       "[1] Standard Errors assume that the covariance matrix of the errors is correctly specified.\n",
       "[2] The condition number is large, 2.77e+03. This might indicate that there are\n",
       "strong multicollinearity or other numerical problems.\n",
       "\"\"\""
      ]
     },
     "execution_count": 10,
     "metadata": {},
     "output_type": "execute_result"
    }
   ],
   "source": [
    "model_2.summary()"
   ]
  },
  {
   "cell_type": "code",
   "execution_count": 11,
   "id": "6e1f2aa6",
   "metadata": {},
   "outputs": [],
   "source": [
    "X_train3 = X_train2.drop(['Length (Duration)'], axis = 1)\n",
    "model = sm.OLS(y_train, X_train3)\n",
    "model_3 = model.fit()"
   ]
  },
  {
   "cell_type": "code",
   "execution_count": 12,
   "id": "50f7ebce",
   "metadata": {},
   "outputs": [
    {
     "data": {
      "text/html": [
       "<table class=\"simpletable\">\n",
       "<caption>OLS Regression Results</caption>\n",
       "<tr>\n",
       "  <th>Dep. Variable:</th>       <td>Popularity</td>    <th>  R-squared:         </th> <td>   0.068</td> \n",
       "</tr>\n",
       "<tr>\n",
       "  <th>Model:</th>                   <td>OLS</td>       <th>  Adj. R-squared:    </th> <td>   0.063</td> \n",
       "</tr>\n",
       "<tr>\n",
       "  <th>Method:</th>             <td>Least Squares</td>  <th>  F-statistic:       </th> <td>   15.46</td> \n",
       "</tr>\n",
       "<tr>\n",
       "  <th>Date:</th>             <td>Wed, 26 Jul 2023</td> <th>  Prob (F-statistic):</th> <td>1.20e-19</td> \n",
       "</tr>\n",
       "<tr>\n",
       "  <th>Time:</th>                 <td>13:13:15</td>     <th>  Log-Likelihood:    </th> <td> -6042.7</td> \n",
       "</tr>\n",
       "<tr>\n",
       "  <th>No. Observations:</th>      <td>  1494</td>      <th>  AIC:               </th> <td>1.210e+04</td>\n",
       "</tr>\n",
       "<tr>\n",
       "  <th>Df Residuals:</th>          <td>  1486</td>      <th>  BIC:               </th> <td>1.214e+04</td>\n",
       "</tr>\n",
       "<tr>\n",
       "  <th>Df Model:</th>              <td>     7</td>      <th>                     </th>     <td> </td>    \n",
       "</tr>\n",
       "<tr>\n",
       "  <th>Covariance Type:</th>      <td>nonrobust</td>    <th>                     </th>     <td> </td>    \n",
       "</tr>\n",
       "</table>\n",
       "<table class=\"simpletable\">\n",
       "<tr>\n",
       "        <td></td>           <th>coef</th>     <th>std err</th>      <th>t</th>      <th>P>|t|</th>  <th>[0.025</th>    <th>0.975]</th>  \n",
       "</tr>\n",
       "<tr>\n",
       "  <th>const</th>         <td>   68.5031</td> <td>    3.273</td> <td>   20.932</td> <td> 0.000</td> <td>   62.084</td> <td>   74.923</td>\n",
       "</tr>\n",
       "<tr>\n",
       "  <th>Energy</th>        <td>   -0.0911</td> <td>    0.032</td> <td>   -2.819</td> <td> 0.005</td> <td>   -0.154</td> <td>   -0.028</td>\n",
       "</tr>\n",
       "<tr>\n",
       "  <th>Danceability</th>  <td>    0.0850</td> <td>    0.028</td> <td>    3.012</td> <td> 0.003</td> <td>    0.030</td> <td>    0.140</td>\n",
       "</tr>\n",
       "<tr>\n",
       "  <th>Loudness (dB)</th> <td>    0.9801</td> <td>    0.149</td> <td>    6.577</td> <td> 0.000</td> <td>    0.688</td> <td>    1.272</td>\n",
       "</tr>\n",
       "<tr>\n",
       "  <th>Liveness</th>      <td>   -0.0967</td> <td>    0.022</td> <td>   -4.321</td> <td> 0.000</td> <td>   -0.141</td> <td>   -0.053</td>\n",
       "</tr>\n",
       "<tr>\n",
       "  <th>Positive_mood</th> <td>    0.0209</td> <td>    0.019</td> <td>    1.102</td> <td> 0.271</td> <td>   -0.016</td> <td>    0.058</td>\n",
       "</tr>\n",
       "<tr>\n",
       "  <th>Acousticness</th>  <td>   -0.0086</td> <td>    0.017</td> <td>   -0.516</td> <td> 0.606</td> <td>   -0.041</td> <td>    0.024</td>\n",
       "</tr>\n",
       "<tr>\n",
       "  <th>Speechiness</th>   <td>    0.2959</td> <td>    0.083</td> <td>    3.549</td> <td> 0.000</td> <td>    0.132</td> <td>    0.460</td>\n",
       "</tr>\n",
       "</table>\n",
       "<table class=\"simpletable\">\n",
       "<tr>\n",
       "  <th>Omnibus:</th>       <td>64.946</td> <th>  Durbin-Watson:     </th> <td>   2.009</td>\n",
       "</tr>\n",
       "<tr>\n",
       "  <th>Prob(Omnibus):</th> <td> 0.000</td> <th>  Jarque-Bera (JB):  </th> <td>  72.884</td>\n",
       "</tr>\n",
       "<tr>\n",
       "  <th>Skew:</th>          <td>-0.539</td> <th>  Prob(JB):          </th> <td>1.49e-16</td>\n",
       "</tr>\n",
       "<tr>\n",
       "  <th>Kurtosis:</th>      <td> 2.912</td> <th>  Cond. No.          </th> <td>    940.</td>\n",
       "</tr>\n",
       "</table><br/><br/>Notes:<br/>[1] Standard Errors assume that the covariance matrix of the errors is correctly specified."
      ],
      "text/plain": [
       "<class 'statsmodels.iolib.summary.Summary'>\n",
       "\"\"\"\n",
       "                            OLS Regression Results                            \n",
       "==============================================================================\n",
       "Dep. Variable:             Popularity   R-squared:                       0.068\n",
       "Model:                            OLS   Adj. R-squared:                  0.063\n",
       "Method:                 Least Squares   F-statistic:                     15.46\n",
       "Date:                Wed, 26 Jul 2023   Prob (F-statistic):           1.20e-19\n",
       "Time:                        13:13:15   Log-Likelihood:                -6042.7\n",
       "No. Observations:                1494   AIC:                         1.210e+04\n",
       "Df Residuals:                    1486   BIC:                         1.214e+04\n",
       "Df Model:                           7                                         \n",
       "Covariance Type:            nonrobust                                         \n",
       "=================================================================================\n",
       "                    coef    std err          t      P>|t|      [0.025      0.975]\n",
       "---------------------------------------------------------------------------------\n",
       "const            68.5031      3.273     20.932      0.000      62.084      74.923\n",
       "Energy           -0.0911      0.032     -2.819      0.005      -0.154      -0.028\n",
       "Danceability      0.0850      0.028      3.012      0.003       0.030       0.140\n",
       "Loudness (dB)     0.9801      0.149      6.577      0.000       0.688       1.272\n",
       "Liveness         -0.0967      0.022     -4.321      0.000      -0.141      -0.053\n",
       "Positive_mood     0.0209      0.019      1.102      0.271      -0.016       0.058\n",
       "Acousticness     -0.0086      0.017     -0.516      0.606      -0.041       0.024\n",
       "Speechiness       0.2959      0.083      3.549      0.000       0.132       0.460\n",
       "==============================================================================\n",
       "Omnibus:                       64.946   Durbin-Watson:                   2.009\n",
       "Prob(Omnibus):                  0.000   Jarque-Bera (JB):               72.884\n",
       "Skew:                          -0.539   Prob(JB):                     1.49e-16\n",
       "Kurtosis:                       2.912   Cond. No.                         940.\n",
       "==============================================================================\n",
       "\n",
       "Notes:\n",
       "[1] Standard Errors assume that the covariance matrix of the errors is correctly specified.\n",
       "\"\"\""
      ]
     },
     "execution_count": 12,
     "metadata": {},
     "output_type": "execute_result"
    }
   ],
   "source": [
    "model_3.summary()"
   ]
  },
  {
   "cell_type": "code",
   "execution_count": 13,
   "id": "89566ac3",
   "metadata": {},
   "outputs": [],
   "source": [
    "X_train4 = X_train3.drop(['Acousticness'], axis = 1)\n",
    "model = sm.OLS(y_train, X_train4)\n",
    "model_4 = model.fit()"
   ]
  },
  {
   "cell_type": "code",
   "execution_count": 14,
   "id": "41bac5b9",
   "metadata": {},
   "outputs": [
    {
     "data": {
      "text/html": [
       "<table class=\"simpletable\">\n",
       "<caption>OLS Regression Results</caption>\n",
       "<tr>\n",
       "  <th>Dep. Variable:</th>       <td>Popularity</td>    <th>  R-squared:         </th> <td>   0.068</td> \n",
       "</tr>\n",
       "<tr>\n",
       "  <th>Model:</th>                   <td>OLS</td>       <th>  Adj. R-squared:    </th> <td>   0.064</td> \n",
       "</tr>\n",
       "<tr>\n",
       "  <th>Method:</th>             <td>Least Squares</td>  <th>  F-statistic:       </th> <td>   18.00</td> \n",
       "</tr>\n",
       "<tr>\n",
       "  <th>Date:</th>             <td>Wed, 26 Jul 2023</td> <th>  Prob (F-statistic):</th> <td>3.04e-20</td> \n",
       "</tr>\n",
       "<tr>\n",
       "  <th>Time:</th>                 <td>13:13:16</td>     <th>  Log-Likelihood:    </th> <td> -6042.9</td> \n",
       "</tr>\n",
       "<tr>\n",
       "  <th>No. Observations:</th>      <td>  1494</td>      <th>  AIC:               </th> <td>1.210e+04</td>\n",
       "</tr>\n",
       "<tr>\n",
       "  <th>Df Residuals:</th>          <td>  1487</td>      <th>  BIC:               </th> <td>1.214e+04</td>\n",
       "</tr>\n",
       "<tr>\n",
       "  <th>Df Model:</th>              <td>     6</td>      <th>                     </th>     <td> </td>    \n",
       "</tr>\n",
       "<tr>\n",
       "  <th>Covariance Type:</th>      <td>nonrobust</td>    <th>                     </th>     <td> </td>    \n",
       "</tr>\n",
       "</table>\n",
       "<table class=\"simpletable\">\n",
       "<tr>\n",
       "        <td></td>           <th>coef</th>     <th>std err</th>      <th>t</th>      <th>P>|t|</th>  <th>[0.025</th>    <th>0.975]</th>  \n",
       "</tr>\n",
       "<tr>\n",
       "  <th>const</th>         <td>   67.6561</td> <td>    2.830</td> <td>   23.903</td> <td> 0.000</td> <td>   62.104</td> <td>   73.208</td>\n",
       "</tr>\n",
       "<tr>\n",
       "  <th>Energy</th>        <td>   -0.0821</td> <td>    0.027</td> <td>   -3.023</td> <td> 0.003</td> <td>   -0.135</td> <td>   -0.029</td>\n",
       "</tr>\n",
       "<tr>\n",
       "  <th>Danceability</th>  <td>    0.0863</td> <td>    0.028</td> <td>    3.072</td> <td> 0.002</td> <td>    0.031</td> <td>    0.141</td>\n",
       "</tr>\n",
       "<tr>\n",
       "  <th>Loudness (dB)</th> <td>    0.9726</td> <td>    0.148</td> <td>    6.559</td> <td> 0.000</td> <td>    0.682</td> <td>    1.263</td>\n",
       "</tr>\n",
       "<tr>\n",
       "  <th>Liveness</th>      <td>   -0.0975</td> <td>    0.022</td> <td>   -4.367</td> <td> 0.000</td> <td>   -0.141</td> <td>   -0.054</td>\n",
       "</tr>\n",
       "<tr>\n",
       "  <th>Positive_mood</th> <td>    0.0199</td> <td>    0.019</td> <td>    1.057</td> <td> 0.291</td> <td>   -0.017</td> <td>    0.057</td>\n",
       "</tr>\n",
       "<tr>\n",
       "  <th>Speechiness</th>   <td>    0.2931</td> <td>    0.083</td> <td>    3.523</td> <td> 0.000</td> <td>    0.130</td> <td>    0.456</td>\n",
       "</tr>\n",
       "</table>\n",
       "<table class=\"simpletable\">\n",
       "<tr>\n",
       "  <th>Omnibus:</th>       <td>64.624</td> <th>  Durbin-Watson:     </th> <td>   2.009</td>\n",
       "</tr>\n",
       "<tr>\n",
       "  <th>Prob(Omnibus):</th> <td> 0.000</td> <th>  Jarque-Bera (JB):  </th> <td>  72.475</td>\n",
       "</tr>\n",
       "<tr>\n",
       "  <th>Skew:</th>          <td>-0.538</td> <th>  Prob(JB):          </th> <td>1.83e-16</td>\n",
       "</tr>\n",
       "<tr>\n",
       "  <th>Kurtosis:</th>      <td> 2.911</td> <th>  Cond. No.          </th> <td>    789.</td>\n",
       "</tr>\n",
       "</table><br/><br/>Notes:<br/>[1] Standard Errors assume that the covariance matrix of the errors is correctly specified."
      ],
      "text/plain": [
       "<class 'statsmodels.iolib.summary.Summary'>\n",
       "\"\"\"\n",
       "                            OLS Regression Results                            \n",
       "==============================================================================\n",
       "Dep. Variable:             Popularity   R-squared:                       0.068\n",
       "Model:                            OLS   Adj. R-squared:                  0.064\n",
       "Method:                 Least Squares   F-statistic:                     18.00\n",
       "Date:                Wed, 26 Jul 2023   Prob (F-statistic):           3.04e-20\n",
       "Time:                        13:13:16   Log-Likelihood:                -6042.9\n",
       "No. Observations:                1494   AIC:                         1.210e+04\n",
       "Df Residuals:                    1487   BIC:                         1.214e+04\n",
       "Df Model:                           6                                         \n",
       "Covariance Type:            nonrobust                                         \n",
       "=================================================================================\n",
       "                    coef    std err          t      P>|t|      [0.025      0.975]\n",
       "---------------------------------------------------------------------------------\n",
       "const            67.6561      2.830     23.903      0.000      62.104      73.208\n",
       "Energy           -0.0821      0.027     -3.023      0.003      -0.135      -0.029\n",
       "Danceability      0.0863      0.028      3.072      0.002       0.031       0.141\n",
       "Loudness (dB)     0.9726      0.148      6.559      0.000       0.682       1.263\n",
       "Liveness         -0.0975      0.022     -4.367      0.000      -0.141      -0.054\n",
       "Positive_mood     0.0199      0.019      1.057      0.291      -0.017       0.057\n",
       "Speechiness       0.2931      0.083      3.523      0.000       0.130       0.456\n",
       "==============================================================================\n",
       "Omnibus:                       64.624   Durbin-Watson:                   2.009\n",
       "Prob(Omnibus):                  0.000   Jarque-Bera (JB):               72.475\n",
       "Skew:                          -0.538   Prob(JB):                     1.83e-16\n",
       "Kurtosis:                       2.911   Cond. No.                         789.\n",
       "==============================================================================\n",
       "\n",
       "Notes:\n",
       "[1] Standard Errors assume that the covariance matrix of the errors is correctly specified.\n",
       "\"\"\""
      ]
     },
     "execution_count": 14,
     "metadata": {},
     "output_type": "execute_result"
    }
   ],
   "source": [
    "model_4.summary()"
   ]
  },
  {
   "cell_type": "code",
   "execution_count": 15,
   "id": "069b6eae",
   "metadata": {},
   "outputs": [],
   "source": [
    "X_train5 = X_train4.drop(['Positive_mood'], axis = 1)\n",
    "model = sm.OLS(y_train, X_train5)\n",
    "model_5 = model.fit()"
   ]
  },
  {
   "cell_type": "code",
   "execution_count": 16,
   "id": "0274280d",
   "metadata": {},
   "outputs": [
    {
     "name": "stdout",
     "output_type": "stream",
     "text": [
      "model 1: 12105.221040170976\n",
      "model 2: 12103.278753633884\n",
      "model 3: 12101.4466017168\n",
      "model 4: 12099.714236415966\n",
      "model 5: 12098.835332507926\n"
     ]
    }
   ],
   "source": [
    "print(f'model 1: {model_1.aic}')\n",
    "print(f'model 2: {model_2.aic}')\n",
    "print(f'model 3: {model_3.aic}')\n",
    "print(f'model 4: {model_4.aic}')\n",
    "print(f'model 5: {model_5.aic}')"
   ]
  },
  {
   "cell_type": "markdown",
   "id": "324385aa",
   "metadata": {},
   "source": [
    "Mientras mas pequeño el valor de AIC, mejor es el modelo, por lo tanto, el modelo más pequeño tienen mejor ajuste según el AIC."
   ]
  },
  {
   "cell_type": "code",
   "execution_count": 18,
   "id": "b7556535",
   "metadata": {},
   "outputs": [
    {
     "name": "stdout",
     "output_type": "stream",
     "text": [
      "model 1: 0.06801319659439764\n",
      "model 2: 0.06797719309724626\n",
      "model 3: 0.06787247621004777\n",
      "model 4: 0.06770548021559952\n",
      "model 5: 0.06700562479645\n"
     ]
    }
   ],
   "source": [
    "print(f'model 1: {model_1.rsquared}')\n",
    "print(f'model 2: {model_2.rsquared}')\n",
    "print(f'model 3: {model_3.rsquared}')\n",
    "print(f'model 4: {model_4.rsquared}')\n",
    "print(f'model 5: {model_5.rsquared}')"
   ]
  },
  {
   "cell_type": "markdown",
   "id": "2de79329",
   "metadata": {},
   "source": [
    "Mientras tanto, el mejor R2−ajustado es el modelo 3."
   ]
  },
  {
   "cell_type": "markdown",
   "id": "186d73fd",
   "metadata": {},
   "source": [
    "#### e) Realice análisis del supuesto de normalidad de los residuos. Para esto, utilice algún test de normalidad en Python. Obtenga el gráfico cuantil-cuantil de los residuos estandarizados. Comente."
   ]
  },
  {
   "cell_type": "code",
   "execution_count": 19,
   "id": "f73200db",
   "metadata": {},
   "outputs": [
    {
     "data": {
      "image/png": "[encoded data removed]",
      "text/plain": [
       "<Figure size 640x480 with 1 Axes>"
      ]
     },
     "metadata": {},
     "output_type": "display_data"
    }
   ],
   "source": [
    "# Normalidad\n",
    "\n",
    "## Grafico \n",
    "import statsmodels.api as sm\n",
    "\n",
    "sm.qqplot(model_5.resid, line = 'q');"
   ]
  },
  {
   "cell_type": "code",
   "execution_count": 20,
   "id": "43980462",
   "metadata": {},
   "outputs": [],
   "source": [
    "from scipy.stats import kstest\n",
    "## TEST\n",
    "# H0: Normalidad \n",
    "# H1: No Normalidad\n",
    "ks_test = kstest(model_5.resid, 'norm')"
   ]
  },
  {
   "cell_type": "code",
   "execution_count": 21,
   "id": "f6bddbac",
   "metadata": {},
   "outputs": [
    {
     "data": {
      "text/plain": [
       "True"
      ]
     },
     "execution_count": 21,
     "metadata": {},
     "output_type": "execute_result"
    }
   ],
   "source": [
    "ks_test.pvalue < 0.05 #se rechaza H0"
   ]
  },
  {
   "cell_type": "markdown",
   "id": "bd5d2a41",
   "metadata": {},
   "source": [
    "Se rechaza la normalidad de los residuos. Viendo el gráfico de cuantil-cuantil, se aprecia que tiene las colas muy pesadas."
   ]
  },
  {
   "cell_type": "markdown",
   "id": "cf420c75",
   "metadata": {},
   "source": [
    "\n",
    "#### f) Realice análisis del supuesto de homocedasticidad e independencia de los residuos.\n"
   ]
  },
  {
   "cell_type": "code",
   "execution_count": 22,
   "id": "a144b98c",
   "metadata": {},
   "outputs": [],
   "source": [
    "# Homocedasticidad -> varianza iguales \n",
    "### Test Breuch-Pagan\n",
    "#### H0: Homocedasticidad\n",
    "#### H1: Heterocedasticos\n",
    "import statsmodels.stats.api as sms\n",
    "estadistico, valor_p, _, _ = sms.het_breuschpagan(model_5.resid, model_5.model.exog)"
   ]
  },
  {
   "cell_type": "code",
   "execution_count": 23,
   "id": "4e7c4367",
   "metadata": {},
   "outputs": [
    {
     "data": {
      "text/plain": [
       "True"
      ]
     },
     "execution_count": 23,
     "metadata": {},
     "output_type": "execute_result"
    }
   ],
   "source": [
    "valor_p < 0.05"
   ]
  },
  {
   "cell_type": "markdown",
   "id": "34a77a71",
   "metadata": {},
   "source": [
    "Si se ocupa una significancia de 0.05, no se cumple el supuesto de Homocedasticidad. Se rechaza la hipótesis nula. Por lo tanto, se rechaza que los residuos tengan una varianza constante."
   ]
  },
  {
   "cell_type": "markdown",
   "id": "2b503096",
   "metadata": {},
   "source": [
    "#### g) Una disquera quiere asegurar que su próximo lanzamiento en Spotify será todo un éxito y alcanzará grandes valores de popularidad. El track tiene las siguientes características:\n",
    "\n",
    "- Beats per Minute(BPM): 109\n",
    "- Energy: 63\n",
    "- Danceability: 32 \n",
    "- Loudness (dB): -3\n",
    "- Liveness: 0\n",
    "- Positive_mood: 54 \n",
    "- Length: 195\n",
    "- Acousticness: 20\n",
    "- Speechiness: 72\n",
    "\n",
    "#### En base al modelo entrenado, ¿usted le indicaría a la disquera que la canción tendrá alta o baja popularidad?"
   ]
  },
  {
   "cell_type": "code",
   "execution_count": 24,
   "id": "85ccfe92",
   "metadata": {},
   "outputs": [],
   "source": [
    "prediction = pd.DataFrame({'const':1.0,\n",
    "                           'Beats Per Minute (BPM)' : 109, \n",
    "                           'Energy' : 63, \n",
    "                           'Danceability' : 32, \n",
    "                           'Loudness (dB)' : -3, \n",
    "                           'Liveness' : 0, \n",
    "                           'Positive_mood' : 54, \n",
    "                           'Length (Duration)' : 195,\n",
    "                           'Acousticness' : 20, \n",
    "                           'Speechiness' : 72\n",
    "}, index = [0])"
   ]
  },
  {
   "cell_type": "code",
   "execution_count": 29,
   "id": "dfa465b4",
   "metadata": {},
   "outputs": [],
   "source": [
    "variables_prediccion = prediction[X_train5.columns]"
   ]
  },
  {
   "cell_type": "code",
   "execution_count": 30,
   "id": "703a4e25",
   "metadata": {},
   "outputs": [],
   "source": [
    "y_pred = model_5.predict(variables_prediccion)"
   ]
  },
  {
   "cell_type": "code",
   "execution_count": 31,
   "id": "b45d71b1",
   "metadata": {},
   "outputs": [
    {
     "data": {
      "text/plain": [
       "0    83.597422\n",
       "dtype: float64"
      ]
     },
     "execution_count": 31,
     "metadata": {},
     "output_type": "execute_result"
    }
   ],
   "source": [
    "y_pred"
   ]
  },
  {
   "cell_type": "markdown",
   "id": "9e37cc7a",
   "metadata": {},
   "source": [
    "Como la popularidad se mueve entre 11 a 100, el valor de 83.597422 se considera alto."
   ]
  },
  {
   "cell_type": "markdown",
   "id": "85174767",
   "metadata": {},
   "source": [
    "### Fuga de clientes de una entidad bancaria\n",
    "\n",
    "Cuando un cliente abandona la relación con cierta empresa o entidad, se le denomina *fuga*. En este taller, se desea construir un modelo de regresión logística para predecir la fuga de clientes de una entidad bancaria.\n",
    "\n",
    "Los datos se encuentran en la base de datos _Fuga_ y la variable target se define como 1 si el cliente se fugó en el período de estudio y 0 si no. En el caso de que el cliente se haya fugado, se dispone de información de los últimos 12 meses antes de que se fugara, en el caso de que no se haya fugado, se dispone de información de los últimos 12 meses hasta el momento de la extracción de los datos. Las variables son las siguientes:\n",
    "\n",
    "\n",
    "| Variable          | Descripción                                                                          |\n",
    "|-------------------|--------------------------------------------------------------------------------------|\n",
    "| Target            | Indica si un cliente se ha fugado (1: fugado, 0: no fugado)                          |\n",
    "| Sexo              | Indica el sexo del cliente (M: mujer, H: hombre)                                     |\n",
    "| Edad              | Edad del cliente (en años)                                                           |\n",
    "| Antigüedad        | Meses de antiguedad del cliente en la institución                                    |\n",
    "| Internauta        | Indica si un cliente utiliza los servicios web (1: sí, 0: no)                        |\n",
    "| TC                | Número de tarjetas de crédito del cliente                                            |\n",
    "| Cupo_TC           | Cupo promedio en tarjetas de crédito del cliente                                     |\n",
    "| N_meses_activo    | Número de meses en los que el cliente realizó alguna transacción (últimos 12 meses)  |\n",
    "| N_meses_avances   | Número de meses en los que el cliente realizó un avance (últimos 12 meses)           |\n",
    "| N_transacciones   | Número de transacciones que realizó (últimos 12 meses)                               |\n",
    "| Prom_revolving_TC | Revolving promedio (últimos 12 meses)                                                |\n",
    "| Prom_facturado    | Promedio monto facturado (últimos 12 meses)                                          |\n",
    "| Prom_pagos        | Promedio monto pagado mensualmente (últimos 12 meses)                                |\n",
    "| Prom_uso_TC       | Promedio de uso de la Tarjeta de crédito (últimos 12 meses)                          |\n",
    "\n",
    "**Nota:** El revolving corresponde a una línea de crédito concedida por una entidad financiera a un cliente, con un límite establecido del que puede disponer durante un tiempo determinado.\n",
    "\n",
    "\n",
    "\n",
    "#### a) Cargue los datos en Python y revise los formatos de cada variable, recuerde codificar las variables como numéricas o factores según corresponda.\n",
    "\n",
    "\n"
   ]
  },
  {
   "cell_type": "code",
   "execution_count": 1,
   "id": "1af17057",
   "metadata": {},
   "outputs": [],
   "source": [
    "import pandas as pd\n",
    "df = pd.read_excel('Fuga.xlsx')"
   ]
  },
  {
   "cell_type": "code",
   "execution_count": 33,
   "id": "dc06f87a",
   "metadata": {},
   "outputs": [
    {
     "name": "stdout",
     "output_type": "stream",
     "text": [
      "<class 'pandas.core.frame.DataFrame'>\n",
      "RangeIndex: 35540 entries, 0 to 35539\n",
      "Data columns (total 14 columns):\n",
      " #   Column             Non-Null Count  Dtype  \n",
      "---  ------             --------------  -----  \n",
      " 0   Target             35540 non-null  int64  \n",
      " 1   Sexo               35540 non-null  object \n",
      " 2   Edad               35540 non-null  int64  \n",
      " 3   Antiguedad         35540 non-null  int64  \n",
      " 4   Internauta         35540 non-null  int64  \n",
      " 5   TC                 35540 non-null  int64  \n",
      " 6   Cupo_TC            35540 non-null  float64\n",
      " 7   N_meses_activo     35540 non-null  int64  \n",
      " 8   N_meses_avances    35540 non-null  int64  \n",
      " 9   N_transacciones    35540 non-null  int64  \n",
      " 10  Prom_revolving_TC  35540 non-null  float64\n",
      " 11  Prom_facturado     35540 non-null  float64\n",
      " 12  Prom_pagos         35540 non-null  float64\n",
      " 13  Prom_uso_TC        35540 non-null  float64\n",
      "dtypes: float64(5), int64(8), object(1)\n",
      "memory usage: 3.8+ MB\n"
     ]
    }
   ],
   "source": [
    "df.info() "
   ]
  },
  {
   "cell_type": "code",
   "execution_count": 2,
   "id": "c49ea360",
   "metadata": {},
   "outputs": [],
   "source": [
    "df['Internauta'] = df['Internauta'].astype('object')"
   ]
  },
  {
   "cell_type": "code",
   "execution_count": 35,
   "id": "275337fb",
   "metadata": {},
   "outputs": [
    {
     "name": "stdout",
     "output_type": "stream",
     "text": [
      "<class 'pandas.core.frame.DataFrame'>\n",
      "RangeIndex: 35540 entries, 0 to 35539\n",
      "Data columns (total 14 columns):\n",
      " #   Column             Non-Null Count  Dtype  \n",
      "---  ------             --------------  -----  \n",
      " 0   Target             35540 non-null  int64  \n",
      " 1   Sexo               35540 non-null  object \n",
      " 2   Edad               35540 non-null  int64  \n",
      " 3   Antiguedad         35540 non-null  int64  \n",
      " 4   Internauta         35540 non-null  object \n",
      " 5   TC                 35540 non-null  int64  \n",
      " 6   Cupo_TC            35540 non-null  float64\n",
      " 7   N_meses_activo     35540 non-null  int64  \n",
      " 8   N_meses_avances    35540 non-null  int64  \n",
      " 9   N_transacciones    35540 non-null  int64  \n",
      " 10  Prom_revolving_TC  35540 non-null  float64\n",
      " 11  Prom_facturado     35540 non-null  float64\n",
      " 12  Prom_pagos         35540 non-null  float64\n",
      " 13  Prom_uso_TC        35540 non-null  float64\n",
      "dtypes: float64(5), int64(7), object(2)\n",
      "memory usage: 3.8+ MB\n"
     ]
    }
   ],
   "source": [
    "df.info()"
   ]
  },
  {
   "cell_type": "markdown",
   "id": "2bf8db4b",
   "metadata": {},
   "source": [
    "#### b) Realice una separación de la base de datos en un set de entrenamiento y set de validación, utilice una proporción de 80:20 respectivamente. Para poder replicar sus resultados, fije una semilla antes de obtener los índices.\n"
   ]
  },
  {
   "cell_type": "code",
   "execution_count": 3,
   "id": "e326684a",
   "metadata": {},
   "outputs": [],
   "source": [
    "df = pd.get_dummies(df, drop_first = True, dtype = int)"
   ]
  },
  {
   "cell_type": "code",
   "execution_count": 4,
   "id": "e6e4955c",
   "metadata": {},
   "outputs": [],
   "source": [
    "y = df['Target']\n",
    "X = df.drop(['Target'], axis = 1)"
   ]
  },
  {
   "cell_type": "code",
   "execution_count": 5,
   "id": "816b77e8",
   "metadata": {},
   "outputs": [],
   "source": [
    "import random \n",
    "from sklearn.model_selection import train_test_split\n",
    "random.seed(2)\n",
    "X_train, X_test, y_train, y_test = train_test_split(X, y,\n",
    "                                                   test_size = 0.2,\n",
    "                                                   random_state = 2023)"
   ]
  },
  {
   "cell_type": "markdown",
   "id": "65e34bd9",
   "metadata": {},
   "source": [
    "#### c) Con los datos de entrenamiento realice un modelo de regresión logística para estudiar la fuga de clientes, para ello utilice las variables sexo, edad y el monto promedio facturado como variables predictoras.\n",
    "\n",
    "c.1) Calcule e interprete los OR correspondientes al modelo, ¿son estos factores protectores o agravantes de la fuga del cliente?\n"
   ]
  },
  {
   "cell_type": "code",
   "execution_count": 6,
   "id": "eeda4acf",
   "metadata": {},
   "outputs": [],
   "source": [
    "X_train_nvo = X_train[['Sexo_M', 'Edad', 'Prom_facturado']]"
   ]
  },
  {
   "cell_type": "code",
   "execution_count": 7,
   "id": "7268e7a2",
   "metadata": {},
   "outputs": [
    {
     "name": "stdout",
     "output_type": "stream",
     "text": [
      "Optimization terminated successfully.\n",
      "         Current function value: 0.282999\n",
      "         Iterations 7\n"
     ]
    }
   ],
   "source": [
    "import statsmodels.api as sm\n",
    "X_train_nvo = sm.add_constant(X_train_nvo)\n",
    "model_logist = sm.Logit(y_train, X_train_nvo).fit()"
   ]
  },
  {
   "cell_type": "code",
   "execution_count": 41,
   "id": "73b5e0e7",
   "metadata": {},
   "outputs": [
    {
     "data": {
      "text/html": [
       "<table class=\"simpletable\">\n",
       "<caption>Logit Regression Results</caption>\n",
       "<tr>\n",
       "  <th>Dep. Variable:</th>        <td>Target</td>      <th>  No. Observations:  </th>   <td> 28432</td>  \n",
       "</tr>\n",
       "<tr>\n",
       "  <th>Model:</th>                 <td>Logit</td>      <th>  Df Residuals:      </th>   <td> 28428</td>  \n",
       "</tr>\n",
       "<tr>\n",
       "  <th>Method:</th>                 <td>MLE</td>       <th>  Df Model:          </th>   <td>     3</td>  \n",
       "</tr>\n",
       "<tr>\n",
       "  <th>Date:</th>            <td>Wed, 26 Jul 2023</td> <th>  Pseudo R-squ.:     </th>   <td>0.04094</td> \n",
       "</tr>\n",
       "<tr>\n",
       "  <th>Time:</th>                <td>13:17:45</td>     <th>  Log-Likelihood:    </th>  <td> -8046.2</td> \n",
       "</tr>\n",
       "<tr>\n",
       "  <th>converged:</th>             <td>True</td>       <th>  LL-Null:           </th>  <td> -8389.7</td> \n",
       "</tr>\n",
       "<tr>\n",
       "  <th>Covariance Type:</th>     <td>nonrobust</td>    <th>  LLR p-value:       </th> <td>1.416e-148</td>\n",
       "</tr>\n",
       "</table>\n",
       "<table class=\"simpletable\">\n",
       "<tr>\n",
       "         <td></td>           <th>coef</th>     <th>std err</th>      <th>z</th>      <th>P>|z|</th>  <th>[0.025</th>    <th>0.975]</th>  \n",
       "</tr>\n",
       "<tr>\n",
       "  <th>const</th>          <td>   -2.2196</td> <td>    0.074</td> <td>  -30.004</td> <td> 0.000</td> <td>   -2.365</td> <td>   -2.075</td>\n",
       "</tr>\n",
       "<tr>\n",
       "  <th>Sexo_M</th>         <td>   -0.1564</td> <td>    0.043</td> <td>   -3.638</td> <td> 0.000</td> <td>   -0.241</td> <td>   -0.072</td>\n",
       "</tr>\n",
       "<tr>\n",
       "  <th>Edad</th>           <td>    0.0176</td> <td>    0.002</td> <td>   10.559</td> <td> 0.000</td> <td>    0.014</td> <td>    0.021</td>\n",
       "</tr>\n",
       "<tr>\n",
       "  <th>Prom_facturado</th> <td>-1.287e-05</td> <td> 6.09e-07</td> <td>  -21.123</td> <td> 0.000</td> <td>-1.41e-05</td> <td>-1.17e-05</td>\n",
       "</tr>\n",
       "</table>"
      ],
      "text/plain": [
       "<class 'statsmodels.iolib.summary.Summary'>\n",
       "\"\"\"\n",
       "                           Logit Regression Results                           \n",
       "==============================================================================\n",
       "Dep. Variable:                 Target   No. Observations:                28432\n",
       "Model:                          Logit   Df Residuals:                    28428\n",
       "Method:                           MLE   Df Model:                            3\n",
       "Date:                Wed, 26 Jul 2023   Pseudo R-squ.:                 0.04094\n",
       "Time:                        13:17:45   Log-Likelihood:                -8046.2\n",
       "converged:                       True   LL-Null:                       -8389.7\n",
       "Covariance Type:            nonrobust   LLR p-value:                1.416e-148\n",
       "==================================================================================\n",
       "                     coef    std err          z      P>|z|      [0.025      0.975]\n",
       "----------------------------------------------------------------------------------\n",
       "const             -2.2196      0.074    -30.004      0.000      -2.365      -2.075\n",
       "Sexo_M            -0.1564      0.043     -3.638      0.000      -0.241      -0.072\n",
       "Edad               0.0176      0.002     10.559      0.000       0.014       0.021\n",
       "Prom_facturado -1.287e-05   6.09e-07    -21.123      0.000   -1.41e-05   -1.17e-05\n",
       "==================================================================================\n",
       "\"\"\""
      ]
     },
     "execution_count": 41,
     "metadata": {},
     "output_type": "execute_result"
    }
   ],
   "source": [
    "model_logist.summary()"
   ]
  },
  {
   "cell_type": "code",
   "execution_count": 8,
   "id": "9961545e",
   "metadata": {},
   "outputs": [
    {
     "data": {
      "text/html": [
       "<div>\n",
       "<style scoped>\n",
       "    .dataframe tbody tr th:only-of-type {\n",
       "        vertical-align: middle;\n",
       "    }\n",
       "\n",
       "    .dataframe tbody tr th {\n",
       "        vertical-align: top;\n",
       "    }\n",
       "\n",
       "    .dataframe thead th {\n",
       "        text-align: right;\n",
       "    }\n",
       "</style>\n",
       "<table border=\"1\" class=\"dataframe\">\n",
       "  <thead>\n",
       "    <tr style=\"text-align: right;\">\n",
       "      <th></th>\n",
       "      <th>Probabilidad/OR</th>\n",
       "      <th>Chances</th>\n",
       "    </tr>\n",
       "  </thead>\n",
       "  <tbody>\n",
       "    <tr>\n",
       "      <th>Sexo_M</th>\n",
       "      <td>0.855196</td>\n",
       "      <td>0.144804</td>\n",
       "    </tr>\n",
       "    <tr>\n",
       "      <th>Edad</th>\n",
       "      <td>1.017781</td>\n",
       "      <td>-0.017781</td>\n",
       "    </tr>\n",
       "    <tr>\n",
       "      <th>Prom_facturado</th>\n",
       "      <td>0.999987</td>\n",
       "      <td>0.000013</td>\n",
       "    </tr>\n",
       "  </tbody>\n",
       "</table>\n",
       "</div>"
      ],
      "text/plain": [
       "                Probabilidad/OR   Chances\n",
       "Sexo_M                 0.855196  0.144804\n",
       "Edad                   1.017781 -0.017781\n",
       "Prom_facturado         0.999987  0.000013"
      ]
     },
     "execution_count": 8,
     "metadata": {},
     "output_type": "execute_result"
    }
   ],
   "source": [
    "import numpy as np\n",
    "tabla = pd.DataFrame({'Probabilidad/OR' : (np.exp(model_logist.params[1:])), \n",
    "              'Chances': (1-np.exp(model_logist.params[1:]))})\n",
    "tabla"
   ]
  },
  {
   "cell_type": "markdown",
   "id": "b8316756",
   "metadata": {},
   "source": [
    "* El riesgo de fuga de un cliente es menor si es de sexo mujer respecto del sexo hombre (14% menos de chance de fugarse si es mujer).\n",
    "\n",
    "* A medida que aumenta la edad, existe un mayor riesgo de fugarse. En particular, se tienen que con cada un año de edad, se aumenta en un 1% las chances de fugarse en comparación al nivel anterior.\n",
    "\n",
    "* A medida que aumenta el promedio facturado, existe menor riesgo de fugarse. En particular, se tienen que con cada un unidad de promedio facturado, se disminuye en un 0.000013% las chances de fugarse en comparación al nivel anterior."
   ]
  },
  {
   "cell_type": "markdown",
   "id": "a378431f",
   "metadata": {},
   "source": [
    "c.2) En base al modelo obtenido, ¿en cuánto cambia el riesgo de fugarse un cliente de 34 años con relación a una de 24 años?"
   ]
  },
  {
   "cell_type": "code",
   "execution_count": 73,
   "id": "2e0b96aa",
   "metadata": {},
   "outputs": [
    {
     "data": {
      "text/plain": [
       "1.1961176257718131"
      ]
     },
     "execution_count": 73,
     "metadata": {},
     "output_type": "execute_result"
    }
   ],
   "source": [
    "np.exp(0.0179081*34)/(np.exp(0.0179081*24))\n",
    "## [1] 1.196118"
   ]
  },
  {
   "cell_type": "markdown",
   "id": "3bf6e675",
   "metadata": {},
   "source": [
    "Sabemos que, por cada unidad de aumento de la edad, el logaritmo de las chances de fugarse aumenta en 0.0179081.\n",
    "\n",
    "Para una persona de 34 y 24 años la diferencia es de 10 años, por ende, las probabilidades de fugarse de una persona de 34 años respecto a una persona de 24 son 1.19. Es decir, una persona de 34 años tiene 19% más de chances de fugarse que una de 24 años."
   ]
  },
  {
   "cell_type": "markdown",
   "id": "076d813a",
   "metadata": {},
   "source": [
    "\n",
    "#### d) Utilizando un método automatizado, encuentre el modelo óptimo usando como criterio el criterio de información de Akaike (AIC). "
   ]
  },
  {
   "cell_type": "code",
   "execution_count": 9,
   "id": "8fcb71d9",
   "metadata": {},
   "outputs": [
    {
     "name": "stdout",
     "output_type": "stream",
     "text": [
      "Made by Esteban Rucán. Contact me in LinkedIn: https://www.linkedin.com/in/estebanrucan/\n"
     ]
    }
   ],
   "source": [
    "from estyp.linear_model import LogisticRegression"
   ]
  },
  {
   "cell_type": "code",
   "execution_count": 10,
   "id": "ef73b660",
   "metadata": {},
   "outputs": [],
   "source": [
    "from estyp.linear_model.stepwise import both_selection"
   ]
  },
  {
   "cell_type": "code",
   "execution_count": 11,
   "id": "1e6662a5",
   "metadata": {},
   "outputs": [],
   "source": [
    "df_train = pd.concat([X_train, y_train], axis = 1)"
   ]
  },
  {
   "cell_type": "code",
   "execution_count": 12,
   "id": "14d8ccde",
   "metadata": {},
   "outputs": [
    {
     "data": {
      "text/plain": [
       "'Target ~ Edad + Antiguedad + TC + Cupo_TC + N_meses_activo + N_meses_avances + N_transacciones + Prom_revolving_TC + Prom_facturado + Prom_pagos + Prom_uso_TC + Sexo_M + Internauta_1'"
      ]
     },
     "execution_count": 12,
     "metadata": {},
     "output_type": "execute_result"
    }
   ],
   "source": [
    "formula_todos = 'Target ~ ' + ' + '.join(X_train.columns) \n",
    "formula_todos"
   ]
  },
  {
   "cell_type": "code",
   "execution_count": 13,
   "id": "2dd33bfa",
   "metadata": {},
   "outputs": [
    {
     "name": "stdout",
     "output_type": "stream",
     "text": [
      "Este proceso tarda un buen tiempo ¡Paciencia! Momento de cuestionarte si eres feliz.\n",
      "AIC Inicial: 17558.85\n",
      "No hay mejoras en el AIC, por lo que no se eliminarán variables.\n"
     ]
    }
   ],
   "source": [
    "from estyp.linear_model import LogisticRegression\n",
    "from estyp.linear_model.stepwise import both_selection\n",
    "from warnings import filterwarnings\n",
    "filterwarnings(\"ignore\")\n",
    "\n",
    "formula_resultante = both_selection(\n",
    "    formula = formula_todos,\n",
    "    data    = df_train,\n",
    "    model   = LogisticRegression\n",
    ")"
   ]
  },
  {
   "cell_type": "markdown",
   "id": "6966727d",
   "metadata": {},
   "source": [
    "#### e) Utilizando la base de validación y el modelo obtenido en base al método backward, calcule las probabilidades de fugarse del banco."
   ]
  },
  {
   "cell_type": "code",
   "execution_count": 14,
   "id": "fedb79d2",
   "metadata": {},
   "outputs": [
    {
     "data": {
      "text/plain": [
       "'Target ~ Edad + Antiguedad + TC + Cupo_TC + N_meses_activo + N_meses_avances + N_transacciones + Prom_revolving_TC + Prom_facturado + Prom_pagos + Prom_uso_TC + Sexo_M + Internauta_1'"
      ]
     },
     "execution_count": 14,
     "metadata": {},
     "output_type": "execute_result"
    }
   ],
   "source": [
    "formula_resultante"
   ]
  },
  {
   "cell_type": "code",
   "execution_count": 15,
   "id": "036237d9",
   "metadata": {},
   "outputs": [
    {
     "name": "stdout",
     "output_type": "stream",
     "text": [
      "Optimization terminated successfully.\n",
      "         Current function value: 0.262343\n",
      "         Iterations 8\n"
     ]
    }
   ],
   "source": [
    "import statsmodels.formula.api as smf\n",
    "model = smf.logit(formula_resultante, data = df_train).fit()"
   ]
  },
  {
   "cell_type": "code",
   "execution_count": 98,
   "id": "2b3a9b2c",
   "metadata": {},
   "outputs": [
    {
     "data": {
      "text/html": [
       "<table class=\"simpletable\">\n",
       "<caption>Logit Regression Results</caption>\n",
       "<tr>\n",
       "  <th>Dep. Variable:</th>        <td>Target</td>      <th>  No. Observations:  </th>  <td> 28432</td> \n",
       "</tr>\n",
       "<tr>\n",
       "  <th>Model:</th>                 <td>Logit</td>      <th>  Df Residuals:      </th>  <td> 28420</td> \n",
       "</tr>\n",
       "<tr>\n",
       "  <th>Method:</th>                 <td>MLE</td>       <th>  Df Model:          </th>  <td>    11</td> \n",
       "</tr>\n",
       "<tr>\n",
       "  <th>Date:</th>            <td>Mon, 24 Jul 2023</td> <th>  Pseudo R-squ.:     </th>  <td>0.1168</td> \n",
       "</tr>\n",
       "<tr>\n",
       "  <th>Time:</th>                <td>18:01:04</td>     <th>  Log-Likelihood:    </th> <td> -7413.8</td>\n",
       "</tr>\n",
       "<tr>\n",
       "  <th>converged:</th>             <td>True</td>       <th>  LL-Null:           </th> <td> -8394.4</td>\n",
       "</tr>\n",
       "<tr>\n",
       "  <th>Covariance Type:</th>     <td>nonrobust</td>    <th>  LLR p-value:       </th>  <td> 0.000</td> \n",
       "</tr>\n",
       "</table>\n",
       "<table class=\"simpletable\">\n",
       "<tr>\n",
       "          <td></td>             <th>coef</th>     <th>std err</th>      <th>z</th>      <th>P>|z|</th>  <th>[0.025</th>    <th>0.975]</th>  \n",
       "</tr>\n",
       "<tr>\n",
       "  <th>Intercept</th>         <td>   -0.6640</td> <td>    0.107</td> <td>   -6.234</td> <td> 0.000</td> <td>   -0.873</td> <td>   -0.455</td>\n",
       "</tr>\n",
       "<tr>\n",
       "  <th>Edad</th>              <td>    0.0066</td> <td>    0.002</td> <td>    3.061</td> <td> 0.002</td> <td>    0.002</td> <td>    0.011</td>\n",
       "</tr>\n",
       "<tr>\n",
       "  <th>Antiguedad</th>        <td>   -0.0012</td> <td>    0.001</td> <td>   -1.461</td> <td> 0.144</td> <td>   -0.003</td> <td>    0.000</td>\n",
       "</tr>\n",
       "<tr>\n",
       "  <th>TC</th>                <td>   -0.1371</td> <td>    0.028</td> <td>   -4.899</td> <td> 0.000</td> <td>   -0.192</td> <td>   -0.082</td>\n",
       "</tr>\n",
       "<tr>\n",
       "  <th>N_meses_activo</th>    <td>   -0.1178</td> <td>    0.009</td> <td>  -12.740</td> <td> 0.000</td> <td>   -0.136</td> <td>   -0.100</td>\n",
       "</tr>\n",
       "<tr>\n",
       "  <th>N_transacciones</th>   <td>   -0.0051</td> <td>    0.002</td> <td>   -2.998</td> <td> 0.003</td> <td>   -0.008</td> <td>   -0.002</td>\n",
       "</tr>\n",
       "<tr>\n",
       "  <th>Prom_revolving_TC</th> <td> 1.527e-06</td> <td>  8.7e-08</td> <td>   17.552</td> <td> 0.000</td> <td> 1.36e-06</td> <td>  1.7e-06</td>\n",
       "</tr>\n",
       "<tr>\n",
       "  <th>Prom_facturado</th>    <td>-5.315e-06</td> <td> 8.07e-07</td> <td>   -6.585</td> <td> 0.000</td> <td> -6.9e-06</td> <td>-3.73e-06</td>\n",
       "</tr>\n",
       "<tr>\n",
       "  <th>Prom_pagos</th>        <td>-4.646e-06</td> <td> 6.17e-07</td> <td>   -7.528</td> <td> 0.000</td> <td>-5.86e-06</td> <td>-3.44e-06</td>\n",
       "</tr>\n",
       "<tr>\n",
       "  <th>Prom_uso_TC</th>       <td> 5.099e-07</td> <td> 4.52e-08</td> <td>   11.273</td> <td> 0.000</td> <td> 4.21e-07</td> <td> 5.99e-07</td>\n",
       "</tr>\n",
       "<tr>\n",
       "  <th>Sexo_M</th>            <td>   -0.1468</td> <td>    0.044</td> <td>   -3.300</td> <td> 0.001</td> <td>   -0.234</td> <td>   -0.060</td>\n",
       "</tr>\n",
       "<tr>\n",
       "  <th>Internauta_1</th>      <td>   -0.6144</td> <td>    0.048</td> <td>  -12.735</td> <td> 0.000</td> <td>   -0.709</td> <td>   -0.520</td>\n",
       "</tr>\n",
       "</table>"
      ],
      "text/plain": [
       "<class 'statsmodels.iolib.summary.Summary'>\n",
       "\"\"\"\n",
       "                           Logit Regression Results                           \n",
       "==============================================================================\n",
       "Dep. Variable:                 Target   No. Observations:                28432\n",
       "Model:                          Logit   Df Residuals:                    28420\n",
       "Method:                           MLE   Df Model:                           11\n",
       "Date:                Mon, 24 Jul 2023   Pseudo R-squ.:                  0.1168\n",
       "Time:                        18:01:04   Log-Likelihood:                -7413.8\n",
       "converged:                       True   LL-Null:                       -8394.4\n",
       "Covariance Type:            nonrobust   LLR p-value:                     0.000\n",
       "=====================================================================================\n",
       "                        coef    std err          z      P>|z|      [0.025      0.975]\n",
       "-------------------------------------------------------------------------------------\n",
       "Intercept            -0.6640      0.107     -6.234      0.000      -0.873      -0.455\n",
       "Edad                  0.0066      0.002      3.061      0.002       0.002       0.011\n",
       "Antiguedad           -0.0012      0.001     -1.461      0.144      -0.003       0.000\n",
       "TC                   -0.1371      0.028     -4.899      0.000      -0.192      -0.082\n",
       "N_meses_activo       -0.1178      0.009    -12.740      0.000      -0.136      -0.100\n",
       "N_transacciones      -0.0051      0.002     -2.998      0.003      -0.008      -0.002\n",
       "Prom_revolving_TC  1.527e-06    8.7e-08     17.552      0.000    1.36e-06     1.7e-06\n",
       "Prom_facturado    -5.315e-06   8.07e-07     -6.585      0.000    -6.9e-06   -3.73e-06\n",
       "Prom_pagos        -4.646e-06   6.17e-07     -7.528      0.000   -5.86e-06   -3.44e-06\n",
       "Prom_uso_TC        5.099e-07   4.52e-08     11.273      0.000    4.21e-07    5.99e-07\n",
       "Sexo_M               -0.1468      0.044     -3.300      0.001      -0.234      -0.060\n",
       "Internauta_1         -0.6144      0.048    -12.735      0.000      -0.709      -0.520\n",
       "=====================================================================================\n",
       "\"\"\""
      ]
     },
     "execution_count": 98,
     "metadata": {},
     "output_type": "execute_result"
    }
   ],
   "source": [
    "model.summary()"
   ]
  },
  {
   "cell_type": "markdown",
   "id": "5abeda85",
   "metadata": {},
   "source": [
    "#### f) Evalúe el modelo, para ello obtenga e interprete los siguientes estadísticos, ocupando los datos de entrenamiento y prueba. Comente los resultados.\n",
    "\n",
    "f.1) Test de Kolmogorov - Smirnov"
   ]
  },
  {
   "cell_type": "markdown",
   "id": "310a6ed5",
   "metadata": {},
   "source": [
    "* Base de entrenamiento"
   ]
  },
  {
   "cell_type": "code",
   "execution_count": 16,
   "id": "843c75bc",
   "metadata": {},
   "outputs": [],
   "source": [
    "y_prob = model.predict(X_train)"
   ]
  },
  {
   "cell_type": "code",
   "execution_count": 17,
   "id": "244c2297",
   "metadata": {},
   "outputs": [],
   "source": [
    "y_prob2 = np.array(pd.concat([1-y_prob, y_prob], axis = 1))"
   ]
  },
  {
   "cell_type": "code",
   "execution_count": 18,
   "id": "9066ac31",
   "metadata": {},
   "outputs": [
    {
     "data": {
      "text/plain": [
       "31629    0.081357\n",
       "12499    0.028561\n",
       "11204    0.199288\n",
       "27340    0.210066\n",
       "19042    0.262909\n",
       "           ...   \n",
       "7605     0.064644\n",
       "26513    0.040767\n",
       "357      0.078978\n",
       "470      0.054802\n",
       "22041    0.091356\n",
       "Length: 28432, dtype: float64"
      ]
     },
     "execution_count": 18,
     "metadata": {},
     "output_type": "execute_result"
    }
   ],
   "source": [
    "y_prob"
   ]
  },
  {
   "cell_type": "code",
   "execution_count": 58,
   "id": "c32ea5f8",
   "metadata": {},
   "outputs": [
    {
     "data": {
      "image/png": "[encoded data removed]",
      "text/plain": [
       "<Figure size 640x480 with 1 Axes>"
      ]
     },
     "metadata": {},
     "output_type": "display_data"
    }
   ],
   "source": [
    "import scikitplot.metrics as skplt\n",
    "skplt.plot_ks_statistic(y_train, y_prob2);"
   ]
  },
  {
   "cell_type": "markdown",
   "id": "057b9fd5",
   "metadata": {},
   "source": [
    "* Base de testeo"
   ]
  },
  {
   "cell_type": "code",
   "execution_count": 59,
   "id": "5bfa1b49",
   "metadata": {},
   "outputs": [],
   "source": [
    "y_prob_test = model.predict(X_test)\n",
    "y_prob3 = np.array(pd.concat([1-y_prob_test, y_prob_test], axis = 1))"
   ]
  },
  {
   "cell_type": "code",
   "execution_count": 60,
   "id": "b01c7fb3",
   "metadata": {},
   "outputs": [
    {
     "data": {
      "image/png": "[encoded data removed]",
      "text/plain": [
       "<Figure size 640x480 with 1 Axes>"
      ]
     },
     "metadata": {},
     "output_type": "display_data"
    }
   ],
   "source": [
    "import scikitplot.metrics as skplt\n",
    "skplt.plot_ks_statistic(y_test, y_prob3);"
   ]
  },
  {
   "cell_type": "markdown",
   "id": "65ccb16d",
   "metadata": {},
   "source": [
    "Se aprecia que los valores obtenidos son decentes, pero no lo suficientemente buenos. De todas formas, tanto en la base de entrenamiento como en la base de test, se obtienen valores similares, lo que indicaria que no existe un sobreajuste del modelo."
   ]
  },
  {
   "cell_type": "markdown",
   "id": "95bd4dbe",
   "metadata": {},
   "source": [
    "f.2) Test de Hosmer - Lemeshow\n"
   ]
  },
  {
   "cell_type": "code",
   "execution_count": 189,
   "id": "be9dfe05",
   "metadata": {},
   "outputs": [],
   "source": [
    "from scipy.stats import chi2\n",
    "def HL_test(y_prob, y, col_name_respuesta, corte):\n",
    "    \n",
    "  # Hoslem-Lemeshow Test\n",
    "    y_prob = pd.DataFrame(y_prob)\n",
    "    y_prob1 = pd.concat([y_prob, y], axis =1)\n",
    "    y_prob1['decile'] = pd.qcut(y_prob1[0], corte)\n",
    "    obsevents_pos = y_prob1[col_name_respuesta].groupby(y_prob1.decile).sum()\n",
    "    obsevents_neg = y_prob1[0].groupby(y_prob1.decile).count() - obsevents_pos\n",
    "    expevents_pos = y_prob1[0].groupby(y_prob1.decile).sum()\n",
    "    expevents_neg = y_prob1[0].groupby(y_prob1.decile).count() - expevents_pos\n",
    "    hl = ((obsevents_neg - expevents_neg)**2/expevents_neg).sum()+ ((obsevents_pos - expevents_pos)**2/expevents_pos).sum()\n",
    "    print('chi-square: {:.2f}'.format(hl))\n",
    "    ## df = group-2\n",
    "    pvalue=1-chi2.cdf(hl, corte - 2)\n",
    "    print('p-value: {:.2f}'.format(pvalue))"
   ]
  },
  {
   "cell_type": "code",
   "execution_count": 194,
   "id": "76f234d7",
   "metadata": {},
   "outputs": [
    {
     "name": "stdout",
     "output_type": "stream",
     "text": [
      "chi-square: 695067.97\n",
      "p-value: 0.00\n"
     ]
    }
   ],
   "source": [
    "col_name_respuesta = 'Target'\n",
    "corte = 10\n",
    "HL_test(y_prob2, y_test, col_name_respuesta, corte)"
   ]
  },
  {
   "cell_type": "code",
   "execution_count": 195,
   "id": "9507bca7",
   "metadata": {},
   "outputs": [
    {
     "name": "stdout",
     "output_type": "stream",
     "text": [
      "chi-square: 169357.61\n",
      "p-value: 0.00\n"
     ]
    }
   ],
   "source": [
    "HL_test(y_prob3, y_test, col_name_respuesta, corte)"
   ]
  },
  {
   "cell_type": "markdown",
   "id": "d3626d99",
   "metadata": {},
   "source": [
    "Como tenemos un valor-p de 0.0 < 0.05, por ende existe evidencia para rechazar que no existen diferencias entre los valores observados y pronosticados.\n",
    "\n"
   ]
  },
  {
   "cell_type": "markdown",
   "id": "0977d37c",
   "metadata": {},
   "source": [
    "#### g) El banco desea generar una campaña de retención de clientes. Para ello, usted debe identificar un punto de corte el cual optimice la sensibilidad del modelo, pero que cometa como máximo una tasa de falsos positivos (1 - Especificidad) de a lo más un 30%.\n"
   ]
  },
  {
   "cell_type": "code",
   "execution_count": 62,
   "id": "7638242f",
   "metadata": {},
   "outputs": [],
   "source": [
    "y_prob = model.predict(X_train)"
   ]
  },
  {
   "cell_type": "code",
   "execution_count": 63,
   "id": "1d486336",
   "metadata": {},
   "outputs": [
    {
     "data": {
      "image/png": "[encoded data removed]",
      "text/plain": [
       "<Figure size 640x480 with 1 Axes>"
      ]
     },
     "metadata": {},
     "output_type": "display_data"
    }
   ],
   "source": [
    "import matplotlib.pyplot as plt\n",
    "from sklearn.metrics import roc_auc_score\n",
    "from sklearn.metrics import roc_curve\n",
    "plt.style.use('ggplot')\n",
    "# ROC curve\n",
    "logit_roc_auc = roc_auc_score(y_train, y_prob)\n",
    "fpr, tpr, thresholds = roc_curve(y_train, y_prob)\n",
    "plt.figure()\n",
    "plt.plot(fpr, tpr, label='Logistic Regression (area = %0.2f)' % logit_roc_auc, color = 'dodgerblue')\n",
    "plt.fill_between(fpr, tpr, color='dodgerblue')\n",
    "plt.plot([0, 1], [0, 1],'b--')\n",
    "plt.xlabel('Falsos positivos')\n",
    "plt.ylabel('Verdaderos positivos')\n",
    "plt.legend(loc=\"lower right\")\n",
    "plt.title('ROC Curve')\n",
    "plt.show();"
   ]
  },
  {
   "cell_type": "code",
   "execution_count": 64,
   "id": "ec83d115",
   "metadata": {},
   "outputs": [],
   "source": [
    "df_resumen = pd.DataFrame({'Falsos Positivos': fpr, \n",
    "              'Verdaderos Positivos': tpr, \n",
    "              'umbral': thresholds})"
   ]
  },
  {
   "cell_type": "code",
   "execution_count": 65,
   "id": "53ec3909",
   "metadata": {},
   "outputs": [
    {
     "data": {
      "text/html": [
       "<div>\n",
       "<style scoped>\n",
       "    .dataframe tbody tr th:only-of-type {\n",
       "        vertical-align: middle;\n",
       "    }\n",
       "\n",
       "    .dataframe tbody tr th {\n",
       "        vertical-align: top;\n",
       "    }\n",
       "\n",
       "    .dataframe thead th {\n",
       "        text-align: right;\n",
       "    }\n",
       "</style>\n",
       "<table border=\"1\" class=\"dataframe\">\n",
       "  <thead>\n",
       "    <tr style=\"text-align: right;\">\n",
       "      <th></th>\n",
       "      <th>Falsos Positivos</th>\n",
       "      <th>Verdaderos Positivos</th>\n",
       "      <th>umbral</th>\n",
       "    </tr>\n",
       "  </thead>\n",
       "  <tbody>\n",
       "    <tr>\n",
       "      <th>0</th>\n",
       "      <td>0.000000</td>\n",
       "      <td>0.000000</td>\n",
       "      <td>1.981158</td>\n",
       "    </tr>\n",
       "    <tr>\n",
       "      <th>1</th>\n",
       "      <td>0.000039</td>\n",
       "      <td>0.000000</td>\n",
       "      <td>0.981158</td>\n",
       "    </tr>\n",
       "    <tr>\n",
       "      <th>2</th>\n",
       "      <td>0.000039</td>\n",
       "      <td>0.000405</td>\n",
       "      <td>0.978422</td>\n",
       "    </tr>\n",
       "    <tr>\n",
       "      <th>3</th>\n",
       "      <td>0.000193</td>\n",
       "      <td>0.000405</td>\n",
       "      <td>0.883773</td>\n",
       "    </tr>\n",
       "    <tr>\n",
       "      <th>4</th>\n",
       "      <td>0.000193</td>\n",
       "      <td>0.001216</td>\n",
       "      <td>0.855705</td>\n",
       "    </tr>\n",
       "    <tr>\n",
       "      <th>...</th>\n",
       "      <td>...</td>\n",
       "      <td>...</td>\n",
       "      <td>...</td>\n",
       "    </tr>\n",
       "    <tr>\n",
       "      <th>2622</th>\n",
       "      <td>0.297566</td>\n",
       "      <td>0.698541</td>\n",
       "      <td>0.095348</td>\n",
       "    </tr>\n",
       "    <tr>\n",
       "      <th>2623</th>\n",
       "      <td>0.298567</td>\n",
       "      <td>0.698541</td>\n",
       "      <td>0.095111</td>\n",
       "    </tr>\n",
       "    <tr>\n",
       "      <th>2624</th>\n",
       "      <td>0.298567</td>\n",
       "      <td>0.698947</td>\n",
       "      <td>0.095085</td>\n",
       "    </tr>\n",
       "    <tr>\n",
       "      <th>2625</th>\n",
       "      <td>0.299915</td>\n",
       "      <td>0.698947</td>\n",
       "      <td>0.094848</td>\n",
       "    </tr>\n",
       "    <tr>\n",
       "      <th>2626</th>\n",
       "      <td>0.299915</td>\n",
       "      <td>0.699352</td>\n",
       "      <td>0.094831</td>\n",
       "    </tr>\n",
       "  </tbody>\n",
       "</table>\n",
       "<p>2627 rows × 3 columns</p>\n",
       "</div>"
      ],
      "text/plain": [
       "      Falsos Positivos  Verdaderos Positivos    umbral\n",
       "0             0.000000              0.000000  1.981158\n",
       "1             0.000039              0.000000  0.981158\n",
       "2             0.000039              0.000405  0.978422\n",
       "3             0.000193              0.000405  0.883773\n",
       "4             0.000193              0.001216  0.855705\n",
       "...                ...                   ...       ...\n",
       "2622          0.297566              0.698541  0.095348\n",
       "2623          0.298567              0.698541  0.095111\n",
       "2624          0.298567              0.698947  0.095085\n",
       "2625          0.299915              0.698947  0.094848\n",
       "2626          0.299915              0.699352  0.094831\n",
       "\n",
       "[2627 rows x 3 columns]"
      ]
     },
     "execution_count": 65,
     "metadata": {},
     "output_type": "execute_result"
    }
   ],
   "source": [
    "df_resumen[df_resumen['Falsos Positivos'] < 0.3]"
   ]
  },
  {
   "cell_type": "code",
   "execution_count": 66,
   "id": "9bf341d0",
   "metadata": {},
   "outputs": [],
   "source": [
    "corte = 0.094831"
   ]
  },
  {
   "cell_type": "markdown",
   "id": "ba2b09d8",
   "metadata": {},
   "source": [
    "#### h) Con la base de entrenamiento y test, obtenga las matrices de confusión y los indicadores de:\n",
    "\n",
    "* Área bajo la curva\n",
    "* Sensibilidad\n",
    "* Especificidad\n",
    "* Precisión\n",
    "* F1 Score \n",
    "\n",
    "#### Comente."
   ]
  },
  {
   "cell_type": "code",
   "execution_count": 67,
   "id": "cdf423d3",
   "metadata": {},
   "outputs": [],
   "source": [
    "y_pred_train = (model.predict(X_train) > corte).astype(int)\n",
    "y_pred_test = (model.predict(X_test) > corte).astype(int)"
   ]
  },
  {
   "cell_type": "markdown",
   "id": "c4a77268",
   "metadata": {},
   "source": [
    "* Entrenamiento"
   ]
  },
  {
   "cell_type": "code",
   "execution_count": 68,
   "id": "b51f166f",
   "metadata": {},
   "outputs": [],
   "source": [
    "from sklearn.metrics import confusion_matrix\n",
    "confusion = confusion_matrix(y_train, y_pred_train, labels = [0, 1])"
   ]
  },
  {
   "cell_type": "code",
   "execution_count": 71,
   "id": "1dfe7905",
   "metadata": {},
   "outputs": [
    {
     "name": "stdout",
     "output_type": "stream",
     "text": [
      "Sensibilidad:  0.6989465153970826\n",
      "Especificidad: 0.7000847327068248\n",
      "Precisión: 0.18134987384356602\n",
      "F1-Score 0.2879799666110183\n",
      "Área bajo la curva: 0.6999859313449635\n"
     ]
    }
   ],
   "source": [
    "TP = confusion[1,1] # true positive\n",
    "TN = confusion[0,0] # true negatives\n",
    "FP = confusion[0,1] # false positives\n",
    "FN = confusion[1,0] # false negatives\n",
    "\n",
    "sensibilidad_train = TP / float(TP+FN)\n",
    "print('Sensibilidad: ', sensibilidad_train)\n",
    "especificidad_train = TN / float(TN+FP)\n",
    "print('Especificidad:', especificidad_train)\n",
    "precision_train = (TP) /(TP + FP)\n",
    "print('Precisión:', precision_train)\n",
    "#F1 = 2 * (precision * recall) / (precision + recall)\n",
    "recall = TP / (TP + FN) \n",
    "precision = (TP) /(TP + FP)\n",
    "F1_train = 2 * (precision * recall) / (precision + recall)\n",
    "print('F1-Score', F1_train)\n",
    "auc_train = (TP + TN) /(TP + TN + FN + FP)\n",
    "print('Área bajo la curva:', auc_train)"
   ]
  },
  {
   "cell_type": "markdown",
   "id": "59461534",
   "metadata": {},
   "source": [
    "* Validación"
   ]
  },
  {
   "cell_type": "code",
   "execution_count": 72,
   "id": "94110a8d",
   "metadata": {},
   "outputs": [],
   "source": [
    "confusion = confusion_matrix(y_test, y_pred_test, labels = [0, 1])"
   ]
  },
  {
   "cell_type": "code",
   "execution_count": 73,
   "id": "5fb0882c",
   "metadata": {},
   "outputs": [
    {
     "name": "stdout",
     "output_type": "stream",
     "text": [
      "Sensibilidad:  0.7229299363057324\n",
      "Especificidad: 0.6981481481481482\n",
      "Precisión: 0.1883817427385892\n",
      "F1-Score 0.29888084265964454\n",
      "Área bajo la curva: 0.7003376477208779\n"
     ]
    }
   ],
   "source": [
    "TP = confusion[1,1] # true positive\n",
    "TN = confusion[0,0] # true negatives\n",
    "FP = confusion[0,1] # false positives\n",
    "FN = confusion[1,0] # false negatives\n",
    "\n",
    "sensibilidad_test = TP / float(TP+FN)\n",
    "print('Sensibilidad: ', sensibilidad_test)\n",
    "especificidad_test = TN / float(TN+FP)\n",
    "print('Especificidad:', especificidad_test)\n",
    "precision_test = (TP) /(TP + FP)\n",
    "print('Precisión:', precision_test)\n",
    "#F1 = 2 * (precision * recall) / (precision + recall)\n",
    "recall = TP / (TP + FN) \n",
    "precision = (TP) /(TP + FP)\n",
    "F1_test = 2 * (precision * recall) / (precision + recall)\n",
    "print('F1-Score', F1_test)\n",
    "auc_test = (TP + TN) /(TP + TN + FN + FP)\n",
    "print('Área bajo la curva:', auc_test)"
   ]
  },
  {
   "cell_type": "code",
   "execution_count": 74,
   "id": "12909b9e",
   "metadata": {},
   "outputs": [],
   "source": [
    "train = [sensibilidad_train, especificidad_train, precision_train, F1_train, auc_train]\n",
    "test = [sensibilidad_test, especificidad_test, precision_test, F1_test, auc_test]"
   ]
  },
  {
   "cell_type": "code",
   "execution_count": 75,
   "id": "deb24c1b",
   "metadata": {},
   "outputs": [
    {
     "data": {
      "text/html": [
       "<div>\n",
       "<style scoped>\n",
       "    .dataframe tbody tr th:only-of-type {\n",
       "        vertical-align: middle;\n",
       "    }\n",
       "\n",
       "    .dataframe tbody tr th {\n",
       "        vertical-align: top;\n",
       "    }\n",
       "\n",
       "    .dataframe thead th {\n",
       "        text-align: right;\n",
       "    }\n",
       "</style>\n",
       "<table border=\"1\" class=\"dataframe\">\n",
       "  <thead>\n",
       "    <tr style=\"text-align: right;\">\n",
       "      <th></th>\n",
       "      <th>Entrenamineto</th>\n",
       "      <th>Validación</th>\n",
       "    </tr>\n",
       "  </thead>\n",
       "  <tbody>\n",
       "    <tr>\n",
       "      <th>Sensibilidad</th>\n",
       "      <td>0.698947</td>\n",
       "      <td>0.722930</td>\n",
       "    </tr>\n",
       "    <tr>\n",
       "      <th>Especificidad</th>\n",
       "      <td>0.700085</td>\n",
       "      <td>0.698148</td>\n",
       "    </tr>\n",
       "    <tr>\n",
       "      <th>Precisión</th>\n",
       "      <td>0.181350</td>\n",
       "      <td>0.188382</td>\n",
       "    </tr>\n",
       "    <tr>\n",
       "      <th>F1</th>\n",
       "      <td>0.287980</td>\n",
       "      <td>0.298881</td>\n",
       "    </tr>\n",
       "    <tr>\n",
       "      <th>AUC</th>\n",
       "      <td>0.699986</td>\n",
       "      <td>0.700338</td>\n",
       "    </tr>\n",
       "  </tbody>\n",
       "</table>\n",
       "</div>"
      ],
      "text/plain": [
       "               Entrenamineto  Validación\n",
       "Sensibilidad        0.698947    0.722930\n",
       "Especificidad       0.700085    0.698148\n",
       "Precisión           0.181350    0.188382\n",
       "F1                  0.287980    0.298881\n",
       "AUC                 0.699986    0.700338"
      ]
     },
     "execution_count": 75,
     "metadata": {},
     "output_type": "execute_result"
    }
   ],
   "source": [
    "pd.DataFrame({'Entrenamineto': train, \n",
    "              'Validación': test},\n",
    "            index = ['Sensibilidad', 'Especificidad', 'Precisión','F1', 'AUC'])"
   ]
  },
  {
   "cell_type": "markdown",
   "id": "3b846745",
   "metadata": {},
   "source": [
    "#### i) Se quiere aplicar una campaña a clientes probables de fugarse (ofrecer productos personalizados, mejores tasas de interés, aumento de cupo, etcétera). Si este cliente tiene las siguientes características en los últimos 12 meses:\n",
    "\n",
    "- Sexo: Masculino\n",
    "- Edad: 33 Años\n",
    "- Antiguedad: 10 meses\n",
    "- Internauta: Sí\n",
    "- Tarjetas de crédito: 2\n",
    "- Cupo_TC: 1.200.000\n",
    "- N_meses_activo: 7\n",
    "- N_meses_avances: 3\n",
    "- N_transacciones: 13\n",
    "- Prom_revolving_TC: 0\n",
    "- Prom_facturado: 532.132\n",
    "- Prom_pagos: 680.200\n",
    "- Prom_uso_TC: 720.120\n",
    "\n",
    "#### ¿Usted le aplicaría la campaña anti-fuga a este cliente?"
   ]
  },
  {
   "cell_type": "code",
   "execution_count": 80,
   "id": "ebc64d09",
   "metadata": {},
   "outputs": [],
   "source": [
    "prediction = pd.DataFrame({'Sexo_M': 1,\n",
    "                           'Edad': 33,\n",
    "                           'Antiguedad': 10,\n",
    "                           'Internauta_1': 1,\n",
    "                           'TC': 2,\n",
    "                           'Cupo_TC': 1200000,\n",
    "                           'N_meses_activo': 7,\n",
    "                           'N_meses_avances': 3,\n",
    "                           'N_transacciones': 13,\n",
    "                           'Prom_revolving_TC': 0,\n",
    "                           'Prom_facturado': 532.132,\n",
    "                           'Prom_pagos': 680200,\n",
    "                           'Prom_uso_TC': 720120}, index = [1])"
   ]
  },
  {
   "cell_type": "code",
   "execution_count": 81,
   "id": "e9dea1af",
   "metadata": {},
   "outputs": [
    {
     "data": {
      "text/plain": [
       "1    0.013206\n",
       "dtype: float64"
      ]
     },
     "execution_count": 81,
     "metadata": {},
     "output_type": "execute_result"
    }
   ],
   "source": [
    "model.predict(prediction)"
   ]
  },
  {
   "cell_type": "markdown",
   "id": "0d920f76",
   "metadata": {},
   "source": [
    "La probabilidad de fugarse es casi 0 para este cliente. No se recomienda aplicar campaña."
   ]
  },
  {
   "cell_type": "code",
   "execution_count": 83,
   "id": "41366e99",
   "metadata": {},
   "outputs": [],
   "source": [
    "import stepwise_regression"
   ]
  },
  {
   "cell_type": "code",
   "execution_count": 84,
   "id": "25a2f3fe",
   "metadata": {},
   "outputs": [],
   "source": [
    "?stepwise_regression"
   ]
  }
 ],
 "metadata": {
  "kernelspec": {
   "display_name": "Python 3 (ipykernel)",
   "language": "python",
   "name": "python3"
  },
  "language_info": {
   "codemirror_mode": {
    "name": "ipython",
    "version": 3
   },
   "file_extension": ".py",
   "mimetype": "text/x-python",
   "name": "python",
   "nbconvert_exporter": "python",
   "pygments_lexer": "ipython3",
   "version": "3.11.3"
  }
 },
 "nbformat": 4,
 "nbformat_minor": 5
}
